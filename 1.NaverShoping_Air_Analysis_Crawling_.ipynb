{
 "cells": [
  {
   "cell_type": "code",
   "execution_count": 2,
   "id": "accurate-grant",
   "metadata": {},
   "outputs": [],
   "source": [
    "# 1.라이브러리 불러오기\n",
    "from selenium import webdriver"
   ]
  },
  {
   "cell_type": "code",
   "execution_count": 3,
   "id": "destroyed-antique",
   "metadata": {},
   "outputs": [],
   "source": [
    "from bs4 import BeautifulSoup"
   ]
  },
  {
   "cell_type": "code",
   "execution_count": 6,
   "id": "atomic-tourist",
   "metadata": {},
   "outputs": [],
   "source": [
    "# 2.브라우저 열기\n",
    "browser = webdriver.Chrome('C:/informs/chromedriver.exe')"
   ]
  },
  {
   "cell_type": "code",
   "execution_count": 7,
   "id": "apart-graphics",
   "metadata": {},
   "outputs": [],
   "source": [
    "# 3.웹페이지 접속하기\n",
    "url = 'https://search.shopping.naver.com/catalog/21235122036?query=%EC%83%A4%EC%98%A4%EB%AF%B8%20%EB%AF%B8%EC%97%90%EC%96%B4&NaPm=ct%3Dklnoepgw%7Cci%3Df38929edc79c14267b0744a61c41cf31224b8274%7Ctr%3Dslsl%7Csn%3D95694%7Chk%3D54e790cb9f1341c10af58c38dbca5d515aaef8c3'\n",
    "browser.get(url)"
   ]
  },
  {
   "cell_type": "code",
   "execution_count": 11,
   "id": "governmental-surrey",
   "metadata": {},
   "outputs": [
    {
     "data": {
      "text/plain": [
       "20"
      ]
     },
     "execution_count": 11,
     "metadata": {},
     "output_type": "execute_result"
    }
   ],
   "source": [
    "# 4. 내가 수집하고 싶은 정보가 있따면 ->\n",
    "html = browser.page_source\n",
    "soup = BeautifulSoup(html, 'html.parser')\n",
    "\n",
    "#items = soup.select('ul.productList_list_seller___NsJk > li')\n",
    "#len(items)"
   ]
  },
  {
   "cell_type": "code",
   "execution_count": 16,
   "id": "polished-closure",
   "metadata": {},
   "outputs": [
    {
     "data": {
      "text/plain": [
       "20"
      ]
     },
     "execution_count": 16,
     "metadata": {},
     "output_type": "execute_result"
    }
   ],
   "source": [
    "# 5. 필요한 데이터만 수집하기 by BeautifulSoup\n",
    "#items = soup.select('li') # 태그명이 li인거 찾아줘...\n",
    "#items = soup.select('ul. > li') # \"ul태그 바로 아래 있는 li태그 찾아줘 \"\n",
    "items = soup.select('ul.productList_list_seller___NsJk > li') # \n",
    "len(items)"
   ]
  },
  {
   "cell_type": "code",
   "execution_count": 17,
   "id": "mental-stand",
   "metadata": {
    "collapsed": true
   },
   "outputs": [
    {
     "data": {
      "text/plain": [
       "<li class=\"\"><div class=\"productList_inner__3wBIh\"><div class=\"productList_mall__2P0lB\"><a class=\"productList_mall_link__1-Q4X\" data-evcr=\"evcr\" data-i=\"26188781496\" data-ms=\"17703\" data-nclick=\"N=a:prc*l.mall,i:26188781496,r:1\" data-t=\"PROD\" href=\"https://cr.shopping.naver.com/adcr.nhn?x=3ooRWiGd1%2BdTXsAIm2E%2BOP%2F%2F%2Fw%3D%3DsKHhaGvzXaEK7ttc3nR9Fg1KDdjlDSHjkl71DhAD1pCBXYMr64ruRQX0glQL3LbW4283rQIr60SwC8GYf9qSab6Nk92UHcJ12sM3FoLgtSGFV5QG91WbJMKrdyrSHsAEBNzIY9dsFykJdWu71zdSh7EhAoeh2t0RTTO6WWA9nPaYoPcrSIM90Mk1DjipKXZ%2FbnTIMco7g3yeJNvwQjN6PmP721SO8nUpkuFgLQWTKn%2B%2Ffe%2BbfS0MyM0MKhK5PYtiOfW5pAK5O3zhs72V7Fj3a4atMb8%2BbU5vYrF79c7hSHpfffisv5tHfoGFh7RH%2BtSaODg1f9vTf3Iez1Rjn58zRmkg5T5Bon9aiC0OQqtSl5Q3EooQiHhEfki%2BlE75jDz0HsCvAlcFT0kuNQSfoqqEY4QTDww6JWZC31SbUAvZE2poUnnnFTV7pKhz12AknqEX5jB5%2BwQwTWqlzZqCmwHkzL2VfOebZS17oAdxEbz6%2FmrPAWg9XdFyX1KK3o4%2BAzxzyY3UoMEPLZOSQcNDaytkIPU1FofMUFrckok2x3VXK7oSMCyW5wcMFQKNvlempngXEl9Yu1l%2BdwnMYbT3iRI%2F47m6ZFHUUkacmLfApOTrh8LWINN9RwalG9jaYNyWn%2FJby9FxkLbIeb1LLiVlgJxIhDZYHDZH84leiybJBFwL7vPk%3D&amp;nvMid=26188781496&amp;catId=50002543\" target=\"_blank\"><img alt=\"11번가\" height=\"25\" loading=\"lazy\" src=\"https://shopping-phinf.pstatic.net/20180724_20/e497f7c4-f68d-4e71-b13f-4c7f893e3f72.jpg\" width=\"65\"/><span class=\"productList_icons__ZT1-3\"></span></a></div><div class=\"productList_product__33BlD\"><a class=\"productList_title__uCZ0P\" data-evcr=\"evcr\" data-i=\"26188781496\" data-ms=\"17703\" data-nclick=\"N=a:prc*l.product,i:26188781496,r:1\" data-t=\"PROD\" href=\"https://cr.shopping.naver.com/adcr.nhn?x=3ooRWiGd1%2BdTXsAIm2E%2BOP%2F%2F%2Fw%3D%3DsKHhaGvzXaEK7ttc3nR9Fg1KDdjlDSHjkl71DhAD1pCBXYMr64ruRQX0glQL3LbW4283rQIr60SwC8GYf9qSab6Nk92UHcJ12sM3FoLgtSGFV5QG91WbJMKrdyrSHsAEBNzIY9dsFykJdWu71zdSh7EhAoeh2t0RTTO6WWA9nPaYoPcrSIM90Mk1DjipKXZ%2FbnTIMco7g3yeJNvwQjN6PmP721SO8nUpkuFgLQWTKn%2B%2Ffe%2BbfS0MyM0MKhK5PYtiOfW5pAK5O3zhs72V7Fj3a4atMb8%2BbU5vYrF79c7hSHpfffisv5tHfoGFh7RH%2BtSaODg1f9vTf3Iez1Rjn58zRmkg5T5Bon9aiC0OQqtSl5Q3EooQiHhEfki%2BlE75jDz0HsCvAlcFT0kuNQSfoqqEY4QTDww6JWZC31SbUAvZE2poUnnnFTV7pKhz12AknqEX5jB5%2BwQwTWqlzZqCmwHkzL2VfOebZS17oAdxEbz6%2FmrPAWg9XdFyX1KK3o4%2BAzxzyY3UoMEPLZOSQcNDaytkIPU1FofMUFrckok2x3VXK7oSMCyW5wcMFQKNvlempngXEl9Yu1l%2BdwnMYbT3iRI%2F47m6ZFHUUkacmLfApOTrh8LWINN9RwalG9jaYNyWn%2FJby9FxkLbIeb1LLiVlgJxIhDZYHDZH84leiybJBFwL7vPk%3D&amp;nvMid=26188781496&amp;catId=50002543\" target=\"_blank\">샤오미 미에어 3H 한글판 여우미 수입</a><div class=\"productList_desc__3oNao\">[삼성카드 1% 청구할인] [삼성/신한/KB국민/현대 100만원 이상 SK pay 결제 시 최대 22개월 무이자]  [삼성/신한/KB국민/현대/NH농협/삼성 20만원 이상 SKpay 결제 시 최대 12개월 무이자]</div><div class=\"productList_btn_area__1UyLf\"><div class=\"productList_btn__7xJQQ\"><button class=\"productList_btn_zzim__3PPf8\" data-i=\"26188781496\" data-nclick=\"N=a:prc*l.zzim,i:26188781496,r:1\" type=\"button\"><span>찜하기<em class=\"productList_num__js4UW\">0</em></span></button></div><div class=\"productList_btn__7xJQQ\"><a href=\"#\" role=\"button\">구매정보</a></div><div class=\"productList_btn__7xJQQ\"><a href=\"#\" role=\"button\">몰정보</a></div><div class=\"productList_btn__7xJQQ\"><a class=\"productList_btn_report__2Hv4h\" data-nclick=\"N=a:prc*l.report,i:26188781496,r:1\" href=\"#\" role=\"button\">신고하기</a></div></div></div><div class=\"productList_price__2FKhU\"><a class=\"productList_value__XRe6h\" data-evcr=\"evcr\" data-i=\"26188781496\" data-ms=\"17703\" data-nclick=\"N=a:prc*l.prc,i:26188781496,r:1\" data-t=\"PROD\" href=\"https://cr.shopping.naver.com/adcr.nhn?x=3ooRWiGd1%2BdTXsAIm2E%2BOP%2F%2F%2Fw%3D%3DsKHhaGvzXaEK7ttc3nR9Fg1KDdjlDSHjkl71DhAD1pCBXYMr64ruRQX0glQL3LbW4283rQIr60SwC8GYf9qSab6Nk92UHcJ12sM3FoLgtSGFV5QG91WbJMKrdyrSHsAEBNzIY9dsFykJdWu71zdSh7EhAoeh2t0RTTO6WWA9nPaYoPcrSIM90Mk1DjipKXZ%2FbnTIMco7g3yeJNvwQjN6PmP721SO8nUpkuFgLQWTKn%2B%2Ffe%2BbfS0MyM0MKhK5PYtiOfW5pAK5O3zhs72V7Fj3a4atMb8%2BbU5vYrF79c7hSHpfffisv5tHfoGFh7RH%2BtSaODg1f9vTf3Iez1Rjn58zRmkg5T5Bon9aiC0OQqtSl5Q3EooQiHhEfki%2BlE75jDz0HsCvAlcFT0kuNQSfoqqEY4QTDww6JWZC31SbUAvZE2poUnnnFTV7pKhz12AknqEX5jB5%2BwQwTWqlzZqCmwHkzL2VfOebZS17oAdxEbz6%2FmrPAWg9XdFyX1KK3o4%2BAzxzyY3UoMEPLZOSQcNDaytkIPU1FofMUFrckok2x3VXK7oSMCyW5wcMFQKNvlempngXEl9Yu1l%2BdwnMYbT3iRI%2F47m6ZFHUUkacmLfApOTrh8LWINN9RwalG9jaYNyWn%2FJby9FxkLbIeb1LLiVlgJxIhDZYHDZH84leiybJBFwL7vPk%3D&amp;nvMid=26188781496&amp;catId=50002543\" target=\"_blank\"><span><em>127,080</em>원</span></a><div class=\"productList_m_price__2hleC\"><span class=\"productList_ico_mobile__1M1ta\">모바일</span><span class=\"productList_m_value__swK7L\">126,700</span>원<a class=\"qr_btn_qr___zx54 g_btn_qr\" data-nclick=\"N=a:prc*l.prcqr\" href=\"#\" role=\"button\"><span>모바일</span> QR<span>코드</span></a></div><div class=\"productList_delivery__2BusJ\">2,500<!-- -->원</div><div class=\"productList_delivery_info__2W3PY productList_today__TfWqg\">오늘출발 (평일 14:00 주문마감)</div></div><div class=\"productList_benefit__cNkW9\"><a class=\"benefitLayer_benefit__6Fkx6\" href=\"#\" role=\"button\"></a></div></div></li>"
      ]
     },
     "execution_count": 17,
     "metadata": {},
     "output_type": "execute_result"
    }
   ],
   "source": [
    "items[0]"
   ]
  },
  {
   "cell_type": "code",
   "execution_count": 18,
   "id": "loved-tattoo",
   "metadata": {
    "collapsed": true
   },
   "outputs": [
    {
     "data": {
      "text/plain": [
       "<li class=\"\"><div class=\"productList_inner__3wBIh\"><div class=\"productList_mall__2P0lB\"><a class=\"productList_mall_link__1-Q4X\" data-evcr=\"evcr\" data-i=\"25703375900\" data-ms=\"280455\" data-nclick=\"N=a:prc*l.mall,i:25703375900,r:20\" data-t=\"PROD\" href=\"https://cr.shopping.naver.com/adcr.nhn?x=YVl%2FvEpiF74sYEZUsDjwVv%2F%2F%2Fw%3D%3DsGrvW4lTdTLiOieGLFLs%2F22MAiFq5Z6WlJ4K87RjxVDZXYMr64ruRQX0glQL3LbW41NCP%2B2rp%2BlnhzaxWfm6QJGTM7NcH0hh1XDMyZchgyWxV5QG91WbJMKrdyrSHsAEBNzIY9dsFykJdWu71zdSh7Hzd86rYgB0CTXD%2BO1ma76q9SPMalG%2F4NgoO75m6H9AznVvt%2BINNUGYVVRmqHFYoXw6d7wek6dztp9bXSRHNnfAX76N6B21SxKSBVHurGUC0M8OkYitpuK2na6nToNpF%2BLngnxQ7ssMZd09T0OjyjIz6602Btdnd2xektzxiEg1cEmfp4nFeWC6%2B%2F0mo4KhmFVyQRoyNihfmLmqcPbh8%2BwddHNFrqgOmPmDE5jzryp9zANIAO53vq7DmovV5uwCUq%2B13fT5iNoRJkdkLvbxU%2FaUPIf6QdEBuOTLvgWImOCbP5%2FZfUB9UMEtLx3naffcj4%2BiiQqdcn9BTufabBhcveLTOaPbm7oK3CdnlsbSMggXfaMEC590TJ7tjs8v%2FFpO2p%2Fp0Uov0H09OzPmI1%2BNwx6A%2BerUP6lb8VFVNwTRCna3AQWi7ElLOikwzLCrIUjKwddwgT2HGYi2caMxumwTyn14Rn9U6a6K60ibchDfB0pa9MGftGTl4S%2Bx7gt1Mg8Eb3Quw45pj0%2FL5GMqG1UPOhpaUb9joj36I8c5Y3W96%2BIF%2FuO4m8wb8a6aVvsfCvM6IWSw3SbCAwWzkrRuyIPYoSngoa7NyoCzX4qCiZRVOZiBH&amp;nvMid=25703375900&amp;catId=50002543\" target=\"_blank\"><img alt=\"G9\" height=\"25\" loading=\"lazy\" src=\"https://shopping-phinf.pstatic.net/20180914_4/00fc33d8-8100-4b26-8eab-479988d08c11.jpg\" width=\"65\"/><span class=\"productList_icons__ZT1-3\"></span></a></div><div class=\"productList_product__33BlD\"><a class=\"productList_title__uCZ0P\" data-evcr=\"evcr\" data-i=\"25703375900\" data-ms=\"280455\" data-nclick=\"N=a:prc*l.product,i:25703375900,r:20\" data-t=\"PROD\" href=\"https://cr.shopping.naver.com/adcr.nhn?x=YVl%2FvEpiF74sYEZUsDjwVv%2F%2F%2Fw%3D%3DsGrvW4lTdTLiOieGLFLs%2F22MAiFq5Z6WlJ4K87RjxVDZXYMr64ruRQX0glQL3LbW41NCP%2B2rp%2BlnhzaxWfm6QJGTM7NcH0hh1XDMyZchgyWxV5QG91WbJMKrdyrSHsAEBNzIY9dsFykJdWu71zdSh7Hzd86rYgB0CTXD%2BO1ma76q9SPMalG%2F4NgoO75m6H9AznVvt%2BINNUGYVVRmqHFYoXw6d7wek6dztp9bXSRHNnfAX76N6B21SxKSBVHurGUC0M8OkYitpuK2na6nToNpF%2BLngnxQ7ssMZd09T0OjyjIz6602Btdnd2xektzxiEg1cEmfp4nFeWC6%2B%2F0mo4KhmFVyQRoyNihfmLmqcPbh8%2BwddHNFrqgOmPmDE5jzryp9zANIAO53vq7DmovV5uwCUq%2B13fT5iNoRJkdkLvbxU%2FaUPIf6QdEBuOTLvgWImOCbP5%2FZfUB9UMEtLx3naffcj4%2BiiQqdcn9BTufabBhcveLTOaPbm7oK3CdnlsbSMggXfaMEC590TJ7tjs8v%2FFpO2p%2Fp0Uov0H09OzPmI1%2BNwx6A%2BerUP6lb8VFVNwTRCna3AQWi7ElLOikwzLCrIUjKwddwgT2HGYi2caMxumwTyn14Rn9U6a6K60ibchDfB0pa9MGftGTl4S%2Bx7gt1Mg8Eb3Quw45pj0%2FL5GMqG1UPOhpaUb9joj36I8c5Y3W96%2BIF%2FuO4m8wb8a6aVvsfCvM6IWSw3SbCAwWzkrRuyIPYoSngoa7NyoCzX4qCiZRVOZiBH&amp;nvMid=25703375900&amp;catId=50002543\" target=\"_blank\">샤오미 미에어 3H 여우미 정품 가성비 공기청정기 (G9단독특가 코로나 극복 프로모션) (설날 선물)</a><div class=\"productList_desc__3oNao\"></div><div class=\"productList_btn_area__1UyLf\"><div class=\"productList_btn__7xJQQ\"><button class=\"productList_btn_zzim__3PPf8\" data-i=\"25703375900\" data-nclick=\"N=a:prc*l.zzim,i:25703375900,r:20\" type=\"button\"><span>찜하기<em class=\"productList_num__js4UW\">1</em></span></button></div><div class=\"productList_btn__7xJQQ\"><a href=\"#\" role=\"button\">몰정보</a></div><div class=\"productList_btn__7xJQQ\"><a class=\"productList_btn_report__2Hv4h\" data-nclick=\"N=a:prc*l.report,i:25703375900,r:20\" href=\"#\" role=\"button\">신고하기</a></div></div></div><div class=\"productList_price__2FKhU\"><a class=\"productList_value__XRe6h\" data-evcr=\"evcr\" data-i=\"25703375900\" data-ms=\"280455\" data-nclick=\"N=a:prc*l.prc,i:25703375900,r:20\" data-t=\"PROD\" href=\"https://cr.shopping.naver.com/adcr.nhn?x=YVl%2FvEpiF74sYEZUsDjwVv%2F%2F%2Fw%3D%3DsGrvW4lTdTLiOieGLFLs%2F22MAiFq5Z6WlJ4K87RjxVDZXYMr64ruRQX0glQL3LbW41NCP%2B2rp%2BlnhzaxWfm6QJGTM7NcH0hh1XDMyZchgyWxV5QG91WbJMKrdyrSHsAEBNzIY9dsFykJdWu71zdSh7Hzd86rYgB0CTXD%2BO1ma76q9SPMalG%2F4NgoO75m6H9AznVvt%2BINNUGYVVRmqHFYoXw6d7wek6dztp9bXSRHNnfAX76N6B21SxKSBVHurGUC0M8OkYitpuK2na6nToNpF%2BLngnxQ7ssMZd09T0OjyjIz6602Btdnd2xektzxiEg1cEmfp4nFeWC6%2B%2F0mo4KhmFVyQRoyNihfmLmqcPbh8%2BwddHNFrqgOmPmDE5jzryp9zANIAO53vq7DmovV5uwCUq%2B13fT5iNoRJkdkLvbxU%2FaUPIf6QdEBuOTLvgWImOCbP5%2FZfUB9UMEtLx3naffcj4%2BiiQqdcn9BTufabBhcveLTOaPbm7oK3CdnlsbSMggXfaMEC590TJ7tjs8v%2FFpO2p%2Fp0Uov0H09OzPmI1%2BNwx6A%2BerUP6lb8VFVNwTRCna3AQWi7ElLOikwzLCrIUjKwddwgT2HGYi2caMxumwTyn14Rn9U6a6K60ibchDfB0pa9MGftGTl4S%2Bx7gt1Mg8Eb3Quw45pj0%2FL5GMqG1UPOhpaUb9joj36I8c5Y3W96%2BIF%2FuO4m8wb8a6aVvsfCvM6IWSw3SbCAwWzkrRuyIPYoSngoa7NyoCzX4qCiZRVOZiBH&amp;nvMid=25703375900&amp;catId=50002543\" target=\"_blank\"><span><em>150,000</em>원</span></a><div class=\"productList_delivery__2BusJ\">무료배송</div><div class=\"productList_delivery_info__2W3PY\"></div></div><div class=\"productList_benefit__cNkW9\"><a class=\"benefitLayer_benefit__6Fkx6\" href=\"#\" role=\"button\"></a></div></div></li>"
      ]
     },
     "execution_count": 18,
     "metadata": {},
     "output_type": "execute_result"
    }
   ],
   "source": [
    "items[-1]"
   ]
  },
  {
   "cell_type": "code",
   "execution_count": 33,
   "id": "sound-border",
   "metadata": {},
   "outputs": [
    {
     "name": "stdout",
     "output_type": "stream",
     "text": [
      "샤오미 미에어 3H 한글판 여우미 수입\n"
     ]
    }
   ],
   "source": [
    "item = items[0]\n",
    "title = item.select('a.productList_title__uCZ0P')[0].text.strip()\n",
    "print(title)"
   ]
  },
  {
   "cell_type": "code",
   "execution_count": 29,
   "id": "grateful-prairie",
   "metadata": {},
   "outputs": [
    {
     "name": "stdout",
     "output_type": "stream",
     "text": [
      "샤오미 미에어 3H 한글판 여우미 수입\n"
     ]
    }
   ],
   "source": [
    "title = item.select('div.productList_product__33BlD > a')[0].text.strip()\n",
    "print(title)"
   ]
  },
  {
   "cell_type": "code",
   "execution_count": 45,
   "id": "powerful-strategy",
   "metadata": {
    "collapsed": true
   },
   "outputs": [
    {
     "name": "stdout",
     "output_type": "stream",
     "text": [
      "https://cr.shopping.naver.com/adcr.nhn?x=3ooRWiGd1%2BdTXsAIm2E%2BOP%2F%2F%2Fw%3D%3DsKHhaGvzXaEK7ttc3nR9Fg1KDdjlDSHjkl71DhAD1pCBXYMr64ruRQX0glQL3LbW4283rQIr60SwC8GYf9qSab6Nk92UHcJ12sM3FoLgtSGFV5QG91WbJMKrdyrSHsAEBNzIY9dsFykJdWu71zdSh7EhAoeh2t0RTTO6WWA9nPaYoPcrSIM90Mk1DjipKXZ%2FbnTIMco7g3yeJNvwQjN6PmP721SO8nUpkuFgLQWTKn%2B%2Ffe%2BbfS0MyM0MKhK5PYtiOfW5pAK5O3zhs72V7Fj3a4atMb8%2BbU5vYrF79c7hSHpfffisv5tHfoGFh7RH%2BtSaODg1f9vTf3Iez1Rjn58zRmkg5T5Bon9aiC0OQqtSl5Q3EooQiHhEfki%2BlE75jDz0HsCvAlcFT0kuNQSfoqqEY4QTDww6JWZC31SbUAvZE2poUnnnFTV7pKhz12AknqEX5jB5%2BwQwTWqlzZqCmwHkzL2VfOebZS17oAdxEbz6%2FmrPAWg9XdFyX1KK3o4%2BAzxzyY3UoMEPLZOSQcNDaytkIPU1FofMUFrckok2x3VXK7oSMCyW5wcMFQKNvlempngXEl9Yu1l%2BdwnMYbT3iRI%2F47m6ZFHUUkacmLfApOTrh8LWINN9RwalG9jaYNyWn%2FJby9FxkLbIeb1LLiVlgJxIhDZYHDZH84leiybJBFwL7vPk%3D&nvMid=26188781496&catId=50002543\n"
     ]
    }
   ],
   "source": [
    "item = items[0]\n",
    "url = item.select('a.productList_title__uCZ0P')[0]['href']\n",
    "print(url)"
   ]
  },
  {
   "cell_type": "code",
   "execution_count": 161,
   "id": "falling-stone",
   "metadata": {},
   "outputs": [
    {
     "ename": "NameError",
     "evalue": "name 'results' is not defined",
     "output_type": "error",
     "traceback": [
      "\u001b[1;31m---------------------------------------------------------------------------\u001b[0m",
      "\u001b[1;31mNameError\u001b[0m                                 Traceback (most recent call last)",
      "\u001b[1;32m<ipython-input-161-da76883210cd>\u001b[0m in \u001b[0;36m<module>\u001b[1;34m\u001b[0m\n\u001b[0;32m     17\u001b[0m \u001b[1;31m#     print('*'*50)\u001b[0m\u001b[1;33m\u001b[0m\u001b[1;33m\u001b[0m\u001b[1;33m\u001b[0m\u001b[0m\n\u001b[0;32m     18\u001b[0m \u001b[0mdata\u001b[0m \u001b[1;33m=\u001b[0m \u001b[1;33m[\u001b[0m\u001b[0mtitle\u001b[0m\u001b[1;33m,\u001b[0m \u001b[0mmall\u001b[0m\u001b[1;33m,\u001b[0m \u001b[0mprice\u001b[0m\u001b[1;33m,\u001b[0m \u001b[0mdeli\u001b[0m\u001b[1;33m,\u001b[0m \u001b[0murl\u001b[0m\u001b[1;33m]\u001b[0m\u001b[1;33m\u001b[0m\u001b[1;33m\u001b[0m\u001b[0m\n\u001b[1;32m---> 19\u001b[1;33m \u001b[0mresults\u001b[0m\u001b[1;33m.\u001b[0m\u001b[0mappend\u001b[0m\u001b[1;33m(\u001b[0m\u001b[0mdata\u001b[0m\u001b[1;33m)\u001b[0m\u001b[1;33m\u001b[0m\u001b[1;33m\u001b[0m\u001b[0m\n\u001b[0m",
      "\u001b[1;31mNameError\u001b[0m: name 'results' is not defined"
     ]
    }
   ],
   "source": [
    "# 아이템별 원하는 정보 가져오기\n",
    "for item in items:\n",
    "    title = item.select('a.productList_title__uCZ0P')[0].text.strip()\n",
    "    url = item.select('a.productList_title__uCZ0P')[0]['href']\n",
    "    try:\n",
    "        mall = item.select('img')[0]['alt']\n",
    "    except:\n",
    "        mall = item.select('a.productList_mall_link__1-Q4X > span')[0].text\n",
    "    price = item.select('div> a > span')[1].text\n",
    "    deli = item.select('div.productList_delivery__2BusJ')[0].text[:-1]\n",
    "    if deli == '무료배':\n",
    "        deli = '0'\n",
    "    elif deli == '착불':\n",
    "        deli ='2500원'\n",
    "    deli = deli[:-1]\n",
    "#     print(title, mall, price, deli)\n",
    "#     print('*'*50)\n",
    "data = [title, mall, price, deli, url]\n",
    "results.append(data)"
   ]
  },
  {
   "cell_type": "code",
   "execution_count": 67,
   "id": "ranging-cross",
   "metadata": {},
   "outputs": [
    {
     "name": "stdout",
     "output_type": "stream",
     "text": [
      "\n"
     ]
    }
   ],
   "source": [
    "# 몰정보 찾기 1\n",
    "item = items[0]\n",
    "mall = item.select('img')[0]['alt']\n",
    "mall = item.select('a.productList_mall_link__1-Q4X > span')[0].text\n",
    "print(mall)"
   ]
  },
  {
   "cell_type": "code",
   "execution_count": null,
   "id": "difficult-bachelor",
   "metadata": {},
   "outputs": [],
   "source": [
    "1. img 태그 찾아줘 < 에러나면(없으면) span태그 찾아줘\n",
    "\n",
    "try:\n",
    "    A\n",
    "except:\n",
    "    Bprice = item.select('div> a > span')[1].text.strip()\n",
    "\n",
    "\n",
    "2. img/span -- 둘다 찾을수 있는 공통의 규칙"
   ]
  },
  {
   "cell_type": "code",
   "execution_count": null,
   "id": "foster-candle",
   "metadata": {},
   "outputs": [],
   "source": []
  },
  {
   "cell_type": "code",
   "execution_count": 155,
   "id": "printable-explanation",
   "metadata": {},
   "outputs": [
    {
     "name": "stdout",
     "output_type": "stream",
     "text": [
      "127,080원\n"
     ]
    }
   ],
   "source": [
    "#가격\n",
    "item = items[0]\n",
    "price = item.select('div> a > span')[1].text.strip()\n",
    "print(price)"
   ]
  },
  {
   "cell_type": "code",
   "execution_count": 157,
   "id": "shaped-validation",
   "metadata": {},
   "outputs": [
    {
     "name": "stdout",
     "output_type": "stream",
     "text": [
      "2,500\n"
     ]
    }
   ],
   "source": [
    "#배송\n",
    "item = items[0]\n",
    "deli = item.select('div.productList_delivery__2BusJ')[0].text[:-1]\n",
    "print(deli)"
   ]
  },
  {
   "cell_type": "code",
   "execution_count": 149,
   "id": "according-nursing",
   "metadata": {},
   "outputs": [
    {
     "name": "stdout",
     "output_type": "stream",
     "text": [
      "오늘출발 (평일 14:00 주문마감)\n"
     ]
    }
   ],
   "source": [
    "#배송정보\n",
    "item = items[0]\n",
    "deli_info = item.select('div.productList_delivery_info__2W3PY.productList_today__TfWqg')[0].text.strip()\n",
    "print(deli_info)"
   ]
  },
  {
   "cell_type": "code",
   "execution_count": 141,
   "id": "permanent-fairy",
   "metadata": {},
   "outputs": [
    {
     "name": "stdout",
     "output_type": "stream",
     "text": [
      "\n"
     ]
    }
   ],
   "source": [
    "#혜택\n",
    "item = items[0]\n",
    "benefit = item.select('div.productList_benefit__cNkW9')[0].text.strip()\n",
    "print(benefit)"
   ]
  },
  {
   "cell_type": "code",
   "execution_count": null,
   "id": "incoming-extension",
   "metadata": {},
   "outputs": [],
   "source": []
  }
 ],
 "metadata": {
  "kernelspec": {
   "display_name": "Python 3",
   "language": "python",
   "name": "python3"
  },
  "language_info": {
   "codemirror_mode": {
    "name": "ipython",
    "version": 3
   },
   "file_extension": ".py",
   "mimetype": "text/x-python",
   "name": "python",
   "nbconvert_exporter": "python",
   "pygments_lexer": "ipython3",
   "version": "3.8.8"
  },
  "toc": {
   "base_numbering": 1,
   "nav_menu": {},
   "number_sections": true,
   "sideBar": true,
   "skip_h1_title": false,
   "title_cell": "Table of Contents",
   "title_sidebar": "Contents",
   "toc_cell": false,
   "toc_position": {},
   "toc_section_display": true,
   "toc_window_display": false
  },
  "varInspector": {
   "cols": {
    "lenName": 16,
    "lenType": 16,
    "lenVar": 40
   },
   "kernels_config": {
    "python": {
     "delete_cmd_postfix": "",
     "delete_cmd_prefix": "del ",
     "library": "var_list.py",
     "varRefreshCmd": "print(var_dic_list())"
    },
    "r": {
     "delete_cmd_postfix": ") ",
     "delete_cmd_prefix": "rm(",
     "library": "var_list.r",
     "varRefreshCmd": "cat(var_dic_list()) "
    }
   },
   "types_to_exclude": [
    "module",
    "function",
    "builtin_function_or_method",
    "instance",
    "_Feature"
   ],
   "window_display": false
  }
 },
 "nbformat": 4,
 "nbformat_minor": 5
}
