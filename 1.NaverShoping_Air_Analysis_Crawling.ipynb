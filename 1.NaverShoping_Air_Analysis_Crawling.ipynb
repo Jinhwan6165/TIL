{
 "cells": [
  {
   "cell_type": "markdown",
   "metadata": {},
   "source": [
    "### 네이버쇼핑몰 크롤링 진행\n",
    "1. 크롬브라우저 열기\n",
    "2. 네이버쇼핑 접속하기\n",
    "3. 원하는 상품 조회하기\n",
    "4. 페이지 내 상품 정보 가져오기(20개)\n",
    "5. 여러 페이지 가져오기 \n",
    "6. 엑셀에 저장하기"
   ]
  },
  {
   "cell_type": "code",
   "execution_count": 1,
   "metadata": {},
   "outputs": [],
   "source": [
    "from selenium import webdriver"
   ]
  },
  {
   "cell_type": "code",
   "execution_count": 2,
   "metadata": {},
   "outputs": [],
   "source": [
    "from bs4 import BeautifulSoup   # B / S 대문자"
   ]
  },
  {
   "cell_type": "code",
   "execution_count": 3,
   "metadata": {},
   "outputs": [],
   "source": [
    "# 1. 크롬브라우저 열기\n",
    "browser = webdriver.Chrome('c:/informs/chromedriver.exe')"
   ]
  },
  {
   "cell_type": "code",
   "execution_count": 4,
   "metadata": {},
   "outputs": [],
   "source": [
    "# 2. 네이버쇼핑 접속하기\n",
    "## 네이버쇼핑 --> '샤오미 공기청정기' --> '샤오미 미에어 3H' --> 첫번째 탭에서 이동\n",
    "\n",
    "url = 'https://search.shopping.naver.com/catalog/21235122036?query=%EC%83%A4%EC%98%A4%EB%AF%B8%20%EB%AF%B8%EC%97%90%EC%96%B4&NaPm=ct%3Dklnoepgw%7Cci%3Df38929edc79c14267b0744a61c41cf31224b8274%7Ctr%3Dslsl%7Csn%3D95694%7Chk%3D54e790cb9f1341c10af58c38dbca5d515aaef8c3'\n",
    "browser.get(url)"
   ]
  },
  {
   "cell_type": "code",
   "execution_count": 5,
   "metadata": {},
   "outputs": [
    {
     "data": {
      "text/plain": [
       "20"
      ]
     },
     "execution_count": 5,
     "metadata": {},
     "output_type": "execute_result"
    }
   ],
   "source": [
    "# 4. 페이지 내 상품 정보 가져오기(20개)\n",
    "html = browser.page_source\n",
    "soup = BeautifulSoup(html, 'html.parser') \n",
    "items = soup.select('ul.productList_list_seller___NsJk > li')\n",
    "len(items)"
   ]
  },
  {
   "cell_type": "code",
   "execution_count": 6,
   "metadata": {},
   "outputs": [
    {
     "name": "stdout",
     "output_type": "stream",
     "text": [
      "샤오미 미에어 3H 한글판 여우미 수입\n",
      "https://cr.shopping.naver.com/adcr.nhn?x=R9ApPka%2BBw0IPIs8y2NgG%2F%2F%2F%2Fw%3D%3Ds5toeMuQdtkJ7%2BU1gE2Ojr1KDdjlDSHjkl71DhAD1pCBXYMr64ruRQX0glQL3LbW4ouAZpunR04MMjFnwK5%2F57uF81HrGHdN%2F99h2nxeF%2BcwbCTbyDiv1fX%2F%2BqdUsYo0xtxZCjsz9PJOJx%2FydlDEcskhAoeh2t0RTTO6WWA9nPaYoPcrSIM90Mk1DjipKXZ%2FbnTIMco7g3yeJNvwQjN6PmP721SO8nUpkuFgLQWTKn%2B%2Ffe%2BbfS0MyM0MKhK5PYtiOfW5pAK5O3zhs72V7Fj3a4atMb8%2BbU5vYrF79c7hSHpfffisv5tHfoGFh7RH%2BtSaODg1f9vTf3Iez1Rjn58zRmkg5T5Bon9aiC0OQqtSl5Q3Vc8cxLq40C1mQeHAFz%2BS%2FsCvAlcFT0kuNQSfoqqEY4QTDww6JWZC31SbUAvZE2poUnnnFTV7pKhz12AknqEX5jB5%2BwQwTWqlzZqCmwHkzL2VfOebZS17oAdxEbz6%2FmrPAWg9XdFyX1KK3o4%2BAzxzyY3UoMEPLZOSQcNDaytkIPU1FofMUFrckok2x3VXK7oSMCyW5wcMFQKNvlempngXEl9Yu1l%2BdwnMYbT3iRI%2F47m6ZFHUUkacmLfApOTrh8LWINN9RwalG9jaYNyWn%2FJby9FxkLbIeb1LLiVlgJxIhDZYHDZH84leiybJBFwL7vPk%3D&nvMid=26188781496&catId=50002543\n",
      "**************************************************\n",
      "[쿠팡 직수입] 샤오미 미에어 공기청정기 3H AC-M10-SC 45㎡\n",
      "https://cr.shopping.naver.com/adcr.nhn?x=3tNLfyTfO1LPoz65ILtHBf%2F%2F%2Fw%3D%3DsYjAgtsXT%2Fq9eWWBmOEkOinmVyujiOmivsazBoZq4AJR1TrE2QaAt84x67RbYd1c9PLa%2BK8%2FUQVC8fbjGyKNrPNKyZT0ny4RBlzkKk%2BZyxUZ171k1tEXDda1ncsJZ3oLWpsVLc8QFIytf0EU8brXxeaeBReS2eAnHF0WQDCquf3her%2FNlNQMie7Zc%2BFoNI%2FbShrj5p43KyGLkNGHpAKAf8XxU7m2NJZw3v%2BxF8Nk%2Fr6svacWUePtfB1UY%2B8nYALKuc45l2qEOFROlkvsuhcz6%2Br%2F%2Fsan6IuNi9jw9EI6fXPSKA8Ymr59MDWVce5FIrxBarvHBOq87qcM4aJZS51m9Usi30QtKP1mA7BYZPpxeJLcDieBYvAPV46rSxR8KTlq%2FtDdE4%2BSdZnrPRXHIfA1ENuJgktDSrfMdneHclipVnfrLqGZ%2B8HaRdx1Eefvgvy9kgOtOCBbky1IR8BlKV%2FAoJsShTMAoQz5H4kuJy2GBxAUKLvMWms5WxlLd8BZFjO%2Fx1Kp7d8fn71OEoJ36bQKWBvw%2FRqPXDtyTNckj7jCOMzQBsFkOvTWPBqVlQhtMoef%2BvnkkhocEjrszBpoyB6NYBiLzmwZzCtk2s3XxD6FCWz%2BB8dg0Mo%2Bbt1P%2BFq%2Bo%2BMDIGvvHbJCTgSHdEnbOwO48EENdXI%2FP8tfYCgtaIAehcvO8RmMbA01lYdKtnvNm%2F9s46pvezUj5%2B5YSUE5Gw9M9TJtwveLCnoOlXjQ%2FO8DI1oKEqtOVqWOwODOcCrivqF2F&nvMid=21232246729&catId=50002543\n",
      "**************************************************\n",
      "샤오미 샤오미 미에어 3H 여우미 정품 가성비 공기청정기\n",
      "https://cr.shopping.naver.com/adcr.nhn?x=aADu2e0FOl8piyvl56Rfhf%2F%2F%2Fw%3D%3DsQAqA3FgtDKhq7ElbnkNjJf%2BJ3JgC2hF0Wg4ZocofTypXYMr64ruRQX0glQL3LbW4cqJ13jWn1oMLMvLSgDavcz05k3k%2BPql1RvG3u4B5ybYbCTbyDiv1fX%2F%2BqdUsYo0xtxZCjsz9PJOJx%2FydlDEcsvPdXvbZ%2BiMk6inX5vmF9OLiqQtcyEWSFbNWraNLvLtJizQZ26I7qAQbGqfKtL7x9PGtddLCtmb3pFapofuSmT6ZgFoRZtDEfW3B1pn%2B4CPuouP69Jc9aEpPQFvKsxbFL6Tq%2FbD2MGowZHhNOyBhpCdP9GukyRRc35bcYyIud8JNWxldAFVI4wFGFYUqmhEUnTC%2Fe0UPOA9RYqHaWnRoKLMP3UXrRnMeMoQzwOc%2Bl6f4aNn9zRI2O8ilVDrYA5Vs6WmUQsig7egGLyUp1NsBjDbW4JMkFDVJLWcNKuarXQqaZV855tlLXugB3ERvPr%2Bas%2FdeBllbO6HVY6y%2BUcosUHAfaSqWydAaLwEZL13SWdGD6nq8dzGCH8U4910CvSqCHb4U4UmgKprgG3PG0s1eag7MTrArQZRj4J8Vi%2BCWxSwCqFT53S2X9PZWQyqLLE%2FlmW6ZFHUUkacmLfApOTrh8LWINN9RwalG9jaYNyWn%2FJby9FxkLbIeb1LLiVlgJxIhDTbsJhKBoHmUMDiaaZ2oq38%3D&nvMid=25693458256&catId=50002543\n",
      "**************************************************\n",
      "공기청정기 미에어3H 국내정식 AS2년 재고보유 [03/09 출고]\n",
      "https://cr.shopping.naver.com/adcr.nhn?x=%2Bdcim%2BsQpeK0YMTSD87JMv%2F%2F%2Fw%3D%3Dsq3URf7wuq8CYAhgxtVSx988y0beW4si7MPCofXZRgd9XYMr64ruRQX0glQL3LbW4sFA94ixik2FjfPjpq%2FK29hPBXlFNd7WwNlgdkZB73i0bCTbyDiv1fX%2F%2BqdUsYo0xtxZCjsz9PJOJx%2FydlDEcssu1rI7y%2Bnxga7qkc20jAaEHS16Mm4swTlRWNG5xgFwbvy04Ug0FJyRWtbPt%2BY6vbm6LibDB9GWVAH8ioOSYITHy2m%2FaceCFm97hR2thlFxRw6ZjbtkbN7RD61dGUzg7G441ZK8P3rauGK1tOXUp%2FMx%2BcSbhR3FXzyPzw%2FesNSW%2BcUImk7xusJ4pok6s%2BYNKsnACkvGPlCL5LJQHF%2FdaN2OabXuAr9IyKnKJZBvBTDYtcNz8%2BcOMUdm2VcKS9BKcTHXnlwqGkeawNAc4iUHqQWZLehMx3t98nI%2FefhS2w6jtpFf3PGOfJDjYFaTX0nehA16Kv1CC841xxwNvJdQc1WA4z6nmuzKN69j9KEL2pCFqB8caTx01TghFRsPM%2BFqPMiQYKhBv9ejUxX%2Bl4JZMmrflMxMQKL%2BL9MB7k2ZiCmpNRHbIuExrpeO4s9MZ9X1xv4rsAvz4nyILmhTX%2Bwyfw%2FaINN9RwalG9jaYNyWn%2FJby9FxkLbIeb1LLiVlgJxIhDejyPkYZSWcw2ClIQabF7P8%3D&nvMid=82370880874&catId=50002543\n",
      "**************************************************\n",
      "[샤오미] 공기청정기 미에어3H 국내정식발매\n",
      "https://cr.shopping.naver.com/adcr.nhn?x=6LfkA6EfwwWKqNPAMVvP%2BP%2F%2F%2Fw%3D%3DsWj3MgKgGQFdniG8oncV%2FyI6xEkAdQefR3ST9kKakKUpXYMr64ruRQX0glQL3LbW4HNfbCIJwo7MYZxNXCg7S3SmH%2Fq%2BExGVLxO75AcFGl8MbCTbyDiv1fX%2F%2BqdUsYo0xtxZCjsz9PJOJx%2FydlDEcslF2zq3xAH8xYx1co0ZfY8h57m6QRy%2FLo%2F5V3cXssw8Qh6K4EtuAbHyAzSJe6Xk1d0E901dtDmFNg%2FDjRgxWQ4%2BOwFNWopCFAWSt4IlAiD4NkNDrqgFKecncmuTbeU2Kja7xwTqvO6nDOGiWUudZvVLIt9ELSj9ZgOwWGT6cXiS3A4ngWLwD1eOq0sUfCk5av7Q3ROPknWZ6z0VxyHwNRDbCJ15CWhSp3YcxSNJAk%2F5UdMsK2eW%2Bed%2BfkWdTQLABc8mOK1Nfh8aAZML4oGR%2FNYKLe3v%2Bi6NRVUrQ6X9GHh%2BSBlSY0DiDEtN5td2AJ8xQ0GckW7iU9ukqUhqheJBDK5NLehMx3t98nI%2FefhS2w6jtpFf3PGOfJDjYFaTX0nehA%2BcoSZ4Rkn%2BVBhZ%2F%2F%2Bw1FaqB8dg0Mo%2Bbt1P%2BFq%2Bo%2BMDIogGSXHItKsDTMMX7GeMxolIIZkMu7q%2FR2eMtz4pZpdFyDc13mDfw2R50LLGPPL44n%2FJrCJcd1%2BiK3U6Rmdhrp2xdUUtFsTmRv0ndnDG%2Frsbu9A6rJhnSU%2Fbku%2BrJ85Dm&nvMid=26245768146&catId=50002543\n",
      "**************************************************\n",
      "샤오미 미에어 3H 여우미 정품 국내정발 가성비 청정기\n",
      "https://cr.shopping.naver.com/adcr.nhn?x=i3pP3aJjihs49RvleD5m1f%2F%2F%2Fw%3D%3DspQJWV8zPkFwqBOm6lNo0UnWQzzg0UqsQAE9oLayWJep1TrE2QaAt84x67RbYd1c9PLa%2BK8%2FUQVC8fbjGyKNrPMrw6JE24H550D8E6w516oV171k1tEXDda1ncsJZ3oLWpsVLc8QFIytf0EU8brXxecJfE2kiXjS7Uj8ZgSEAw9a96iYnMWGek4I2TZFsABy95KTp9tGrijpAdhBc8w2qZpq1lxpwDJUI7a3tUybLIYNqskVLKtkJT4ECYBY0d6zUvpFhJN8r1cgbgA2qf9hblZB1QqPgPyOvEfpZJLrh4ikt58ObFbWc7gJUsDHF3EpvzSp9GwPNK4yeJ64ehe0DJ8v%2BjB2erv%2BZ%2Brrs5VHOiTSIVEUyEX15tdzXO38Pd9Q6VuW4%2BCLNclVgkyLO%2B9TRK9NFqzCog1iRxP3RRu6fVDsXvIkDMtwHdDyq2R4PkGsUQozfAHBMfdeli3fG%2BzwX%2FR94W8VKnZyjeMCG%2FGZ5ECwZpuz7ZKrfU7gxmZq4TMOqXztg4vSblG7G04uYknLi8NwGXIM8KxlHGtgz%2FO3tW7Ighg5xwSw1gv10LFM4Ibuo6662GFsm1D0WlrUXGetj63wqOmesGuCeX2L9U19csKAq9%2BAaqEx%2FebvLzkljMKuFbVX84Zs%2F6pqcmQs8pjhsB9zwLi7GRd6kPrEZBn0mQAvOvQtRMXkC0o5j108LHj7OlTDDO3XIQ54%2FaIUF0h18HNYX%2FxixXIPpquOZa4hyOOWTyTPk2845%2F98obwU%2BknLk&nvMid=25697669873&catId=50002543\n",
      "**************************************************\n",
      "MI 공기청정기 3H Mi Air 3H AC-M10-SC 45㎡\n",
      "https://cr.shopping.naver.com/adcr.nhn?x=ajuH8wG8loQv8ClcsDhH8%2F%2F%2F%2Fw%3D%3DsE7eQGXFbHrNONT%2FRJmXqw6m3jP2WZJhYh1CLsWhGl6R1TrE2QaAt84x67RbYd1c9PLa%2BK8%2FUQVC8fbjGyKNrPMY23Ro9EIRiSsixJXwKSe5171k1tEXDda1ncsJZ3oLWpsVLc8QFIytf0EU8brXxeTSMN514QMMut11lB%2BbrHuZLhv4nBWN6vYRnY66Pfp8UUcrLTjH4NoToPMx5WnGZmSa96HbR9%2F%2F2qnEBBOMYZPZSn6vKRwOlVhxnccVyYOarQ%2BD%2Fo9glb0ukJK6bM8miKNbqpI6t1N2zkZ6St7s5MnLsu%2FEV%2BW9r1kQjfzSB5yxaIxCN9W7NnTT8HZySIdIL3b9a33%2FMq8QUMniNj1RjDPnJjitTX4fGgGTC%2BKBkfzWC41urvWSsedJjFMqQ2Yy2QXornTeMFMWI76yU7BvGjg6O5pWJWdgH6EGTzIsDrhgsrgzW72XHpAo9zC0kRgre9H1S72je%2BLz3pRXtX2otWlYPOvAcM1N%2FxGrqUSn%2BbBbK%2BJI2EGlA2dOL4rDlT7Ni%2BJvW0fdKAD2GC89XvIIsA6tgQQHdI5zpXi49dCjE6FsDcvESoow62zlheIN5oE9sFdlIpFc9bpgujxfy95TuGg%2BVUqpLm8TscQwo7P7bbJ9TYillwzAChN7MbRY2BC2CuQ%3D%3D&nvMid=82971176787&catId=50002543\n",
      "**************************************************\n",
      "샤오미 미에어 3H 공기청정기 국내정발 한글판 국내AS - [샤오미] 미에어 3H 3C 공기청정기 국내정발 한글판 국내AS가능\n",
      "https://cr.shopping.naver.com/adcr.nhn?x=2QinPxtjt86SHIFHIO2TYv%2F%2F%2Fw%3D%3DsXBP6bGSP7olJwCW%2BMPLu4MxLB4V%2F%2F2EtsRCTd7xbA3qrouWAHSLjOQPxoMB5AaqmfN587ueZMGXPZOFNBfFQ0GJIxBbVrBpvJADsPFfglZyCAhuARNGKtI7woFGdAT%2FkWo1UIkV%2FNJejNcuqP32Hhe64mta3fu0EXFEO0wASKiBLITRP1jdo8ajNdAVZ%2Fvr%2BodRZpP6%2FH1ZV2jLdWq2uTWOiudsC%2FTqEm8qcDtldQIjXwJDXGLuOazOE2G9yZLxjgLxgYhje8tIHE16RKgDnlx%2FJ%2BLYr%2FT2Ld7WlUY66kmRWEXeXwSaubPu0qUaxQfPPa%2BpHa6ewb0%2FDpcGez9%2B2MuGB5Nypcd9iDasXeLrOhquzAHDdzrFIHbY72YLOeyyXI59ssGZXd%2B28mWcRS5X601f3QTkjHaeXkze654TrornqDfeYoRJig%2F8RyRLXK3t420kYCS3NvySITWcPYQsXlsdtoE1J51cKDdvi%2FWCKxU92JPgzuTetdDgAvl1y3aSYMbVYK6l4Wq9iRAVySHiyB%2FSpsS9IIZ%2B5FNDlH%2Byzs0rpd%2B1umWIYatR%2FoGzh4XpsRunxNf8RzbHrUASXgXTmf4XXmlcWpC3oojGqITlvp6ftIsUauPG2O8FxEFv03WiU7s4otNE92mvyCicn5mytWCQYKhBv9ejUxX%2Bl4JZMmrdKrQcO4hW8h%2F049HXXV56ffYSfczXyYm8qrJq75GdudV2WBXTAV0a1Krf0VCqh7VrZSKRXPW6YLo8X8veU7hoP6NppY%2Bqm1U40S8zLHttCo2IpZcMwAoTezG0WNgQtgrk%3D&nvMid=26048534125&catId=50002543\n",
      "**************************************************\n",
      "국내 정발 샤오미 미에어 3H\n",
      "https://cr.shopping.naver.com/adcr.nhn?x=n4fTD1pTugJHTytQzfCrff%2F%2F%2Fw%3D%3DsOVr167VwJBnAAw0x34Nkqkd%2Fxv9dUxnzKToLkXlU5J11TrE2QaAt84x67RbYd1c9PLa%2BK8%2FUQVC8fbjGyKNrPG8pbH3%2FWFDlI4cmunuKlPF171k1tEXDda1ncsJZ3oLWpsVLc8QFIytf0EU8brXxeQYRUH0NNpLzapMuhcYZrLNVpaWNhHSuXddm%2FFUZ0ICmQE0%2BIAW0%2BKpuP6oqsPy4lqLTK12YpMn5f75RboqVKN9Y3Ovbs9utHj9HOqUUqAym5HDKSiG2h55ISNJOtBJ5t0gAn8lD2%2BxrgblrBqYwPdWKx7G3krbJiQXzryuwwOqJbASSMlYjJ4M6PsLr64s%2BoeAbcqUd%2F4fH3PqtLcTQSV6J258Fp5Q30Juv3xRPfDzqBMPDDolZkLfVJtQC9kTamoJtG0ejc%2B2%2BCNgTDVwKgRSMHn7BDBNaqXNmoKbAeTMvKrzZWlDaGCMzQOsRqhooh0IKBy0DroLD5VjLajSnfIWhoQyNzFKmYCSIdmvgI8SiKvfgGqhMf3m7y85JYzCrhWQi9n0SmTP%2BVSrWC7mdvGbc8C4uxkXepD6xGQZ9JkALzr0LUTF5AtKOY9dPCx4%2BzpUwwzt1yEOeP2iFBdIdfBztU5NPQk1q15pZT4hMZ%2FWJk8kz5NvOOf%2FfKG8FPpJy5A%3D%3D&nvMid=25692500963&catId=50002543\n",
      "**************************************************\n",
      "미에어 공기청정기 3H 국내 정발 한글판 국내AS 2년\n",
      "https://cr.shopping.naver.com/adcr.nhn?x=AIlvU%2FyQaN3O4HTGMkix5f%2F%2F%2Fw%3D%3Dsezzl9ikr0enRehciQdYyepdWz740BMM5jSIE7IKdOkurouWAHSLjOQPxoMB5AaqmvGvhqAerYatnGRgn%2Bfel6uBpAuUL2cS%2BlbxlQHPPmF2CAhuARNGKtI7woFGdAT%2FkWo1UIkV%2FNJejNcuqP32HhXTo%2BGak5X%2BpjtKuQjGougUgCHoCKICfnrZFklzKhALd8s3QEc%2BIKjD8CNDAWL6oDpl3qD%2BpK2LJfVT4BdbAWFIkHt2%2FxFQ8eblJ%2B%2BYzntzvAqB2reOjdQ11Lsq9iERT3vLYhyK6h2NIq2%2BuxNU1feX9V3z7LDzyMnyUizO26aO9M8OkYitpuK2na6nToNpF%2BLngnxQ7ssMZd09T0OjyjIz6602Btdnd2xektzxiEg1cEmfp4nFeWC6%2B%2F0mo4KhmFdz5LmkiPjx%2F0iFGrGMf3QUP3UXrRnMeMoQzwOc%2Bl6f4zOWy8ZPSHaNE0ZzyWHefxSASEiX94a%2BtS0qedh3acwY%2BRZ3NE%2BfrxRAjHZaxSUp45hoEFglQON44dXGG8vwvQI0JXGH2dp3kzdKHeyfgtY2xP8%2F5mrdfEafYR5y%2F2W6lMLgNxyBj61EffhbuF%2BiWg8jqD0S376iCr0ecru3AdjniZk8GZ9IBUejX7LyZg6tSTRmG7s3eOtg5%2FQMTLEwMrHINzXeYN%2FDZHnQssY88vjif8msIlx3X6IrdTpGZ2GunTPwx1Ov0VRPhur%2F9vcS8OGIpZcMwAoTezG0WNgQtgrk%3D&nvMid=25493229034&catId=50002543\n",
      "**************************************************\n",
      "샤오미 공기청정기 미에어3H 국내정발\n",
      "https://cr.shopping.naver.com/adcr.nhn?x=Ah3PhWqutFSjapKr2BIi3%2F%2F%2F%2Fw%3D%3Dsy1WbPiMsXG07hWFlEkajXWZ33EFJCEbQbj2AGXyB099XYMr64ruRQX0glQL3LbW4zWdsboysvy3McYUn%2F1iz8R7qc19wlKcGiqRbHKPpEwQbCTbyDiv1fX%2F%2BqdUsYo0xtxZCjsz9PJOJx%2FydlDEcskhAoeh2t0RTTO6WWA9nPaYoPcrSIM90Mk1DjipKXZ%2FbnTIMco7g3yeJNvwQjN6PmIzqdHQHuxntXb85k0OrzXK8ZmUEiV1feRokfpnbJtcofW5pAK5O3zhs72V7Fj3a4atMb8%2BbU5vYrF79c7hSHpfffisv5tHfoGFh7RH%2BtSaODg1f9vTf3Iez1Rjn58zRmkg5T5Bon9aiC0OQqtSl5Q1eiSqEGOqrIRuyqhWbsqgtsCvAlcFT0kuNQSfoqqEY4QTDww6JWZC31SbUAvZE2ppviu9oyyRFV3gPbhXw66GbjB5%2BwQwTWqlzZqCmwHkzL9Xzt%2BotsHXLLhoM%2FYiwJ3ASpE8AE9vrY2SL1FO%2BwASSVTtJTdabJ6el%2Bz2%2FGzD1u2O5vNvMoaBgEjFYpczNAkXK%2BzhOS7MONWBHQq54mNs9NDf54TtFbynC%2FfcsJgyerDi4teEnlx0Xu%2FTH5k6A2ITOvQtRMXkC0o5j108LHj7OzXa5A8gI4l4%2FxUUUDW9C3ykNKuBxBIpg6bxqYIzEPmJWkbDrUFJ2hBG8QaB8WVzn&nvMid=25426869823&catId=50002543\n",
      "**************************************************\n",
      "국내 정발 샤오미 미에어 3H 여우미 정품 가성비 공기청정기\n",
      "https://cr.shopping.naver.com/adcr.nhn?x=HNYIUUAfiFG77rK%2B95QMXv%2F%2F%2Fw%3D%3Ds24eCFwHFd5wMijcuWfhIJaa%2BIlaP3I3M%2Brw2DnZBs1FXYMr64ruRQX0glQL3LbW4c4YgTlpAopngY1eJYu3Rzf9D7XHzwmdzXKwCD6glMqAbCTbyDiv1fX%2F%2BqdUsYo0xtxZCjsz9PJOJx%2FydlDEcssu1rI7y%2Bnxga7qkc20jAaEHS16Mm4swTlRWNG5xgFwbZRipJmqVnoC7zoIMe%2FcqGA8QGwAqCtYvv6TI6ggETr3y2m%2FaceCFm97hR2thlFxRw6ZjbtkbN7RD61dGUzg7G441ZK8P3rauGK1tOXUp%2FMx%2BcSbhR3FXzyPzw%2FesNSW%2BdNqLMejHzbFyW2%2Bptm4xOYdCanMe61deRvn7hd3L4olXmrkFBPz96X5llskLwUjdltxEDrL71VYInk3D%2BS%2Fffun5aAsa9mJmQeaA5%2BfDoOjLQpEY0B1hXpAV7bY3P%2BIVm9uaSNQwKcDF6eIQ5S3yuYGmhCP4hFOiaW8j%2FofA0VkvQqvkUeiIgfaRTGblruGjOPv8QwSr43qMVLu%2FRvQoS4gvsNSKh9wz5jhJYnVfgSHlPKyZlN0QGJdUfxO%2FGPclmSCuz3k0AdAO0b64Qno%2B2VHGlJwXynI3CKTLNuLMaJ53a3K0uh%2BkWHWx1T7LryfQNmLgAlRU6aKkD4%2FqMtLyHqh7N4FgysXtyYMuGVb3QmHS%2BR2SHh3oXJ83PxBo0kVu&nvMid=82893823630&catId=50002543\n",
      "**************************************************\n",
      "샤오미 미에어 3H 수입 정품\n",
      "https://cr.shopping.naver.com/adcr.nhn?x=YZzTCWBQTwO2HYUWWU4wnP%2F%2F%2Fw%3D%3DsMPOSWze7thibxaU9PrZRObjXOgW0dtKyN0oHzJma61tXYMr64ruRQX0glQL3LbW4U08PD%2BOAqqVXOALmvCFuQRfhl%2BdsDX7A3jD7GeXRt5obCTbyDiv1fX%2F%2BqdUsYo0xtxZCjsz9PJOJx%2FydlDEcshnNy3hGPxSOto6WobxR5ZfDWoHEpd4h%2FzhIU8KLSc8X8Y3QArCAccVWMj2I0ryyFkM7VnCuK5gYNsUw3pHamaUhERbRF6x%2F4SuvvnBWdSQXg5eY1uRGMaZXm1imG9yLD%2Blhbm4DqYn%2B7BFXFMxt5MdMI%2B9e%2F3rKcqGpqSWd9x22d0C2q5kiys4YFanYzIHyJFVd6Z%2BmZ5fvTALbBBPmfKKpJnalZl8YBNTVY%2F%2FSODJ0yukqg7tILamVdXnBieliBsXtNFOg%2B8uj5fhQ%2BqvFtOMbRJBgaSKAuMPZGCEwwa6Ug%2FkVVn81xQsnTMxKAFRluC01bZi9hRJ1Hyntk7bC8GCTIXjVfujWmfJI0irGgMjYRNkq1l%2Fyj0GGhD6ooMSd%2FOh00%2BXWXczVSE2dvw6uOS8h%2BmJ6A8dn%2F4SEVqEM5Ubimwy72h4eD%2BbyzCBnRs5iwHgxAzM%2B2WOWtKWm933mEEq8RmMbA01lYdKtnvNm%2F9s46pvezUj5%2B5YSUE5Gw9M9TJtwveLCnoOlXjQ%2FO8DI1oI0L6QlFQuufLn4OFOF1P8Q&nvMid=24978079204&catId=50002543\n",
      "**************************************************\n",
      "샤오미 미에어 3H 공기청정기 국내발송\n",
      "https://cr.shopping.naver.com/adcr.nhn?x=X4RaW5dM2bF5TT8n8pSLkP%2F%2F%2Fw%3D%3Dsao5Pa0ZLl1n6koB6Z%2BYRNikVOVn1HNzH7Ft%2BFSV03a1XYMr64ruRQX0glQL3LbW4vLCSrh6pJ2FvpP3RIS1Qe%2FcsOhXTeo06Ymi4evOqvHYbCTbyDiv1fX%2F%2BqdUsYo0xtxZCjsz9PJOJx%2FydlDEcsm%2Fhh6KoxOSBCTNj1MFF5lbfIHfCe%2FtayGjNsVkPQZZRif%2F%2FuaH%2F8QB5HObcWOAI%2FVWyhaOaZKUHVM1AuDjM76Yzw6RiK2m4radrqdOg2kX4ueCfFDuywxl3T1PQ6PKMjPrrTYG12d3bF6S3PGISDVwSZ%2BnicV5YLr7%2FSajgqGYVD9DyyLpKkAwWUVbVXbXQEScarQuoE59gd0KhRCCd%2B0sA0gA7ne%2BrsOai9Xm7AJSr%2By8IfKYvwx3cFQ6pjXiMlg8h%2FpB0QG45Mu%2BBYiY4Js%2Fn9l9QH1QwS0vHedp99yPjfbBc1%2B6Py5JMExWESTGiEToN4gyKCa2FDZ3UYhFDBHSIL7DUiofcM%2BY4SWJ1X4EhgMNGEWcTEwev%2FK5pxvU0M40fU%2Bga0lYXLaYsK27rQmLLLBWepWcLWFHqxR7D%2B6yd6nFktP%2F%2BN%2FAKELIHztmrCJt9zkMcrVJl%2FAYliJwWS6IZx1rqwd9Zc8UYtzXUZDLM&nvMid=25583428493&catId=50002543\n",
      "**************************************************\n",
      "샤오미 샤오미 공기청정기 미에어 3H 국내정발\n",
      "https://cr.shopping.naver.com/adcr.nhn?x=vLhFP3kFy0EtHJbLzA471v%2F%2F%2Fw%3D%3Dsm0jTMrP6PGKdSZnt5nYDYCirKrV8IJcumgFqc1Zm8nhXYMr64ruRQX0glQL3LbW4clODbbGAZXg4M9JQ%2BYeYigBfUx0KiOInoNzRTnZfyAobCTbyDiv1fX%2F%2BqdUsYo0xtxZCjsz9PJOJx%2FydlDEcsnzd86rYgB0CTXD%2BO1ma76q9SPMalG%2F4NgoO75m6H9AzSgDFBeoncWzCxO7JAs1UeA6d7wek6dztp9bXSRHNnfAX76N6B21SxKSBVHurGUC0M8OkYitpuK2na6nToNpF%2BLngnxQ7ssMZd09T0OjyjIz6602Btdnd2xektzxiEg1cEmfp4nFeWC6%2B%2F0mo4KhmFfC9KJQneYM14DDdexEPvXRdHNFrqgOmPmDE5jzryp9zANIAO53vq7DmovV5uwCUq4h7jOs0slPEH3GyfFBl%2FoEPIf6QdEBuOTLvgWImOCbP6jja8m3EwZ9lpRKfwhLWyAv2YVzbcrbAzswMP27SUfPlzLU8tc3m1tIVYJ184GdB0Bzi32bzv0Oa%2FspQOojAx8jqD0S376iCr0ecru3AdjmTfnM%2FGxDyGM%2FcYDZ%2BXbS%2Fqh4JK1CoQk8xcQxCKZ5BgnINzXeYN%2FDZHnQssY88vjif8msIlx3X6IrdTpGZ2GunHd6p7s%2Fa5SlBAzDXqcXvwmIpZcMwAoTezG0WNgQtgrk%3D&nvMid=25718377024&catId=50002543\n",
      "**************************************************\n",
      "샤오미 샤오미 공기청정기 미에어 3H 국내정발\n",
      "https://cr.shopping.naver.com/adcr.nhn?x=HOsafZba3tKHL3GJeVVtiv%2F%2F%2Fw%3D%3Dsjf7VdrjfsHm7IrvbdrB2XOH8brwYo4TDlhWNaMMWI411TrE2QaAt84x67RbYd1c9PLa%2BK8%2FUQVC8fbjGyKNrPF7iWpnn7D92GgyPyr%2Bwv0N171k1tEXDda1ncsJZ3oLWpsVLc8QFIytf0EU8brXxecJfE2kiXjS7Uj8ZgSEAw9a96iYnMWGek4I2TZFsABy95KTp9tGrijpAdhBc8w2qZpq1lxpwDJUI7a3tUybLIYPOWh3n03ia5ybFLZMfIRV3Nk7Z%2Bn0eNJtLIFUgvqwfrZB1QqPgPyOvEfpZJLrh4ikt58ObFbWc7gJUsDHF3EpvzSp9GwPNK4yeJ64ehe0DJ8v%2BjB2erv%2BZ%2Brrs5VHOiTSIVEUyEX15tdzXO38Pd9Q6VuW4%2BCLNclVgkyLO%2B9TRK5yFTy8TzvPenupRLakyggkXvIkDMtwHdDyq2R4PkGsUQozfAHBMfdeli3fG%2BzwX%2FRwZiTSB6%2BHvBZycEnVBj%2BcZpuz7ZKrfU7gxmZq4TMOqKCu4iwQ2UU9cQP2%2FMmqCG%2BYaBBYJUDjeOHVxhvL8L0D%2BLwWzLEq69sVWzI%2FJXebsFeTmH6N6bLOD2wzbXk01GCQYKhBv9ejUxX%2Bl4JZMmrfSowwLO9eHz9LHmgHQXi49gQpKsv%2BcFFojqmXUsr%2FN3F2WBXTAV0a1Krf0VCqh7VrZSKRXPW6YLo8X8veU7hoPeBBT0Mq8dwZJZ9pP3f6XONOWHn3SuXr49rpUM7PJak0%3D&nvMid=25718318316&catId=50002543\n",
      "**************************************************\n",
      "샤오미 샤오미 미에어 3H 공기청정기 국내정발 한글판 국내AS 2년\n",
      "https://cr.shopping.naver.com/adcr.nhn?x=Qjj4rl3cd4t9ZhlEecg4jv%2F%2F%2Fw%3D%3DsL4%2BAAJlibc22lj51yF91UgwqLa8aIWz2Qovote5vkJtXYMr64ruRQX0glQL3LbW4oIWYcbVBNpEMx6RaqM4rcptxt%2BetYKyuWGyqAcx%2F%2F7MbCTbyDiv1fX%2F%2BqdUsYo0xtxZCjsz9PJOJx%2FydlDEcsvPdXvbZ%2BiMk6inX5vmF9OLiqQtcyEWSFbNWraNLvLtJizQZ26I7qAQbGqfKtL7x9OdJUmfBz%2BMuKQ6lpuQDXCiZgFoRZtDEfW3B1pn%2B4CPuouP69Jc9aEpPQFvKsxbFL6Tq%2FbD2MGowZHhNOyBhpCdP9GukyRRc35bcYyIud8JNHaM2xkHpCVvLLy4kkQg4QeTIi00%2BvgoxFJkJcWDb7MMP3UXrRnMeMoQzwOc%2Bl6f4uflreyjs9iaKG0zbImdWwDMe0nEoJsvKHXwqb5AF6XPW4JMkFDVJLWcNKuarXQqaZV855tlLXugB3ERvPr%2Bas%2FcTUR5Efw31%2FuiWZCyEqIP%2F61o1GJsKOxPJcxpMnRVOCBK1q%2FDsAhWsyeTTuIrRj%2F2DPYHHM%2B43HwCBdL%2FR0dMRn9U6a6K60ibchDfB0pa9iw1F%2FBihopGH6yuCXH0N5QSIGyk4%2FyDUS7obMhFSKViUb9joj36I8c5Y3W96%2BIF%2FuO4m8wb8a6aVvsfCvM6IWdYcvgyO2pNxpaTkCkoRXKAoa7NyoCzX4qCiZRVOZiBH&nvMid=25834931734&catId=50002543\n",
      "**************************************************\n",
      "샤오미 샤오미 미에어 3H 수입 정품\n",
      "https://cr.shopping.naver.com/adcr.nhn?x=f1ZhpBOB9HLCyktOXeriTP%2F%2F%2Fw%3D%3DsAUqqR1npikNtDAFVtyKkI7881zzYxAP8VIxotSOAXM91TrE2QaAt84x67RbYd1c9REVpk6YDhiKSsCqLCSQ8WZCy%2Bi8SBOHqRkXwfrxs7dx171k1tEXDda1ncsJZ3oLWpsVLc8QFIytf0EU8brXxeRm3z3i34o6pRDfy%2FRQ7m9B4NQc7ozsjN2nsq5Te5vDygTSEsZa%2FsqNzf0g%2BAU2K29gaa23PB3%2BZvCbficJ2WAvDC0vpkWL4qSmsevPuYZU0M8OkYitpuK2na6nToNpF%2BLngnxQ7ssMZd09T0OjyjIz6602Btdnd2xektzxiEg1cEmfp4nFeWC6%2B%2F0mo4KhmFSf80RkGBORPsVIEhtS1gP0bRJBgaSKAuMPZGCEwwa6Ug%2FkVVn81xQsnTMxKAFRluNJLrf2feNqVwPhblB%2FA2eiTIXjVfujWmfJI0irGgMjY53lTQlNiCKE3Joh5LOVLu8LADzt%2BLT9%2BAmTwuw4Eg6m79pO3SvDcGKtCgDdvTOcmMXMbmKDPTRzguxs1oFYVgkShO5pi0ZQY30nbcIvTCVIG8cWLk8BFDSYb8TRl0BVk1rhDzVaLcEQc5hjXSnOw7VgFlTKFPe21DLnCBqCm7M9jhtWGwUc1Vb6EguzsCeOM7vQOqyYZ0lP25LvqyfOQ5g%3D%3D&nvMid=24977205026&catId=50002543\n",
      "**************************************************\n",
      "국내 정발 샤오미 미에어 3H 여우미 정품 가성비 공기청정기 한글판\n",
      "https://cr.shopping.naver.com/adcr.nhn?x=h6E2eLfCENiO3tVQqa064P%2F%2F%2Fw%3D%3DszqJXxeGJLVAn4sDm%2F5xFp0DkSn65RO%2BJnFLqDYiL14lXYMr64ruRQX0glQL3LbW4mIm7Fx6qM1WmiKgRK9H4Fk6USXHyvgb8WxLCD1sCAR4bCTbyDiv1fX%2F%2BqdUsYo0xtxZCjsz9PJOJx%2FydlDEcssHMoSM8kYJrzaZDXyMimbuEAp3qsmC62YyFmFD%2FJlKgaBaJwBSHOyzid5IO8TigkCASpBAQzmjvU3q63pysH1eILa49u4UZNjzUqdXiTG84f3GyxAOODG636mvxqmJDyLcJXmU08oAy9yqaufJqpUD8yLnF0gZzj%2FhCxe6HQHY6hmeWtJmvw8M90EK%2Bzy5a1yVdN3LpKf%2FbKuiZi7z1XJQcY8WRFLqBigsEwSMKdGtOtFyUH707Og9JHm2STSMHql6%2F3qTwCMy0PJgG%2FXy4LWKA604IFuTLUhHwGUpX8Cgm3evzfGyX7rPMJICYHc1GFghUZG7ALTcO%2B%2Fpt29GlTyMd5CMwyy%2Fwsc4PMqpT%2FNhx4aK7ouI8izKD2xsyQ9CfI9TbBOVBqt0ybatRlFjE%2FHdWyFc7RyVezIJREkFp00g3xFpG0A5q%2BwtfGf3jOkNU7JnBWkLrR3TPvilcMb2%2BRK2B8dg0Mo%2Bbt1P%2BFq%2Bo%2BMDIQlUhY6iLoDW40LQ8DjbUrgVXkQH7GM%2BieMlK5OCBav4CyizmvcNKW9r6Z4V8884i1rhDzVaLcEQc5hjXSnOw7VgFlTKFPe21DLnCBqCm7M89ZU6L9W7Ethza37G0TzY%2B7vQOqyYZ0lP25LvqyfOQ5g%3D%3D&nvMid=25697143406&catId=50002543\n",
      "**************************************************\n",
      "샤오미 미에어 3H 여우미 정품 가성비 공기청정기 (G9단독특가 코로나 극복 프로모션) (설날 선물)\n",
      "https://cr.shopping.naver.com/adcr.nhn?x=QCg3avJi6JI8UUvbywoBe%2F%2F%2F%2Fw%3D%3DsJyP2WFMIXoTI3%2Fc6lOY162MAiFq5Z6WlJ4K87RjxVDZXYMr64ruRQX0glQL3LbW43Vyvjk%2Fby%2BAYg1xEKC8wceFM9HZ4Y%2BwZibA9WvnjKZEbCTbyDiv1fX%2F%2BqdUsYo0xtxZCjsz9PJOJx%2FydlDEcsnzd86rYgB0CTXD%2BO1ma76q9SPMalG%2F4NgoO75m6H9AznVvt%2BINNUGYVVRmqHFYoXw6d7wek6dztp9bXSRHNnfAX76N6B21SxKSBVHurGUC0M8OkYitpuK2na6nToNpF%2BLngnxQ7ssMZd09T0OjyjIz6602Btdnd2xektzxiEg1cEmfp4nFeWC6%2B%2F0mo4KhmFZxUpUMdh%2FZVXK%2FS7knX5sZdHNFrqgOmPmDE5jzryp9zANIAO53vq7DmovV5uwCUq%2B13fT5iNoRJkdkLvbxU%2FaUPIf6QdEBuOTLvgWImOCbP5%2FZfUB9UMEtLx3naffcj4%2BiiQqdcn9BTufabBhcveLTOaPbm7oK3CdnlsbSMggXfaMEC590TJ7tjs8v%2FFpO2p%2Fp0Uov0H09OzPmI1%2BNwx6A%2BerUP6lb8VFVNwTRCna3AQWi7ElLOikwzLCrIUjKwddwgT2HGYi2caMxumwTyn14Rn9U6a6K60ibchDfB0pa9MGftGTl4S%2Bx7gt1Mg8Eb3Quw45pj0%2FL5GMqG1UPOhpaUb9joj36I8c5Y3W96%2BIF%2FuO4m8wb8a6aVvsfCvM6IWSw3SbCAwWzkrRuyIPYoSngoa7NyoCzX4qCiZRVOZiBH&nvMid=25703375900&catId=50002543\n",
      "**************************************************\n"
     ]
    }
   ],
   "source": [
    "# 아이템별 원하는 정보 가져오기\n",
    "for item in items:\n",
    "    title = item.select('a.productList_title__uCZ0P')[0].text.strip()\n",
    "    url =   item.select('a.productList_title__uCZ0P')[0]['href']    \n",
    "    print(title)\n",
    "    print(url)\n",
    "    print('*'*50)  #상품별 구분 위해 줄 넣어줌"
   ]
  },
  {
   "cell_type": "code",
   "execution_count": 11,
   "metadata": {},
   "outputs": [
    {
     "data": {
      "text/plain": [
       "'인터파크'"
      ]
     },
     "execution_count": 11,
     "metadata": {},
     "output_type": "execute_result"
    }
   ],
   "source": [
    "# 몰 정보  찾기1\n",
    "item = items[0]\n",
    "mall = item.select('img')[0]['alt']\n",
    "mall"
   ]
  },
  {
   "cell_type": "code",
   "execution_count": 7,
   "metadata": {
    "scrolled": true
   },
   "outputs": [
    {
     "name": "stdout",
     "output_type": "stream",
     "text": [
      "샤오미 미에어 3H 한글판 여우미 수입 11번가\n",
      "[쿠팡 직수입] 샤오미 미에어 공기청정기 3H AC-M10-SC 45㎡ 쿠팡\n",
      "샤오미 샤오미 미에어 3H 여우미 정품 가성비 공기청정기 옥션\n"
     ]
    },
    {
     "ename": "IndexError",
     "evalue": "list index out of range",
     "output_type": "error",
     "traceback": [
      "\u001b[1;31m---------------------------------------------------------------------------\u001b[0m",
      "\u001b[1;31mIndexError\u001b[0m                                Traceback (most recent call last)",
      "\u001b[1;32m<ipython-input-7-5e8f6b1da36a>\u001b[0m in \u001b[0;36m<module>\u001b[1;34m\u001b[0m\n\u001b[0;32m      3\u001b[0m     \u001b[0mtitle\u001b[0m \u001b[1;33m=\u001b[0m \u001b[0mitem\u001b[0m\u001b[1;33m.\u001b[0m\u001b[0mselect\u001b[0m\u001b[1;33m(\u001b[0m\u001b[1;34m'a.productList_title__uCZ0P'\u001b[0m\u001b[1;33m)\u001b[0m\u001b[1;33m[\u001b[0m\u001b[1;36m0\u001b[0m\u001b[1;33m]\u001b[0m\u001b[1;33m.\u001b[0m\u001b[0mtext\u001b[0m\u001b[1;33m.\u001b[0m\u001b[0mstrip\u001b[0m\u001b[1;33m(\u001b[0m\u001b[1;33m)\u001b[0m\u001b[1;33m\u001b[0m\u001b[1;33m\u001b[0m\u001b[0m\n\u001b[0;32m      4\u001b[0m     \u001b[0murl\u001b[0m \u001b[1;33m=\u001b[0m   \u001b[0mitem\u001b[0m\u001b[1;33m.\u001b[0m\u001b[0mselect\u001b[0m\u001b[1;33m(\u001b[0m\u001b[1;34m'a.productList_title__uCZ0P'\u001b[0m\u001b[1;33m)\u001b[0m\u001b[1;33m[\u001b[0m\u001b[1;36m0\u001b[0m\u001b[1;33m]\u001b[0m\u001b[1;33m[\u001b[0m\u001b[1;34m'href'\u001b[0m\u001b[1;33m]\u001b[0m\u001b[1;33m\u001b[0m\u001b[1;33m\u001b[0m\u001b[0m\n\u001b[1;32m----> 5\u001b[1;33m     \u001b[0mmall\u001b[0m \u001b[1;33m=\u001b[0m \u001b[0mitem\u001b[0m\u001b[1;33m.\u001b[0m\u001b[0mselect\u001b[0m\u001b[1;33m(\u001b[0m\u001b[1;34m'img'\u001b[0m\u001b[1;33m)\u001b[0m\u001b[1;33m[\u001b[0m\u001b[1;36m0\u001b[0m\u001b[1;33m]\u001b[0m\u001b[1;33m[\u001b[0m\u001b[1;34m'alt'\u001b[0m\u001b[1;33m]\u001b[0m\u001b[1;33m\u001b[0m\u001b[1;33m\u001b[0m\u001b[0m\n\u001b[0m\u001b[0;32m      6\u001b[0m     \u001b[0mprint\u001b[0m\u001b[1;33m(\u001b[0m\u001b[0mtitle\u001b[0m\u001b[1;33m,\u001b[0m \u001b[0mmall\u001b[0m\u001b[1;33m)\u001b[0m\u001b[1;33m\u001b[0m\u001b[1;33m\u001b[0m\u001b[0m\n",
      "\u001b[1;31mIndexError\u001b[0m: list index out of range"
     ]
    }
   ],
   "source": [
    "# 몰 정보 찾기 2 : 전체 상품 몰 찾기 -> 오류 발생\n",
    "for item in items:\n",
    "    title = item.select('a.productList_title__uCZ0P')[0].text.strip()\n",
    "    url =   item.select('a.productList_title__uCZ0P')[0]['href']        \n",
    "    mall = item.select('img')[0]['alt']\n",
    "    print(title, mall)"
   ]
  },
  {
   "cell_type": "code",
   "execution_count": 8,
   "metadata": {},
   "outputs": [
    {
     "data": {
      "text/plain": [
       "'인터파크'"
      ]
     },
     "execution_count": 8,
     "metadata": {},
     "output_type": "execute_result"
    }
   ],
   "source": [
    "# 몰 정보 : 오류 나는 곳 확인\n",
    "item = items[8]\n",
    "mall = item.select('img')[0]['alt']\n",
    "mall"
   ]
  },
  {
   "cell_type": "code",
   "execution_count": 9,
   "metadata": {},
   "outputs": [
    {
     "data": {
      "text/plain": [
       "'네이버페이'"
      ]
     },
     "execution_count": 9,
     "metadata": {},
     "output_type": "execute_result"
    }
   ],
   "source": [
    "# 몰 정보 찾기 3 : 오류 수정\n",
    "item = items[8]\n",
    "mall = item.select('a.productList_mall_link__1-Q4X > span')[0].text\n",
    "mall"
   ]
  },
  {
   "cell_type": "code",
   "execution_count": 10,
   "metadata": {},
   "outputs": [
    {
     "data": {
      "text/plain": [
       "'인터파크'"
      ]
     },
     "execution_count": 10,
     "metadata": {},
     "output_type": "execute_result"
    }
   ],
   "source": [
    "# 몰 정보 찾기 4 : 이미지, 문자 둘 다 가능하도록,,,\n",
    "item = items[8]\n",
    "try:\n",
    "    mall = item.select('img')[0]['alt']\n",
    "except:\n",
    "    mall = item.select('a.productList_mall_link__1-Q4X > span')[0].text\n",
    "mall"
   ]
  },
  {
   "cell_type": "code",
   "execution_count": 11,
   "metadata": {},
   "outputs": [
    {
     "name": "stdout",
     "output_type": "stream",
     "text": [
      "샤오미 미에어 3H 한글판 여우미 수입 11번가\n",
      "[쿠팡 직수입] 샤오미 미에어 공기청정기 3H AC-M10-SC 45㎡ 쿠팡\n",
      "샤오미 샤오미 미에어 3H 여우미 정품 가성비 공기청정기 옥션\n",
      "공기청정기 미에어3H 국내정식 AS2년 재고보유 [03/09 출고] 컴퓨존\n",
      "[샤오미] 공기청정기 미에어3H 국내정식발매 컴퓨존\n",
      "샤오미 미에어 3H 여우미 정품 국내정발 가성비 청정기 G마켓\n",
      "MI 공기청정기 3H Mi Air 3H AC-M10-SC 45㎡ The-5000\n",
      "샤오미 미에어 3H 공기청정기 국내정발 한글판 국내AS - [샤오미] 미에어 3H 3C 공기청정기 국내정발 한글판 국내AS가능 티몬\n",
      "국내 정발 샤오미 미에어 3H 인터파크\n",
      "미에어 공기청정기 3H 국내 정발 한글판 국내AS 2년 G마켓\n",
      "샤오미 공기청정기 미에어3H 국내정발 11번가\n",
      "국내 정발 샤오미 미에어 3H 여우미 정품 가성비 공기청정기 SCM스토어\n",
      "샤오미 미에어 3H 수입 정품 G마켓\n",
      "샤오미 미에어 3H 공기청정기 국내발송 스타일씨\n",
      "샤오미 샤오미 공기청정기 미에어 3H 국내정발 G9\n",
      "샤오미 샤오미 공기청정기 미에어 3H 국내정발 G마켓\n",
      "샤오미 샤오미 미에어 3H 공기청정기 국내정발 한글판 국내AS 2년 옥션\n",
      "샤오미 샤오미 미에어 3H 수입 정품 옥션\n",
      "국내 정발 샤오미 미에어 3H 여우미 정품 가성비 공기청정기 한글판 위메프\n",
      "샤오미 미에어 3H 여우미 정품 가성비 공기청정기 (G9단독특가 코로나 극복 프로모션) (설날 선물) G9\n"
     ]
    }
   ],
   "source": [
    "for item in items:\n",
    "    title = item.select('a.productList_title__uCZ0P')[0].text.strip()\n",
    "    url =   item.select('a.productList_title__uCZ0P')[0]['href']        \n",
    "    try:\n",
    "        mall = item.select('img')[0]['alt']\n",
    "    except:\n",
    "        mall = item.select('a.productList_mall_link__1-Q4X > span')[0].text\n",
    "    print(title, mall)"
   ]
  },
  {
   "cell_type": "code",
   "execution_count": 12,
   "metadata": {},
   "outputs": [
    {
     "name": "stdout",
     "output_type": "stream",
     "text": [
      "2,500원\n",
      "2,500\n"
     ]
    }
   ],
   "source": [
    "# 배송비 정리하기\n",
    "item = items[0]\n",
    "\n",
    "deli = item.select('div.productList_delivery__2BusJ')[-1].text\n",
    "\n",
    "if deli == '무료배송':\n",
    "    deli = '0원'     \n",
    "elif deli == '착불':\n",
    "    deli = '2,500원'\n",
    "    \n",
    "print(deli)\n",
    "print(deli[:-1])"
   ]
  },
  {
   "cell_type": "code",
   "execution_count": 13,
   "metadata": {},
   "outputs": [
    {
     "name": "stdout",
     "output_type": "stream",
     "text": [
      "샤오미 미에어 3H 한글판 여우미 수입 / https://cr.shopping.naver.com/adcr.nhn?x=R9ApPka%2BBw0IPIs8y2NgG%2F%2F%2F%2Fw%3D%3Ds5toeMuQdtkJ7%2BU1gE2Ojr1KDdjlDSHjkl71DhAD1pCBXYMr64ruRQX0glQL3LbW4ouAZpunR04MMjFnwK5%2F57uF81HrGHdN%2F99h2nxeF%2BcwbCTbyDiv1fX%2F%2BqdUsYo0xtxZCjsz9PJOJx%2FydlDEcskhAoeh2t0RTTO6WWA9nPaYoPcrSIM90Mk1DjipKXZ%2FbnTIMco7g3yeJNvwQjN6PmP721SO8nUpkuFgLQWTKn%2B%2Ffe%2BbfS0MyM0MKhK5PYtiOfW5pAK5O3zhs72V7Fj3a4atMb8%2BbU5vYrF79c7hSHpfffisv5tHfoGFh7RH%2BtSaODg1f9vTf3Iez1Rjn58zRmkg5T5Bon9aiC0OQqtSl5Q3Vc8cxLq40C1mQeHAFz%2BS%2FsCvAlcFT0kuNQSfoqqEY4QTDww6JWZC31SbUAvZE2poUnnnFTV7pKhz12AknqEX5jB5%2BwQwTWqlzZqCmwHkzL2VfOebZS17oAdxEbz6%2FmrPAWg9XdFyX1KK3o4%2BAzxzyY3UoMEPLZOSQcNDaytkIPU1FofMUFrckok2x3VXK7oSMCyW5wcMFQKNvlempngXEl9Yu1l%2BdwnMYbT3iRI%2F47m6ZFHUUkacmLfApOTrh8LWINN9RwalG9jaYNyWn%2FJby9FxkLbIeb1LLiVlgJxIhDZYHDZH84leiybJBFwL7vPk%3D&nvMid=26188781496&catId=50002543 / 11번가 / 127,080 / 2,500\n",
      "**************************************************\n",
      "[쿠팡 직수입] 샤오미 미에어 공기청정기 3H AC-M10-SC 45㎡ / https://cr.shopping.naver.com/adcr.nhn?x=3tNLfyTfO1LPoz65ILtHBf%2F%2F%2Fw%3D%3DsYjAgtsXT%2Fq9eWWBmOEkOinmVyujiOmivsazBoZq4AJR1TrE2QaAt84x67RbYd1c9PLa%2BK8%2FUQVC8fbjGyKNrPNKyZT0ny4RBlzkKk%2BZyxUZ171k1tEXDda1ncsJZ3oLWpsVLc8QFIytf0EU8brXxeaeBReS2eAnHF0WQDCquf3her%2FNlNQMie7Zc%2BFoNI%2FbShrj5p43KyGLkNGHpAKAf8XxU7m2NJZw3v%2BxF8Nk%2Fr6svacWUePtfB1UY%2B8nYALKuc45l2qEOFROlkvsuhcz6%2Br%2F%2Fsan6IuNi9jw9EI6fXPSKA8Ymr59MDWVce5FIrxBarvHBOq87qcM4aJZS51m9Usi30QtKP1mA7BYZPpxeJLcDieBYvAPV46rSxR8KTlq%2FtDdE4%2BSdZnrPRXHIfA1ENuJgktDSrfMdneHclipVnfrLqGZ%2B8HaRdx1Eefvgvy9kgOtOCBbky1IR8BlKV%2FAoJsShTMAoQz5H4kuJy2GBxAUKLvMWms5WxlLd8BZFjO%2Fx1Kp7d8fn71OEoJ36bQKWBvw%2FRqPXDtyTNckj7jCOMzQBsFkOvTWPBqVlQhtMoef%2BvnkkhocEjrszBpoyB6NYBiLzmwZzCtk2s3XxD6FCWz%2BB8dg0Mo%2Bbt1P%2BFq%2Bo%2BMDIGvvHbJCTgSHdEnbOwO48EENdXI%2FP8tfYCgtaIAehcvO8RmMbA01lYdKtnvNm%2F9s46pvezUj5%2B5YSUE5Gw9M9TJtwveLCnoOlXjQ%2FO8DI1oKEqtOVqWOwODOcCrivqF2F&nvMid=21232246729&catId=50002543 / 쿠팡 / 127,130 / 0\n",
      "**************************************************\n",
      "샤오미 샤오미 미에어 3H 여우미 정품 가성비 공기청정기 / https://cr.shopping.naver.com/adcr.nhn?x=aADu2e0FOl8piyvl56Rfhf%2F%2F%2Fw%3D%3DsQAqA3FgtDKhq7ElbnkNjJf%2BJ3JgC2hF0Wg4ZocofTypXYMr64ruRQX0glQL3LbW4cqJ13jWn1oMLMvLSgDavcz05k3k%2BPql1RvG3u4B5ybYbCTbyDiv1fX%2F%2BqdUsYo0xtxZCjsz9PJOJx%2FydlDEcsvPdXvbZ%2BiMk6inX5vmF9OLiqQtcyEWSFbNWraNLvLtJizQZ26I7qAQbGqfKtL7x9PGtddLCtmb3pFapofuSmT6ZgFoRZtDEfW3B1pn%2B4CPuouP69Jc9aEpPQFvKsxbFL6Tq%2FbD2MGowZHhNOyBhpCdP9GukyRRc35bcYyIud8JNWxldAFVI4wFGFYUqmhEUnTC%2Fe0UPOA9RYqHaWnRoKLMP3UXrRnMeMoQzwOc%2Bl6f4aNn9zRI2O8ilVDrYA5Vs6WmUQsig7egGLyUp1NsBjDbW4JMkFDVJLWcNKuarXQqaZV855tlLXugB3ERvPr%2Bas%2FdeBllbO6HVY6y%2BUcosUHAfaSqWydAaLwEZL13SWdGD6nq8dzGCH8U4910CvSqCHb4U4UmgKprgG3PG0s1eag7MTrArQZRj4J8Vi%2BCWxSwCqFT53S2X9PZWQyqLLE%2FlmW6ZFHUUkacmLfApOTrh8LWINN9RwalG9jaYNyWn%2FJby9FxkLbIeb1LLiVlgJxIhDTbsJhKBoHmUMDiaaZ2oq38%3D&nvMid=25693458256&catId=50002543 / 옥션 / 127,130 / 0\n",
      "**************************************************\n",
      "공기청정기 미에어3H 국내정식 AS2년 재고보유 [03/09 출고] / https://cr.shopping.naver.com/adcr.nhn?x=%2Bdcim%2BsQpeK0YMTSD87JMv%2F%2F%2Fw%3D%3Dsq3URf7wuq8CYAhgxtVSx988y0beW4si7MPCofXZRgd9XYMr64ruRQX0glQL3LbW4sFA94ixik2FjfPjpq%2FK29hPBXlFNd7WwNlgdkZB73i0bCTbyDiv1fX%2F%2BqdUsYo0xtxZCjsz9PJOJx%2FydlDEcssu1rI7y%2Bnxga7qkc20jAaEHS16Mm4swTlRWNG5xgFwbvy04Ug0FJyRWtbPt%2BY6vbm6LibDB9GWVAH8ioOSYITHy2m%2FaceCFm97hR2thlFxRw6ZjbtkbN7RD61dGUzg7G441ZK8P3rauGK1tOXUp%2FMx%2BcSbhR3FXzyPzw%2FesNSW%2BcUImk7xusJ4pok6s%2BYNKsnACkvGPlCL5LJQHF%2FdaN2OabXuAr9IyKnKJZBvBTDYtcNz8%2BcOMUdm2VcKS9BKcTHXnlwqGkeawNAc4iUHqQWZLehMx3t98nI%2FefhS2w6jtpFf3PGOfJDjYFaTX0nehA16Kv1CC841xxwNvJdQc1WA4z6nmuzKN69j9KEL2pCFqB8caTx01TghFRsPM%2BFqPMiQYKhBv9ejUxX%2Bl4JZMmrflMxMQKL%2BL9MB7k2ZiCmpNRHbIuExrpeO4s9MZ9X1xv4rsAvz4nyILmhTX%2Bwyfw%2FaINN9RwalG9jaYNyWn%2FJby9FxkLbIeb1LLiVlgJxIhDejyPkYZSWcw2ClIQabF7P8%3D&nvMid=82370880874&catId=50002543 / 컴퓨존 / 127,900 / 0\n",
      "**************************************************\n",
      "[샤오미] 공기청정기 미에어3H 국내정식발매 / https://cr.shopping.naver.com/adcr.nhn?x=6LfkA6EfwwWKqNPAMVvP%2BP%2F%2F%2Fw%3D%3DsWj3MgKgGQFdniG8oncV%2FyI6xEkAdQefR3ST9kKakKUpXYMr64ruRQX0glQL3LbW4HNfbCIJwo7MYZxNXCg7S3SmH%2Fq%2BExGVLxO75AcFGl8MbCTbyDiv1fX%2F%2BqdUsYo0xtxZCjsz9PJOJx%2FydlDEcslF2zq3xAH8xYx1co0ZfY8h57m6QRy%2FLo%2F5V3cXssw8Qh6K4EtuAbHyAzSJe6Xk1d0E901dtDmFNg%2FDjRgxWQ4%2BOwFNWopCFAWSt4IlAiD4NkNDrqgFKecncmuTbeU2Kja7xwTqvO6nDOGiWUudZvVLIt9ELSj9ZgOwWGT6cXiS3A4ngWLwD1eOq0sUfCk5av7Q3ROPknWZ6z0VxyHwNRDbCJ15CWhSp3YcxSNJAk%2F5UdMsK2eW%2Bed%2BfkWdTQLABc8mOK1Nfh8aAZML4oGR%2FNYKLe3v%2Bi6NRVUrQ6X9GHh%2BSBlSY0DiDEtN5td2AJ8xQ0GckW7iU9ukqUhqheJBDK5NLehMx3t98nI%2FefhS2w6jtpFf3PGOfJDjYFaTX0nehA%2BcoSZ4Rkn%2BVBhZ%2F%2F%2Bw1FaqB8dg0Mo%2Bbt1P%2BFq%2Bo%2BMDIogGSXHItKsDTMMX7GeMxolIIZkMu7q%2FR2eMtz4pZpdFyDc13mDfw2R50LLGPPL44n%2FJrCJcd1%2BiK3U6Rmdhrp2xdUUtFsTmRv0ndnDG%2Frsbu9A6rJhnSU%2Fbku%2BrJ85Dm&nvMid=26245768146&catId=50002543 / 컴퓨존 / 127,900 / 0\n",
      "**************************************************\n",
      "샤오미 미에어 3H 여우미 정품 국내정발 가성비 청정기 / https://cr.shopping.naver.com/adcr.nhn?x=i3pP3aJjihs49RvleD5m1f%2F%2F%2Fw%3D%3DspQJWV8zPkFwqBOm6lNo0UnWQzzg0UqsQAE9oLayWJep1TrE2QaAt84x67RbYd1c9PLa%2BK8%2FUQVC8fbjGyKNrPMrw6JE24H550D8E6w516oV171k1tEXDda1ncsJZ3oLWpsVLc8QFIytf0EU8brXxecJfE2kiXjS7Uj8ZgSEAw9a96iYnMWGek4I2TZFsABy95KTp9tGrijpAdhBc8w2qZpq1lxpwDJUI7a3tUybLIYNqskVLKtkJT4ECYBY0d6zUvpFhJN8r1cgbgA2qf9hblZB1QqPgPyOvEfpZJLrh4ikt58ObFbWc7gJUsDHF3EpvzSp9GwPNK4yeJ64ehe0DJ8v%2BjB2erv%2BZ%2Brrs5VHOiTSIVEUyEX15tdzXO38Pd9Q6VuW4%2BCLNclVgkyLO%2B9TRK9NFqzCog1iRxP3RRu6fVDsXvIkDMtwHdDyq2R4PkGsUQozfAHBMfdeli3fG%2BzwX%2FR94W8VKnZyjeMCG%2FGZ5ECwZpuz7ZKrfU7gxmZq4TMOqXztg4vSblG7G04uYknLi8NwGXIM8KxlHGtgz%2FO3tW7Ighg5xwSw1gv10LFM4Ibuo6662GFsm1D0WlrUXGetj63wqOmesGuCeX2L9U19csKAq9%2BAaqEx%2FebvLzkljMKuFbVX84Zs%2F6pqcmQs8pjhsB9zwLi7GRd6kPrEZBn0mQAvOvQtRMXkC0o5j108LHj7OlTDDO3XIQ54%2FaIUF0h18HNYX%2FxixXIPpquOZa4hyOOWTyTPk2845%2F98obwU%2BknLk&nvMid=25697669873&catId=50002543 / G마켓 / 128,100 / 0\n",
      "**************************************************\n",
      "MI 공기청정기 3H Mi Air 3H AC-M10-SC 45㎡ / https://cr.shopping.naver.com/adcr.nhn?x=ajuH8wG8loQv8ClcsDhH8%2F%2F%2F%2Fw%3D%3DsE7eQGXFbHrNONT%2FRJmXqw6m3jP2WZJhYh1CLsWhGl6R1TrE2QaAt84x67RbYd1c9PLa%2BK8%2FUQVC8fbjGyKNrPMY23Ro9EIRiSsixJXwKSe5171k1tEXDda1ncsJZ3oLWpsVLc8QFIytf0EU8brXxeTSMN514QMMut11lB%2BbrHuZLhv4nBWN6vYRnY66Pfp8UUcrLTjH4NoToPMx5WnGZmSa96HbR9%2F%2F2qnEBBOMYZPZSn6vKRwOlVhxnccVyYOarQ%2BD%2Fo9glb0ukJK6bM8miKNbqpI6t1N2zkZ6St7s5MnLsu%2FEV%2BW9r1kQjfzSB5yxaIxCN9W7NnTT8HZySIdIL3b9a33%2FMq8QUMniNj1RjDPnJjitTX4fGgGTC%2BKBkfzWC41urvWSsedJjFMqQ2Yy2QXornTeMFMWI76yU7BvGjg6O5pWJWdgH6EGTzIsDrhgsrgzW72XHpAo9zC0kRgre9H1S72je%2BLz3pRXtX2otWlYPOvAcM1N%2FxGrqUSn%2BbBbK%2BJI2EGlA2dOL4rDlT7Ni%2BJvW0fdKAD2GC89XvIIsA6tgQQHdI5zpXi49dCjE6FsDcvESoow62zlheIN5oE9sFdlIpFc9bpgujxfy95TuGg%2BVUqpLm8TscQwo7P7bbJ9TYillwzAChN7MbRY2BC2CuQ%3D%3D&nvMid=82971176787&catId=50002543 / The-5000 / 132,000 / 2,500\n",
      "**************************************************\n",
      "샤오미 미에어 3H 공기청정기 국내정발 한글판 국내AS - [샤오미] 미에어 3H 3C 공기청정기 국내정발 한글판 국내AS가능 / https://cr.shopping.naver.com/adcr.nhn?x=2QinPxtjt86SHIFHIO2TYv%2F%2F%2Fw%3D%3DsXBP6bGSP7olJwCW%2BMPLu4MxLB4V%2F%2F2EtsRCTd7xbA3qrouWAHSLjOQPxoMB5AaqmfN587ueZMGXPZOFNBfFQ0GJIxBbVrBpvJADsPFfglZyCAhuARNGKtI7woFGdAT%2FkWo1UIkV%2FNJejNcuqP32Hhe64mta3fu0EXFEO0wASKiBLITRP1jdo8ajNdAVZ%2Fvr%2BodRZpP6%2FH1ZV2jLdWq2uTWOiudsC%2FTqEm8qcDtldQIjXwJDXGLuOazOE2G9yZLxjgLxgYhje8tIHE16RKgDnlx%2FJ%2BLYr%2FT2Ld7WlUY66kmRWEXeXwSaubPu0qUaxQfPPa%2BpHa6ewb0%2FDpcGez9%2B2MuGB5Nypcd9iDasXeLrOhquzAHDdzrFIHbY72YLOeyyXI59ssGZXd%2B28mWcRS5X601f3QTkjHaeXkze654TrornqDfeYoRJig%2F8RyRLXK3t420kYCS3NvySITWcPYQsXlsdtoE1J51cKDdvi%2FWCKxU92JPgzuTetdDgAvl1y3aSYMbVYK6l4Wq9iRAVySHiyB%2FSpsS9IIZ%2B5FNDlH%2Byzs0rpd%2B1umWIYatR%2FoGzh4XpsRunxNf8RzbHrUASXgXTmf4XXmlcWpC3oojGqITlvp6ftIsUauPG2O8FxEFv03WiU7s4otNE92mvyCicn5mytWCQYKhBv9ejUxX%2Bl4JZMmrdKrQcO4hW8h%2F049HXXV56ffYSfczXyYm8qrJq75GdudV2WBXTAV0a1Krf0VCqh7VrZSKRXPW6YLo8X8veU7hoP6NppY%2Bqm1U40S8zLHttCo2IpZcMwAoTezG0WNgQtgrk%3D&nvMid=26048534125&catId=50002543 / 티몬 / 133,920 / 2,500\n",
      "**************************************************\n",
      "국내 정발 샤오미 미에어 3H / https://cr.shopping.naver.com/adcr.nhn?x=n4fTD1pTugJHTytQzfCrff%2F%2F%2Fw%3D%3DsOVr167VwJBnAAw0x34Nkqkd%2Fxv9dUxnzKToLkXlU5J11TrE2QaAt84x67RbYd1c9PLa%2BK8%2FUQVC8fbjGyKNrPG8pbH3%2FWFDlI4cmunuKlPF171k1tEXDda1ncsJZ3oLWpsVLc8QFIytf0EU8brXxeQYRUH0NNpLzapMuhcYZrLNVpaWNhHSuXddm%2FFUZ0ICmQE0%2BIAW0%2BKpuP6oqsPy4lqLTK12YpMn5f75RboqVKN9Y3Ovbs9utHj9HOqUUqAym5HDKSiG2h55ISNJOtBJ5t0gAn8lD2%2BxrgblrBqYwPdWKx7G3krbJiQXzryuwwOqJbASSMlYjJ4M6PsLr64s%2BoeAbcqUd%2F4fH3PqtLcTQSV6J258Fp5Q30Juv3xRPfDzqBMPDDolZkLfVJtQC9kTamoJtG0ejc%2B2%2BCNgTDVwKgRSMHn7BDBNaqXNmoKbAeTMvKrzZWlDaGCMzQOsRqhooh0IKBy0DroLD5VjLajSnfIWhoQyNzFKmYCSIdmvgI8SiKvfgGqhMf3m7y85JYzCrhWQi9n0SmTP%2BVSrWC7mdvGbc8C4uxkXepD6xGQZ9JkALzr0LUTF5AtKOY9dPCx4%2BzpUwwzt1yEOeP2iFBdIdfBztU5NPQk1q15pZT4hMZ%2FWJk8kz5NvOOf%2FfKG8FPpJy5A%3D%3D&nvMid=25692500963&catId=50002543 / 인터파크 / 136,500 / 0\n",
      "**************************************************\n",
      "미에어 공기청정기 3H 국내 정발 한글판 국내AS 2년 / https://cr.shopping.naver.com/adcr.nhn?x=AIlvU%2FyQaN3O4HTGMkix5f%2F%2F%2Fw%3D%3Dsezzl9ikr0enRehciQdYyepdWz740BMM5jSIE7IKdOkurouWAHSLjOQPxoMB5AaqmvGvhqAerYatnGRgn%2Bfel6uBpAuUL2cS%2BlbxlQHPPmF2CAhuARNGKtI7woFGdAT%2FkWo1UIkV%2FNJejNcuqP32HhXTo%2BGak5X%2BpjtKuQjGougUgCHoCKICfnrZFklzKhALd8s3QEc%2BIKjD8CNDAWL6oDpl3qD%2BpK2LJfVT4BdbAWFIkHt2%2FxFQ8eblJ%2B%2BYzntzvAqB2reOjdQ11Lsq9iERT3vLYhyK6h2NIq2%2BuxNU1feX9V3z7LDzyMnyUizO26aO9M8OkYitpuK2na6nToNpF%2BLngnxQ7ssMZd09T0OjyjIz6602Btdnd2xektzxiEg1cEmfp4nFeWC6%2B%2F0mo4KhmFdz5LmkiPjx%2F0iFGrGMf3QUP3UXrRnMeMoQzwOc%2Bl6f4zOWy8ZPSHaNE0ZzyWHefxSASEiX94a%2BtS0qedh3acwY%2BRZ3NE%2BfrxRAjHZaxSUp45hoEFglQON44dXGG8vwvQI0JXGH2dp3kzdKHeyfgtY2xP8%2F5mrdfEafYR5y%2F2W6lMLgNxyBj61EffhbuF%2BiWg8jqD0S376iCr0ecru3AdjniZk8GZ9IBUejX7LyZg6tSTRmG7s3eOtg5%2FQMTLEwMrHINzXeYN%2FDZHnQssY88vjif8msIlx3X6IrdTpGZ2GunTPwx1Ov0VRPhur%2F9vcS8OGIpZcMwAoTezG0WNgQtgrk%3D&nvMid=25493229034&catId=50002543 / G마켓 / 136,750 / 3,000\n",
      "**************************************************\n",
      "샤오미 공기청정기 미에어3H 국내정발 / https://cr.shopping.naver.com/adcr.nhn?x=Ah3PhWqutFSjapKr2BIi3%2F%2F%2F%2Fw%3D%3Dsy1WbPiMsXG07hWFlEkajXWZ33EFJCEbQbj2AGXyB099XYMr64ruRQX0glQL3LbW4zWdsboysvy3McYUn%2F1iz8R7qc19wlKcGiqRbHKPpEwQbCTbyDiv1fX%2F%2BqdUsYo0xtxZCjsz9PJOJx%2FydlDEcskhAoeh2t0RTTO6WWA9nPaYoPcrSIM90Mk1DjipKXZ%2FbnTIMco7g3yeJNvwQjN6PmIzqdHQHuxntXb85k0OrzXK8ZmUEiV1feRokfpnbJtcofW5pAK5O3zhs72V7Fj3a4atMb8%2BbU5vYrF79c7hSHpfffisv5tHfoGFh7RH%2BtSaODg1f9vTf3Iez1Rjn58zRmkg5T5Bon9aiC0OQqtSl5Q1eiSqEGOqrIRuyqhWbsqgtsCvAlcFT0kuNQSfoqqEY4QTDww6JWZC31SbUAvZE2ppviu9oyyRFV3gPbhXw66GbjB5%2BwQwTWqlzZqCmwHkzL9Xzt%2BotsHXLLhoM%2FYiwJ3ASpE8AE9vrY2SL1FO%2BwASSVTtJTdabJ6el%2Bz2%2FGzD1u2O5vNvMoaBgEjFYpczNAkXK%2BzhOS7MONWBHQq54mNs9NDf54TtFbynC%2FfcsJgyerDi4teEnlx0Xu%2FTH5k6A2ITOvQtRMXkC0o5j108LHj7OzXa5A8gI4l4%2FxUUUDW9C3ykNKuBxBIpg6bxqYIzEPmJWkbDrUFJ2hBG8QaB8WVzn&nvMid=25426869823&catId=50002543 / 11번가 / 143,040 / 0\n",
      "**************************************************\n",
      "국내 정발 샤오미 미에어 3H 여우미 정품 가성비 공기청정기 / https://cr.shopping.naver.com/adcr.nhn?x=HNYIUUAfiFG77rK%2B95QMXv%2F%2F%2Fw%3D%3Ds24eCFwHFd5wMijcuWfhIJaa%2BIlaP3I3M%2Brw2DnZBs1FXYMr64ruRQX0glQL3LbW4c4YgTlpAopngY1eJYu3Rzf9D7XHzwmdzXKwCD6glMqAbCTbyDiv1fX%2F%2BqdUsYo0xtxZCjsz9PJOJx%2FydlDEcssu1rI7y%2Bnxga7qkc20jAaEHS16Mm4swTlRWNG5xgFwbZRipJmqVnoC7zoIMe%2FcqGA8QGwAqCtYvv6TI6ggETr3y2m%2FaceCFm97hR2thlFxRw6ZjbtkbN7RD61dGUzg7G441ZK8P3rauGK1tOXUp%2FMx%2BcSbhR3FXzyPzw%2FesNSW%2BdNqLMejHzbFyW2%2Bptm4xOYdCanMe61deRvn7hd3L4olXmrkFBPz96X5llskLwUjdltxEDrL71VYInk3D%2BS%2Fffun5aAsa9mJmQeaA5%2BfDoOjLQpEY0B1hXpAV7bY3P%2BIVm9uaSNQwKcDF6eIQ5S3yuYGmhCP4hFOiaW8j%2FofA0VkvQqvkUeiIgfaRTGblruGjOPv8QwSr43qMVLu%2FRvQoS4gvsNSKh9wz5jhJYnVfgSHlPKyZlN0QGJdUfxO%2FGPclmSCuz3k0AdAO0b64Qno%2B2VHGlJwXynI3CKTLNuLMaJ53a3K0uh%2BkWHWx1T7LryfQNmLgAlRU6aKkD4%2FqMtLyHqh7N4FgysXtyYMuGVb3QmHS%2BR2SHh3oXJ83PxBo0kVu&nvMid=82893823630&catId=50002543 / SCM스토어 / 145,000 / 0\n",
      "**************************************************\n",
      "샤오미 미에어 3H 수입 정품 / https://cr.shopping.naver.com/adcr.nhn?x=YZzTCWBQTwO2HYUWWU4wnP%2F%2F%2Fw%3D%3DsMPOSWze7thibxaU9PrZRObjXOgW0dtKyN0oHzJma61tXYMr64ruRQX0glQL3LbW4U08PD%2BOAqqVXOALmvCFuQRfhl%2BdsDX7A3jD7GeXRt5obCTbyDiv1fX%2F%2BqdUsYo0xtxZCjsz9PJOJx%2FydlDEcshnNy3hGPxSOto6WobxR5ZfDWoHEpd4h%2FzhIU8KLSc8X8Y3QArCAccVWMj2I0ryyFkM7VnCuK5gYNsUw3pHamaUhERbRF6x%2F4SuvvnBWdSQXg5eY1uRGMaZXm1imG9yLD%2Blhbm4DqYn%2B7BFXFMxt5MdMI%2B9e%2F3rKcqGpqSWd9x22d0C2q5kiys4YFanYzIHyJFVd6Z%2BmZ5fvTALbBBPmfKKpJnalZl8YBNTVY%2F%2FSODJ0yukqg7tILamVdXnBieliBsXtNFOg%2B8uj5fhQ%2BqvFtOMbRJBgaSKAuMPZGCEwwa6Ug%2FkVVn81xQsnTMxKAFRluC01bZi9hRJ1Hyntk7bC8GCTIXjVfujWmfJI0irGgMjYRNkq1l%2Fyj0GGhD6ooMSd%2FOh00%2BXWXczVSE2dvw6uOS8h%2BmJ6A8dn%2F4SEVqEM5Ubimwy72h4eD%2BbyzCBnRs5iwHgxAzM%2B2WOWtKWm933mEEq8RmMbA01lYdKtnvNm%2F9s46pvezUj5%2B5YSUE5Gw9M9TJtwveLCnoOlXjQ%2FO8DI1oI0L6QlFQuufLn4OFOF1P8Q&nvMid=24978079204&catId=50002543 / G마켓 / 148,580 / 2,500\n",
      "**************************************************\n",
      "샤오미 미에어 3H 공기청정기 국내발송 / https://cr.shopping.naver.com/adcr.nhn?x=X4RaW5dM2bF5TT8n8pSLkP%2F%2F%2Fw%3D%3Dsao5Pa0ZLl1n6koB6Z%2BYRNikVOVn1HNzH7Ft%2BFSV03a1XYMr64ruRQX0glQL3LbW4vLCSrh6pJ2FvpP3RIS1Qe%2FcsOhXTeo06Ymi4evOqvHYbCTbyDiv1fX%2F%2BqdUsYo0xtxZCjsz9PJOJx%2FydlDEcsm%2Fhh6KoxOSBCTNj1MFF5lbfIHfCe%2FtayGjNsVkPQZZRif%2F%2FuaH%2F8QB5HObcWOAI%2FVWyhaOaZKUHVM1AuDjM76Yzw6RiK2m4radrqdOg2kX4ueCfFDuywxl3T1PQ6PKMjPrrTYG12d3bF6S3PGISDVwSZ%2BnicV5YLr7%2FSajgqGYVD9DyyLpKkAwWUVbVXbXQEScarQuoE59gd0KhRCCd%2B0sA0gA7ne%2BrsOai9Xm7AJSr%2By8IfKYvwx3cFQ6pjXiMlg8h%2FpB0QG45Mu%2BBYiY4Js%2Fn9l9QH1QwS0vHedp99yPjfbBc1%2B6Py5JMExWESTGiEToN4gyKCa2FDZ3UYhFDBHSIL7DUiofcM%2BY4SWJ1X4EhgMNGEWcTEwev%2FK5pxvU0M40fU%2Bga0lYXLaYsK27rQmLLLBWepWcLWFHqxR7D%2B6yd6nFktP%2F%2BN%2FAKELIHztmrCJt9zkMcrVJl%2FAYliJwWS6IZx1rqwd9Zc8UYtzXUZDLM&nvMid=25583428493&catId=50002543 / 스타일씨 / 148,800 / 2,500\n",
      "**************************************************\n",
      "샤오미 샤오미 공기청정기 미에어 3H 국내정발 / https://cr.shopping.naver.com/adcr.nhn?x=vLhFP3kFy0EtHJbLzA471v%2F%2F%2Fw%3D%3Dsm0jTMrP6PGKdSZnt5nYDYCirKrV8IJcumgFqc1Zm8nhXYMr64ruRQX0glQL3LbW4clODbbGAZXg4M9JQ%2BYeYigBfUx0KiOInoNzRTnZfyAobCTbyDiv1fX%2F%2BqdUsYo0xtxZCjsz9PJOJx%2FydlDEcsnzd86rYgB0CTXD%2BO1ma76q9SPMalG%2F4NgoO75m6H9AzSgDFBeoncWzCxO7JAs1UeA6d7wek6dztp9bXSRHNnfAX76N6B21SxKSBVHurGUC0M8OkYitpuK2na6nToNpF%2BLngnxQ7ssMZd09T0OjyjIz6602Btdnd2xektzxiEg1cEmfp4nFeWC6%2B%2F0mo4KhmFfC9KJQneYM14DDdexEPvXRdHNFrqgOmPmDE5jzryp9zANIAO53vq7DmovV5uwCUq4h7jOs0slPEH3GyfFBl%2FoEPIf6QdEBuOTLvgWImOCbP6jja8m3EwZ9lpRKfwhLWyAv2YVzbcrbAzswMP27SUfPlzLU8tc3m1tIVYJ184GdB0Bzi32bzv0Oa%2FspQOojAx8jqD0S376iCr0ecru3AdjmTfnM%2FGxDyGM%2FcYDZ%2BXbS%2Fqh4JK1CoQk8xcQxCKZ5BgnINzXeYN%2FDZHnQssY88vjif8msIlx3X6IrdTpGZ2GunHd6p7s%2Fa5SlBAzDXqcXvwmIpZcMwAoTezG0WNgQtgrk%3D&nvMid=25718377024&catId=50002543 / G9 / 149,000 / 0\n",
      "**************************************************\n",
      "샤오미 샤오미 공기청정기 미에어 3H 국내정발 / https://cr.shopping.naver.com/adcr.nhn?x=HOsafZba3tKHL3GJeVVtiv%2F%2F%2Fw%3D%3Dsjf7VdrjfsHm7IrvbdrB2XOH8brwYo4TDlhWNaMMWI411TrE2QaAt84x67RbYd1c9PLa%2BK8%2FUQVC8fbjGyKNrPF7iWpnn7D92GgyPyr%2Bwv0N171k1tEXDda1ncsJZ3oLWpsVLc8QFIytf0EU8brXxecJfE2kiXjS7Uj8ZgSEAw9a96iYnMWGek4I2TZFsABy95KTp9tGrijpAdhBc8w2qZpq1lxpwDJUI7a3tUybLIYPOWh3n03ia5ybFLZMfIRV3Nk7Z%2Bn0eNJtLIFUgvqwfrZB1QqPgPyOvEfpZJLrh4ikt58ObFbWc7gJUsDHF3EpvzSp9GwPNK4yeJ64ehe0DJ8v%2BjB2erv%2BZ%2Brrs5VHOiTSIVEUyEX15tdzXO38Pd9Q6VuW4%2BCLNclVgkyLO%2B9TRK5yFTy8TzvPenupRLakyggkXvIkDMtwHdDyq2R4PkGsUQozfAHBMfdeli3fG%2BzwX%2FRwZiTSB6%2BHvBZycEnVBj%2BcZpuz7ZKrfU7gxmZq4TMOqKCu4iwQ2UU9cQP2%2FMmqCG%2BYaBBYJUDjeOHVxhvL8L0D%2BLwWzLEq69sVWzI%2FJXebsFeTmH6N6bLOD2wzbXk01GCQYKhBv9ejUxX%2Bl4JZMmrfSowwLO9eHz9LHmgHQXi49gQpKsv%2BcFFojqmXUsr%2FN3F2WBXTAV0a1Krf0VCqh7VrZSKRXPW6YLo8X8veU7hoPeBBT0Mq8dwZJZ9pP3f6XONOWHn3SuXr49rpUM7PJak0%3D&nvMid=25718318316&catId=50002543 / G마켓 / 149,000 / 0\n",
      "**************************************************\n",
      "샤오미 샤오미 미에어 3H 공기청정기 국내정발 한글판 국내AS 2년 / https://cr.shopping.naver.com/adcr.nhn?x=Qjj4rl3cd4t9ZhlEecg4jv%2F%2F%2Fw%3D%3DsL4%2BAAJlibc22lj51yF91UgwqLa8aIWz2Qovote5vkJtXYMr64ruRQX0glQL3LbW4oIWYcbVBNpEMx6RaqM4rcptxt%2BetYKyuWGyqAcx%2F%2F7MbCTbyDiv1fX%2F%2BqdUsYo0xtxZCjsz9PJOJx%2FydlDEcsvPdXvbZ%2BiMk6inX5vmF9OLiqQtcyEWSFbNWraNLvLtJizQZ26I7qAQbGqfKtL7x9OdJUmfBz%2BMuKQ6lpuQDXCiZgFoRZtDEfW3B1pn%2B4CPuouP69Jc9aEpPQFvKsxbFL6Tq%2FbD2MGowZHhNOyBhpCdP9GukyRRc35bcYyIud8JNHaM2xkHpCVvLLy4kkQg4QeTIi00%2BvgoxFJkJcWDb7MMP3UXrRnMeMoQzwOc%2Bl6f4uflreyjs9iaKG0zbImdWwDMe0nEoJsvKHXwqb5AF6XPW4JMkFDVJLWcNKuarXQqaZV855tlLXugB3ERvPr%2Bas%2FcTUR5Efw31%2FuiWZCyEqIP%2F61o1GJsKOxPJcxpMnRVOCBK1q%2FDsAhWsyeTTuIrRj%2F2DPYHHM%2B43HwCBdL%2FR0dMRn9U6a6K60ibchDfB0pa9iw1F%2FBihopGH6yuCXH0N5QSIGyk4%2FyDUS7obMhFSKViUb9joj36I8c5Y3W96%2BIF%2FuO4m8wb8a6aVvsfCvM6IWdYcvgyO2pNxpaTkCkoRXKAoa7NyoCzX4qCiZRVOZiBH&nvMid=25834931734&catId=50002543 / 옥션 / 149,390 / 3,500\n",
      "**************************************************\n",
      "샤오미 샤오미 미에어 3H 수입 정품 / https://cr.shopping.naver.com/adcr.nhn?x=f1ZhpBOB9HLCyktOXeriTP%2F%2F%2Fw%3D%3DsAUqqR1npikNtDAFVtyKkI7881zzYxAP8VIxotSOAXM91TrE2QaAt84x67RbYd1c9REVpk6YDhiKSsCqLCSQ8WZCy%2Bi8SBOHqRkXwfrxs7dx171k1tEXDda1ncsJZ3oLWpsVLc8QFIytf0EU8brXxeRm3z3i34o6pRDfy%2FRQ7m9B4NQc7ozsjN2nsq5Te5vDygTSEsZa%2FsqNzf0g%2BAU2K29gaa23PB3%2BZvCbficJ2WAvDC0vpkWL4qSmsevPuYZU0M8OkYitpuK2na6nToNpF%2BLngnxQ7ssMZd09T0OjyjIz6602Btdnd2xektzxiEg1cEmfp4nFeWC6%2B%2F0mo4KhmFSf80RkGBORPsVIEhtS1gP0bRJBgaSKAuMPZGCEwwa6Ug%2FkVVn81xQsnTMxKAFRluNJLrf2feNqVwPhblB%2FA2eiTIXjVfujWmfJI0irGgMjY53lTQlNiCKE3Joh5LOVLu8LADzt%2BLT9%2BAmTwuw4Eg6m79pO3SvDcGKtCgDdvTOcmMXMbmKDPTRzguxs1oFYVgkShO5pi0ZQY30nbcIvTCVIG8cWLk8BFDSYb8TRl0BVk1rhDzVaLcEQc5hjXSnOw7VgFlTKFPe21DLnCBqCm7M9jhtWGwUc1Vb6EguzsCeOM7vQOqyYZ0lP25LvqyfOQ5g%3D%3D&nvMid=24977205026&catId=50002543 / 옥션 / 149,880 / 2,500\n",
      "**************************************************\n",
      "국내 정발 샤오미 미에어 3H 여우미 정품 가성비 공기청정기 한글판 / https://cr.shopping.naver.com/adcr.nhn?x=h6E2eLfCENiO3tVQqa064P%2F%2F%2Fw%3D%3DszqJXxeGJLVAn4sDm%2F5xFp0DkSn65RO%2BJnFLqDYiL14lXYMr64ruRQX0glQL3LbW4mIm7Fx6qM1WmiKgRK9H4Fk6USXHyvgb8WxLCD1sCAR4bCTbyDiv1fX%2F%2BqdUsYo0xtxZCjsz9PJOJx%2FydlDEcssHMoSM8kYJrzaZDXyMimbuEAp3qsmC62YyFmFD%2FJlKgaBaJwBSHOyzid5IO8TigkCASpBAQzmjvU3q63pysH1eILa49u4UZNjzUqdXiTG84f3GyxAOODG636mvxqmJDyLcJXmU08oAy9yqaufJqpUD8yLnF0gZzj%2FhCxe6HQHY6hmeWtJmvw8M90EK%2Bzy5a1yVdN3LpKf%2FbKuiZi7z1XJQcY8WRFLqBigsEwSMKdGtOtFyUH707Og9JHm2STSMHql6%2F3qTwCMy0PJgG%2FXy4LWKA604IFuTLUhHwGUpX8Cgm3evzfGyX7rPMJICYHc1GFghUZG7ALTcO%2B%2Fpt29GlTyMd5CMwyy%2Fwsc4PMqpT%2FNhx4aK7ouI8izKD2xsyQ9CfI9TbBOVBqt0ybatRlFjE%2FHdWyFc7RyVezIJREkFp00g3xFpG0A5q%2BwtfGf3jOkNU7JnBWkLrR3TPvilcMb2%2BRK2B8dg0Mo%2Bbt1P%2BFq%2Bo%2BMDIQlUhY6iLoDW40LQ8DjbUrgVXkQH7GM%2BieMlK5OCBav4CyizmvcNKW9r6Z4V8884i1rhDzVaLcEQc5hjXSnOw7VgFlTKFPe21DLnCBqCm7M89ZU6L9W7Ethza37G0TzY%2B7vQOqyYZ0lP25LvqyfOQ5g%3D%3D&nvMid=25697143406&catId=50002543 / 위메프 / 150,000 / 0\n",
      "**************************************************\n",
      "샤오미 미에어 3H 여우미 정품 가성비 공기청정기 (G9단독특가 코로나 극복 프로모션) (설날 선물) / https://cr.shopping.naver.com/adcr.nhn?x=QCg3avJi6JI8UUvbywoBe%2F%2F%2F%2Fw%3D%3DsJyP2WFMIXoTI3%2Fc6lOY162MAiFq5Z6WlJ4K87RjxVDZXYMr64ruRQX0glQL3LbW43Vyvjk%2Fby%2BAYg1xEKC8wceFM9HZ4Y%2BwZibA9WvnjKZEbCTbyDiv1fX%2F%2BqdUsYo0xtxZCjsz9PJOJx%2FydlDEcsnzd86rYgB0CTXD%2BO1ma76q9SPMalG%2F4NgoO75m6H9AznVvt%2BINNUGYVVRmqHFYoXw6d7wek6dztp9bXSRHNnfAX76N6B21SxKSBVHurGUC0M8OkYitpuK2na6nToNpF%2BLngnxQ7ssMZd09T0OjyjIz6602Btdnd2xektzxiEg1cEmfp4nFeWC6%2B%2F0mo4KhmFZxUpUMdh%2FZVXK%2FS7knX5sZdHNFrqgOmPmDE5jzryp9zANIAO53vq7DmovV5uwCUq%2B13fT5iNoRJkdkLvbxU%2FaUPIf6QdEBuOTLvgWImOCbP5%2FZfUB9UMEtLx3naffcj4%2BiiQqdcn9BTufabBhcveLTOaPbm7oK3CdnlsbSMggXfaMEC590TJ7tjs8v%2FFpO2p%2Fp0Uov0H09OzPmI1%2BNwx6A%2BerUP6lb8VFVNwTRCna3AQWi7ElLOikwzLCrIUjKwddwgT2HGYi2caMxumwTyn14Rn9U6a6K60ibchDfB0pa9MGftGTl4S%2Bx7gt1Mg8Eb3Quw45pj0%2FL5GMqG1UPOhpaUb9joj36I8c5Y3W96%2BIF%2FuO4m8wb8a6aVvsfCvM6IWSw3SbCAwWzkrRuyIPYoSngoa7NyoCzX4qCiZRVOZiBH&nvMid=25703375900&catId=50002543 / G9 / 150,000 / 0\n",
      "**************************************************\n"
     ]
    }
   ],
   "source": [
    "for item in items:\n",
    "    title = item.select('a.productList_title__uCZ0P')[0].text.strip()\n",
    "    url =   item.select('a.productList_title__uCZ0P')[0]['href']  \n",
    "    try:\n",
    "        mall = item.select('img')[0]['alt']\n",
    "    except:\n",
    "        mall = item.select('a.productList_mall_link__1-Q4X > span')[0].text\n",
    "    price = item.select('a > span > em')[-1].text \n",
    "    deli = item.select('div.productList_delivery__2BusJ')[-1].text\n",
    "    \n",
    "    if deli == '무료배송':\n",
    "        deli = '0원'     \n",
    "    elif deli == '착불':\n",
    "        deli = '2,500원'\n",
    "    deli = deli[:-1]\n",
    "    print(title, url, mall, price, deli, sep = ' / ')\n",
    "    print('*'*50)  #상품별 구분 위해 줄 넣어줌"
   ]
  },
  {
   "cell_type": "code",
   "execution_count": 14,
   "metadata": {},
   "outputs": [],
   "source": [
    "# 페이지 접속 이후 코드 정리하기\n",
    "html = browser.page_source\n",
    "soup = BeautifulSoup(html, 'html.parser') \n",
    "items = soup.select('ul.productList_list_seller___NsJk > li')\n",
    "\n",
    "results = []\n",
    "for item in items:\n",
    "    title = item.select('a.productList_title__uCZ0P')[0].text.strip()\n",
    "    url =   item.select('a.productList_title__uCZ0P')[0]['href']  \n",
    "    try:\n",
    "        mall = item.select('img')[0]['alt']\n",
    "    except:\n",
    "        mall = item.select('a.productList_mall_link__1-Q4X > span')[0].text\n",
    "    price = item.select('a > span > em')[0].text \n",
    "    deli = item.select('div.productList_delivery__2BusJ')[-1].text\n",
    "    \n",
    "    if deli == '무료배송':\n",
    "        deli = '0원'     \n",
    "    elif deli == '착불':\n",
    "        deli = '2,500원'\n",
    "    deli = deli[:-1]\n",
    "#     print(title, url, mall, price, deli, sep = ' / ')\n",
    "    data = [title, url, mall, price, deli ]\n",
    "    results.append(data)\n",
    "#     print('*'*50)  #상품별 구분 위해 줄 넣어줌\n",
    "    "
   ]
  },
  {
   "cell_type": "code",
   "execution_count": 15,
   "metadata": {},
   "outputs": [],
   "source": [
    "# 현재 페이지에 있는 상품 정보 가져오기  --> 함수로 만들기\n",
    "def get_items_page(browser):\n",
    "    \n",
    "    '''\n",
    "    페이지내 상품 정보 가져오기(페이지당 최대 20개 정보)\n",
    "    \n",
    "    input:  어떤 브라우저에서 작업할 것인지\n",
    "    output:  브라우저 현재 페이지(네이버쇼핑) 상품별 정보\n",
    "    \n",
    "    '''\n",
    "    html = browser.page_source\n",
    "    soup = BeautifulSoup(html, 'html.parser') \n",
    "    items = soup.select('ul.productList_list_seller___NsJk > li')\n",
    "\n",
    "    results = []\n",
    "    for item in items:\n",
    "        title = item.select('a.productList_title__uCZ0P')[0].text.strip()\n",
    "        url =   item.select('a.productList_title__uCZ0P')[0]['href']  \n",
    "        try:\n",
    "            mall = item.select('img')[0]['alt']\n",
    "        except:\n",
    "            mall = ''\n",
    "        price = item.select('a > span > em')[0].text \n",
    "        deli = item.select('div.productList_delivery__2BusJ')[-1].text\n",
    "\n",
    "        if deli == '무료배송':\n",
    "            deli = '0원'     \n",
    "        elif deli == '착불':\n",
    "            deli = '2,500원'\n",
    "        deli = deli[:-1]\n",
    "    #     print(title, url, mall, price, deli, sep = ' / ')\n",
    "        data = [title, url, mall, price, deli ]\n",
    "        results.append(data)\n",
    "        \n",
    "    return results"
   ]
  },
  {
   "cell_type": "code",
   "execution_count": 16,
   "metadata": {},
   "outputs": [],
   "source": [
    "# 1 페이지  ## 페이지 이동은 수동으로 진행\n",
    "sale_list_1 = get_items_page(browser)\n",
    "# sale_list_1"
   ]
  },
  {
   "cell_type": "code",
   "execution_count": null,
   "metadata": {},
   "outputs": [],
   "source": [
    "# 다른 페이지 상품 정보 합치기"
   ]
  },
  {
   "cell_type": "code",
   "execution_count": 17,
   "metadata": {},
   "outputs": [
    {
     "data": {
      "text/plain": [
       "[['샤오미 미에어 3H 한글판 여우미 수입',\n",
       "  'https://cr.shopping.naver.com/adcr.nhn?x=R9ApPka%2BBw0IPIs8y2NgG%2F%2F%2F%2Fw%3D%3Ds5toeMuQdtkJ7%2BU1gE2Ojr1KDdjlDSHjkl71DhAD1pCBXYMr64ruRQX0glQL3LbW4ouAZpunR04MMjFnwK5%2F57uF81HrGHdN%2F99h2nxeF%2BcwbCTbyDiv1fX%2F%2BqdUsYo0xtxZCjsz9PJOJx%2FydlDEcskhAoeh2t0RTTO6WWA9nPaYoPcrSIM90Mk1DjipKXZ%2FbnTIMco7g3yeJNvwQjN6PmP721SO8nUpkuFgLQWTKn%2B%2Ffe%2BbfS0MyM0MKhK5PYtiOfW5pAK5O3zhs72V7Fj3a4atMb8%2BbU5vYrF79c7hSHpfffisv5tHfoGFh7RH%2BtSaODg1f9vTf3Iez1Rjn58zRmkg5T5Bon9aiC0OQqtSl5Q3Vc8cxLq40C1mQeHAFz%2BS%2FsCvAlcFT0kuNQSfoqqEY4QTDww6JWZC31SbUAvZE2poUnnnFTV7pKhz12AknqEX5jB5%2BwQwTWqlzZqCmwHkzL2VfOebZS17oAdxEbz6%2FmrPAWg9XdFyX1KK3o4%2BAzxzyY3UoMEPLZOSQcNDaytkIPU1FofMUFrckok2x3VXK7oSMCyW5wcMFQKNvlempngXEl9Yu1l%2BdwnMYbT3iRI%2F47m6ZFHUUkacmLfApOTrh8LWINN9RwalG9jaYNyWn%2FJby9FxkLbIeb1LLiVlgJxIhDZYHDZH84leiybJBFwL7vPk%3D&nvMid=26188781496&catId=50002543',\n",
       "  '11번가',\n",
       "  '127,080',\n",
       "  '2,500'],\n",
       " ['[쿠팡 직수입] 샤오미 미에어 공기청정기 3H AC-M10-SC 45㎡',\n",
       "  'https://cr.shopping.naver.com/adcr.nhn?x=3tNLfyTfO1LPoz65ILtHBf%2F%2F%2Fw%3D%3DsYjAgtsXT%2Fq9eWWBmOEkOinmVyujiOmivsazBoZq4AJR1TrE2QaAt84x67RbYd1c9PLa%2BK8%2FUQVC8fbjGyKNrPNKyZT0ny4RBlzkKk%2BZyxUZ171k1tEXDda1ncsJZ3oLWpsVLc8QFIytf0EU8brXxeaeBReS2eAnHF0WQDCquf3her%2FNlNQMie7Zc%2BFoNI%2FbShrj5p43KyGLkNGHpAKAf8XxU7m2NJZw3v%2BxF8Nk%2Fr6svacWUePtfB1UY%2B8nYALKuc45l2qEOFROlkvsuhcz6%2Br%2F%2Fsan6IuNi9jw9EI6fXPSKA8Ymr59MDWVce5FIrxBarvHBOq87qcM4aJZS51m9Usi30QtKP1mA7BYZPpxeJLcDieBYvAPV46rSxR8KTlq%2FtDdE4%2BSdZnrPRXHIfA1ENuJgktDSrfMdneHclipVnfrLqGZ%2B8HaRdx1Eefvgvy9kgOtOCBbky1IR8BlKV%2FAoJsShTMAoQz5H4kuJy2GBxAUKLvMWms5WxlLd8BZFjO%2Fx1Kp7d8fn71OEoJ36bQKWBvw%2FRqPXDtyTNckj7jCOMzQBsFkOvTWPBqVlQhtMoef%2BvnkkhocEjrszBpoyB6NYBiLzmwZzCtk2s3XxD6FCWz%2BB8dg0Mo%2Bbt1P%2BFq%2Bo%2BMDIGvvHbJCTgSHdEnbOwO48EENdXI%2FP8tfYCgtaIAehcvO8RmMbA01lYdKtnvNm%2F9s46pvezUj5%2B5YSUE5Gw9M9TJtwveLCnoOlXjQ%2FO8DI1oKEqtOVqWOwODOcCrivqF2F&nvMid=21232246729&catId=50002543',\n",
       "  '쿠팡',\n",
       "  '127,130',\n",
       "  '0'],\n",
       " ['샤오미 샤오미 미에어 3H 여우미 정품 가성비 공기청정기',\n",
       "  'https://cr.shopping.naver.com/adcr.nhn?x=aADu2e0FOl8piyvl56Rfhf%2F%2F%2Fw%3D%3DsQAqA3FgtDKhq7ElbnkNjJf%2BJ3JgC2hF0Wg4ZocofTypXYMr64ruRQX0glQL3LbW4cqJ13jWn1oMLMvLSgDavcz05k3k%2BPql1RvG3u4B5ybYbCTbyDiv1fX%2F%2BqdUsYo0xtxZCjsz9PJOJx%2FydlDEcsvPdXvbZ%2BiMk6inX5vmF9OLiqQtcyEWSFbNWraNLvLtJizQZ26I7qAQbGqfKtL7x9PGtddLCtmb3pFapofuSmT6ZgFoRZtDEfW3B1pn%2B4CPuouP69Jc9aEpPQFvKsxbFL6Tq%2FbD2MGowZHhNOyBhpCdP9GukyRRc35bcYyIud8JNWxldAFVI4wFGFYUqmhEUnTC%2Fe0UPOA9RYqHaWnRoKLMP3UXrRnMeMoQzwOc%2Bl6f4aNn9zRI2O8ilVDrYA5Vs6WmUQsig7egGLyUp1NsBjDbW4JMkFDVJLWcNKuarXQqaZV855tlLXugB3ERvPr%2Bas%2FdeBllbO6HVY6y%2BUcosUHAfaSqWydAaLwEZL13SWdGD6nq8dzGCH8U4910CvSqCHb4U4UmgKprgG3PG0s1eag7MTrArQZRj4J8Vi%2BCWxSwCqFT53S2X9PZWQyqLLE%2FlmW6ZFHUUkacmLfApOTrh8LWINN9RwalG9jaYNyWn%2FJby9FxkLbIeb1LLiVlgJxIhDTbsJhKBoHmUMDiaaZ2oq38%3D&nvMid=25693458256&catId=50002543',\n",
       "  '옥션',\n",
       "  '127,130',\n",
       "  '0'],\n",
       " ['공기청정기 미에어3H 국내정식 AS2년 재고보유 [03/09 출고]',\n",
       "  'https://cr.shopping.naver.com/adcr.nhn?x=%2Bdcim%2BsQpeK0YMTSD87JMv%2F%2F%2Fw%3D%3Dsq3URf7wuq8CYAhgxtVSx988y0beW4si7MPCofXZRgd9XYMr64ruRQX0glQL3LbW4sFA94ixik2FjfPjpq%2FK29hPBXlFNd7WwNlgdkZB73i0bCTbyDiv1fX%2F%2BqdUsYo0xtxZCjsz9PJOJx%2FydlDEcssu1rI7y%2Bnxga7qkc20jAaEHS16Mm4swTlRWNG5xgFwbvy04Ug0FJyRWtbPt%2BY6vbm6LibDB9GWVAH8ioOSYITHy2m%2FaceCFm97hR2thlFxRw6ZjbtkbN7RD61dGUzg7G441ZK8P3rauGK1tOXUp%2FMx%2BcSbhR3FXzyPzw%2FesNSW%2BcUImk7xusJ4pok6s%2BYNKsnACkvGPlCL5LJQHF%2FdaN2OabXuAr9IyKnKJZBvBTDYtcNz8%2BcOMUdm2VcKS9BKcTHXnlwqGkeawNAc4iUHqQWZLehMx3t98nI%2FefhS2w6jtpFf3PGOfJDjYFaTX0nehA16Kv1CC841xxwNvJdQc1WA4z6nmuzKN69j9KEL2pCFqB8caTx01TghFRsPM%2BFqPMiQYKhBv9ejUxX%2Bl4JZMmrflMxMQKL%2BL9MB7k2ZiCmpNRHbIuExrpeO4s9MZ9X1xv4rsAvz4nyILmhTX%2Bwyfw%2FaINN9RwalG9jaYNyWn%2FJby9FxkLbIeb1LLiVlgJxIhDejyPkYZSWcw2ClIQabF7P8%3D&nvMid=82370880874&catId=50002543',\n",
       "  '',\n",
       "  '127,900',\n",
       "  '0'],\n",
       " ['[샤오미] 공기청정기 미에어3H 국내정식발매',\n",
       "  'https://cr.shopping.naver.com/adcr.nhn?x=6LfkA6EfwwWKqNPAMVvP%2BP%2F%2F%2Fw%3D%3DsWj3MgKgGQFdniG8oncV%2FyI6xEkAdQefR3ST9kKakKUpXYMr64ruRQX0glQL3LbW4HNfbCIJwo7MYZxNXCg7S3SmH%2Fq%2BExGVLxO75AcFGl8MbCTbyDiv1fX%2F%2BqdUsYo0xtxZCjsz9PJOJx%2FydlDEcslF2zq3xAH8xYx1co0ZfY8h57m6QRy%2FLo%2F5V3cXssw8Qh6K4EtuAbHyAzSJe6Xk1d0E901dtDmFNg%2FDjRgxWQ4%2BOwFNWopCFAWSt4IlAiD4NkNDrqgFKecncmuTbeU2Kja7xwTqvO6nDOGiWUudZvVLIt9ELSj9ZgOwWGT6cXiS3A4ngWLwD1eOq0sUfCk5av7Q3ROPknWZ6z0VxyHwNRDbCJ15CWhSp3YcxSNJAk%2F5UdMsK2eW%2Bed%2BfkWdTQLABc8mOK1Nfh8aAZML4oGR%2FNYKLe3v%2Bi6NRVUrQ6X9GHh%2BSBlSY0DiDEtN5td2AJ8xQ0GckW7iU9ukqUhqheJBDK5NLehMx3t98nI%2FefhS2w6jtpFf3PGOfJDjYFaTX0nehA%2BcoSZ4Rkn%2BVBhZ%2F%2F%2Bw1FaqB8dg0Mo%2Bbt1P%2BFq%2Bo%2BMDIogGSXHItKsDTMMX7GeMxolIIZkMu7q%2FR2eMtz4pZpdFyDc13mDfw2R50LLGPPL44n%2FJrCJcd1%2BiK3U6Rmdhrp2xdUUtFsTmRv0ndnDG%2Frsbu9A6rJhnSU%2Fbku%2BrJ85Dm&nvMid=26245768146&catId=50002543',\n",
       "  '',\n",
       "  '127,900',\n",
       "  '0'],\n",
       " ['샤오미 미에어 3H 여우미 정품 국내정발 가성비 청정기',\n",
       "  'https://cr.shopping.naver.com/adcr.nhn?x=i3pP3aJjihs49RvleD5m1f%2F%2F%2Fw%3D%3DspQJWV8zPkFwqBOm6lNo0UnWQzzg0UqsQAE9oLayWJep1TrE2QaAt84x67RbYd1c9PLa%2BK8%2FUQVC8fbjGyKNrPMrw6JE24H550D8E6w516oV171k1tEXDda1ncsJZ3oLWpsVLc8QFIytf0EU8brXxecJfE2kiXjS7Uj8ZgSEAw9a96iYnMWGek4I2TZFsABy95KTp9tGrijpAdhBc8w2qZpq1lxpwDJUI7a3tUybLIYNqskVLKtkJT4ECYBY0d6zUvpFhJN8r1cgbgA2qf9hblZB1QqPgPyOvEfpZJLrh4ikt58ObFbWc7gJUsDHF3EpvzSp9GwPNK4yeJ64ehe0DJ8v%2BjB2erv%2BZ%2Brrs5VHOiTSIVEUyEX15tdzXO38Pd9Q6VuW4%2BCLNclVgkyLO%2B9TRK9NFqzCog1iRxP3RRu6fVDsXvIkDMtwHdDyq2R4PkGsUQozfAHBMfdeli3fG%2BzwX%2FR94W8VKnZyjeMCG%2FGZ5ECwZpuz7ZKrfU7gxmZq4TMOqXztg4vSblG7G04uYknLi8NwGXIM8KxlHGtgz%2FO3tW7Ighg5xwSw1gv10LFM4Ibuo6662GFsm1D0WlrUXGetj63wqOmesGuCeX2L9U19csKAq9%2BAaqEx%2FebvLzkljMKuFbVX84Zs%2F6pqcmQs8pjhsB9zwLi7GRd6kPrEZBn0mQAvOvQtRMXkC0o5j108LHj7OlTDDO3XIQ54%2FaIUF0h18HNYX%2FxixXIPpquOZa4hyOOWTyTPk2845%2F98obwU%2BknLk&nvMid=25697669873&catId=50002543',\n",
       "  'G마켓',\n",
       "  '128,100',\n",
       "  '0'],\n",
       " ['MI 공기청정기 3H Mi Air 3H AC-M10-SC 45㎡',\n",
       "  'https://cr.shopping.naver.com/adcr.nhn?x=ajuH8wG8loQv8ClcsDhH8%2F%2F%2F%2Fw%3D%3DsE7eQGXFbHrNONT%2FRJmXqw6m3jP2WZJhYh1CLsWhGl6R1TrE2QaAt84x67RbYd1c9PLa%2BK8%2FUQVC8fbjGyKNrPMY23Ro9EIRiSsixJXwKSe5171k1tEXDda1ncsJZ3oLWpsVLc8QFIytf0EU8brXxeTSMN514QMMut11lB%2BbrHuZLhv4nBWN6vYRnY66Pfp8UUcrLTjH4NoToPMx5WnGZmSa96HbR9%2F%2F2qnEBBOMYZPZSn6vKRwOlVhxnccVyYOarQ%2BD%2Fo9glb0ukJK6bM8miKNbqpI6t1N2zkZ6St7s5MnLsu%2FEV%2BW9r1kQjfzSB5yxaIxCN9W7NnTT8HZySIdIL3b9a33%2FMq8QUMniNj1RjDPnJjitTX4fGgGTC%2BKBkfzWC41urvWSsedJjFMqQ2Yy2QXornTeMFMWI76yU7BvGjg6O5pWJWdgH6EGTzIsDrhgsrgzW72XHpAo9zC0kRgre9H1S72je%2BLz3pRXtX2otWlYPOvAcM1N%2FxGrqUSn%2BbBbK%2BJI2EGlA2dOL4rDlT7Ni%2BJvW0fdKAD2GC89XvIIsA6tgQQHdI5zpXi49dCjE6FsDcvESoow62zlheIN5oE9sFdlIpFc9bpgujxfy95TuGg%2BVUqpLm8TscQwo7P7bbJ9TYillwzAChN7MbRY2BC2CuQ%3D%3D&nvMid=82971176787&catId=50002543',\n",
       "  '',\n",
       "  '132,000',\n",
       "  '2,500'],\n",
       " ['샤오미 미에어 3H 공기청정기 국내정발 한글판 국내AS - [샤오미] 미에어 3H 3C 공기청정기 국내정발 한글판 국내AS가능',\n",
       "  'https://cr.shopping.naver.com/adcr.nhn?x=2QinPxtjt86SHIFHIO2TYv%2F%2F%2Fw%3D%3DsXBP6bGSP7olJwCW%2BMPLu4MxLB4V%2F%2F2EtsRCTd7xbA3qrouWAHSLjOQPxoMB5AaqmfN587ueZMGXPZOFNBfFQ0GJIxBbVrBpvJADsPFfglZyCAhuARNGKtI7woFGdAT%2FkWo1UIkV%2FNJejNcuqP32Hhe64mta3fu0EXFEO0wASKiBLITRP1jdo8ajNdAVZ%2Fvr%2BodRZpP6%2FH1ZV2jLdWq2uTWOiudsC%2FTqEm8qcDtldQIjXwJDXGLuOazOE2G9yZLxjgLxgYhje8tIHE16RKgDnlx%2FJ%2BLYr%2FT2Ld7WlUY66kmRWEXeXwSaubPu0qUaxQfPPa%2BpHa6ewb0%2FDpcGez9%2B2MuGB5Nypcd9iDasXeLrOhquzAHDdzrFIHbY72YLOeyyXI59ssGZXd%2B28mWcRS5X601f3QTkjHaeXkze654TrornqDfeYoRJig%2F8RyRLXK3t420kYCS3NvySITWcPYQsXlsdtoE1J51cKDdvi%2FWCKxU92JPgzuTetdDgAvl1y3aSYMbVYK6l4Wq9iRAVySHiyB%2FSpsS9IIZ%2B5FNDlH%2Byzs0rpd%2B1umWIYatR%2FoGzh4XpsRunxNf8RzbHrUASXgXTmf4XXmlcWpC3oojGqITlvp6ftIsUauPG2O8FxEFv03WiU7s4otNE92mvyCicn5mytWCQYKhBv9ejUxX%2Bl4JZMmrdKrQcO4hW8h%2F049HXXV56ffYSfczXyYm8qrJq75GdudV2WBXTAV0a1Krf0VCqh7VrZSKRXPW6YLo8X8veU7hoP6NppY%2Bqm1U40S8zLHttCo2IpZcMwAoTezG0WNgQtgrk%3D&nvMid=26048534125&catId=50002543',\n",
       "  '티몬',\n",
       "  '133,920',\n",
       "  '2,500'],\n",
       " ['국내 정발 샤오미 미에어 3H',\n",
       "  'https://cr.shopping.naver.com/adcr.nhn?x=n4fTD1pTugJHTytQzfCrff%2F%2F%2Fw%3D%3DsOVr167VwJBnAAw0x34Nkqkd%2Fxv9dUxnzKToLkXlU5J11TrE2QaAt84x67RbYd1c9PLa%2BK8%2FUQVC8fbjGyKNrPG8pbH3%2FWFDlI4cmunuKlPF171k1tEXDda1ncsJZ3oLWpsVLc8QFIytf0EU8brXxeQYRUH0NNpLzapMuhcYZrLNVpaWNhHSuXddm%2FFUZ0ICmQE0%2BIAW0%2BKpuP6oqsPy4lqLTK12YpMn5f75RboqVKN9Y3Ovbs9utHj9HOqUUqAym5HDKSiG2h55ISNJOtBJ5t0gAn8lD2%2BxrgblrBqYwPdWKx7G3krbJiQXzryuwwOqJbASSMlYjJ4M6PsLr64s%2BoeAbcqUd%2F4fH3PqtLcTQSV6J258Fp5Q30Juv3xRPfDzqBMPDDolZkLfVJtQC9kTamoJtG0ejc%2B2%2BCNgTDVwKgRSMHn7BDBNaqXNmoKbAeTMvKrzZWlDaGCMzQOsRqhooh0IKBy0DroLD5VjLajSnfIWhoQyNzFKmYCSIdmvgI8SiKvfgGqhMf3m7y85JYzCrhWQi9n0SmTP%2BVSrWC7mdvGbc8C4uxkXepD6xGQZ9JkALzr0LUTF5AtKOY9dPCx4%2BzpUwwzt1yEOeP2iFBdIdfBztU5NPQk1q15pZT4hMZ%2FWJk8kz5NvOOf%2FfKG8FPpJy5A%3D%3D&nvMid=25692500963&catId=50002543',\n",
       "  '인터파크',\n",
       "  '136,500',\n",
       "  '0'],\n",
       " ['미에어 공기청정기 3H 국내 정발 한글판 국내AS 2년',\n",
       "  'https://cr.shopping.naver.com/adcr.nhn?x=AIlvU%2FyQaN3O4HTGMkix5f%2F%2F%2Fw%3D%3Dsezzl9ikr0enRehciQdYyepdWz740BMM5jSIE7IKdOkurouWAHSLjOQPxoMB5AaqmvGvhqAerYatnGRgn%2Bfel6uBpAuUL2cS%2BlbxlQHPPmF2CAhuARNGKtI7woFGdAT%2FkWo1UIkV%2FNJejNcuqP32HhXTo%2BGak5X%2BpjtKuQjGougUgCHoCKICfnrZFklzKhALd8s3QEc%2BIKjD8CNDAWL6oDpl3qD%2BpK2LJfVT4BdbAWFIkHt2%2FxFQ8eblJ%2B%2BYzntzvAqB2reOjdQ11Lsq9iERT3vLYhyK6h2NIq2%2BuxNU1feX9V3z7LDzyMnyUizO26aO9M8OkYitpuK2na6nToNpF%2BLngnxQ7ssMZd09T0OjyjIz6602Btdnd2xektzxiEg1cEmfp4nFeWC6%2B%2F0mo4KhmFdz5LmkiPjx%2F0iFGrGMf3QUP3UXrRnMeMoQzwOc%2Bl6f4zOWy8ZPSHaNE0ZzyWHefxSASEiX94a%2BtS0qedh3acwY%2BRZ3NE%2BfrxRAjHZaxSUp45hoEFglQON44dXGG8vwvQI0JXGH2dp3kzdKHeyfgtY2xP8%2F5mrdfEafYR5y%2F2W6lMLgNxyBj61EffhbuF%2BiWg8jqD0S376iCr0ecru3AdjniZk8GZ9IBUejX7LyZg6tSTRmG7s3eOtg5%2FQMTLEwMrHINzXeYN%2FDZHnQssY88vjif8msIlx3X6IrdTpGZ2GunTPwx1Ov0VRPhur%2F9vcS8OGIpZcMwAoTezG0WNgQtgrk%3D&nvMid=25493229034&catId=50002543',\n",
       "  'G마켓',\n",
       "  '136,750',\n",
       "  '3,000'],\n",
       " ['샤오미 공기청정기 미에어3H 국내정발',\n",
       "  'https://cr.shopping.naver.com/adcr.nhn?x=Ah3PhWqutFSjapKr2BIi3%2F%2F%2F%2Fw%3D%3Dsy1WbPiMsXG07hWFlEkajXWZ33EFJCEbQbj2AGXyB099XYMr64ruRQX0glQL3LbW4zWdsboysvy3McYUn%2F1iz8R7qc19wlKcGiqRbHKPpEwQbCTbyDiv1fX%2F%2BqdUsYo0xtxZCjsz9PJOJx%2FydlDEcskhAoeh2t0RTTO6WWA9nPaYoPcrSIM90Mk1DjipKXZ%2FbnTIMco7g3yeJNvwQjN6PmIzqdHQHuxntXb85k0OrzXK8ZmUEiV1feRokfpnbJtcofW5pAK5O3zhs72V7Fj3a4atMb8%2BbU5vYrF79c7hSHpfffisv5tHfoGFh7RH%2BtSaODg1f9vTf3Iez1Rjn58zRmkg5T5Bon9aiC0OQqtSl5Q1eiSqEGOqrIRuyqhWbsqgtsCvAlcFT0kuNQSfoqqEY4QTDww6JWZC31SbUAvZE2ppviu9oyyRFV3gPbhXw66GbjB5%2BwQwTWqlzZqCmwHkzL9Xzt%2BotsHXLLhoM%2FYiwJ3ASpE8AE9vrY2SL1FO%2BwASSVTtJTdabJ6el%2Bz2%2FGzD1u2O5vNvMoaBgEjFYpczNAkXK%2BzhOS7MONWBHQq54mNs9NDf54TtFbynC%2FfcsJgyerDi4teEnlx0Xu%2FTH5k6A2ITOvQtRMXkC0o5j108LHj7OzXa5A8gI4l4%2FxUUUDW9C3ykNKuBxBIpg6bxqYIzEPmJWkbDrUFJ2hBG8QaB8WVzn&nvMid=25426869823&catId=50002543',\n",
       "  '11번가',\n",
       "  '143,040',\n",
       "  '0'],\n",
       " ['국내 정발 샤오미 미에어 3H 여우미 정품 가성비 공기청정기',\n",
       "  'https://cr.shopping.naver.com/adcr.nhn?x=HNYIUUAfiFG77rK%2B95QMXv%2F%2F%2Fw%3D%3Ds24eCFwHFd5wMijcuWfhIJaa%2BIlaP3I3M%2Brw2DnZBs1FXYMr64ruRQX0glQL3LbW4c4YgTlpAopngY1eJYu3Rzf9D7XHzwmdzXKwCD6glMqAbCTbyDiv1fX%2F%2BqdUsYo0xtxZCjsz9PJOJx%2FydlDEcssu1rI7y%2Bnxga7qkc20jAaEHS16Mm4swTlRWNG5xgFwbZRipJmqVnoC7zoIMe%2FcqGA8QGwAqCtYvv6TI6ggETr3y2m%2FaceCFm97hR2thlFxRw6ZjbtkbN7RD61dGUzg7G441ZK8P3rauGK1tOXUp%2FMx%2BcSbhR3FXzyPzw%2FesNSW%2BdNqLMejHzbFyW2%2Bptm4xOYdCanMe61deRvn7hd3L4olXmrkFBPz96X5llskLwUjdltxEDrL71VYInk3D%2BS%2Fffun5aAsa9mJmQeaA5%2BfDoOjLQpEY0B1hXpAV7bY3P%2BIVm9uaSNQwKcDF6eIQ5S3yuYGmhCP4hFOiaW8j%2FofA0VkvQqvkUeiIgfaRTGblruGjOPv8QwSr43qMVLu%2FRvQoS4gvsNSKh9wz5jhJYnVfgSHlPKyZlN0QGJdUfxO%2FGPclmSCuz3k0AdAO0b64Qno%2B2VHGlJwXynI3CKTLNuLMaJ53a3K0uh%2BkWHWx1T7LryfQNmLgAlRU6aKkD4%2FqMtLyHqh7N4FgysXtyYMuGVb3QmHS%2BR2SHh3oXJ83PxBo0kVu&nvMid=82893823630&catId=50002543',\n",
       "  '',\n",
       "  '145,000',\n",
       "  '0'],\n",
       " ['샤오미 미에어 3H 수입 정품',\n",
       "  'https://cr.shopping.naver.com/adcr.nhn?x=YZzTCWBQTwO2HYUWWU4wnP%2F%2F%2Fw%3D%3DsMPOSWze7thibxaU9PrZRObjXOgW0dtKyN0oHzJma61tXYMr64ruRQX0glQL3LbW4U08PD%2BOAqqVXOALmvCFuQRfhl%2BdsDX7A3jD7GeXRt5obCTbyDiv1fX%2F%2BqdUsYo0xtxZCjsz9PJOJx%2FydlDEcshnNy3hGPxSOto6WobxR5ZfDWoHEpd4h%2FzhIU8KLSc8X8Y3QArCAccVWMj2I0ryyFkM7VnCuK5gYNsUw3pHamaUhERbRF6x%2F4SuvvnBWdSQXg5eY1uRGMaZXm1imG9yLD%2Blhbm4DqYn%2B7BFXFMxt5MdMI%2B9e%2F3rKcqGpqSWd9x22d0C2q5kiys4YFanYzIHyJFVd6Z%2BmZ5fvTALbBBPmfKKpJnalZl8YBNTVY%2F%2FSODJ0yukqg7tILamVdXnBieliBsXtNFOg%2B8uj5fhQ%2BqvFtOMbRJBgaSKAuMPZGCEwwa6Ug%2FkVVn81xQsnTMxKAFRluC01bZi9hRJ1Hyntk7bC8GCTIXjVfujWmfJI0irGgMjYRNkq1l%2Fyj0GGhD6ooMSd%2FOh00%2BXWXczVSE2dvw6uOS8h%2BmJ6A8dn%2F4SEVqEM5Ubimwy72h4eD%2BbyzCBnRs5iwHgxAzM%2B2WOWtKWm933mEEq8RmMbA01lYdKtnvNm%2F9s46pvezUj5%2B5YSUE5Gw9M9TJtwveLCnoOlXjQ%2FO8DI1oI0L6QlFQuufLn4OFOF1P8Q&nvMid=24978079204&catId=50002543',\n",
       "  'G마켓',\n",
       "  '148,580',\n",
       "  '2,500'],\n",
       " ['샤오미 미에어 3H 공기청정기 국내발송',\n",
       "  'https://cr.shopping.naver.com/adcr.nhn?x=X4RaW5dM2bF5TT8n8pSLkP%2F%2F%2Fw%3D%3Dsao5Pa0ZLl1n6koB6Z%2BYRNikVOVn1HNzH7Ft%2BFSV03a1XYMr64ruRQX0glQL3LbW4vLCSrh6pJ2FvpP3RIS1Qe%2FcsOhXTeo06Ymi4evOqvHYbCTbyDiv1fX%2F%2BqdUsYo0xtxZCjsz9PJOJx%2FydlDEcsm%2Fhh6KoxOSBCTNj1MFF5lbfIHfCe%2FtayGjNsVkPQZZRif%2F%2FuaH%2F8QB5HObcWOAI%2FVWyhaOaZKUHVM1AuDjM76Yzw6RiK2m4radrqdOg2kX4ueCfFDuywxl3T1PQ6PKMjPrrTYG12d3bF6S3PGISDVwSZ%2BnicV5YLr7%2FSajgqGYVD9DyyLpKkAwWUVbVXbXQEScarQuoE59gd0KhRCCd%2B0sA0gA7ne%2BrsOai9Xm7AJSr%2By8IfKYvwx3cFQ6pjXiMlg8h%2FpB0QG45Mu%2BBYiY4Js%2Fn9l9QH1QwS0vHedp99yPjfbBc1%2B6Py5JMExWESTGiEToN4gyKCa2FDZ3UYhFDBHSIL7DUiofcM%2BY4SWJ1X4EhgMNGEWcTEwev%2FK5pxvU0M40fU%2Bga0lYXLaYsK27rQmLLLBWepWcLWFHqxR7D%2B6yd6nFktP%2F%2BN%2FAKELIHztmrCJt9zkMcrVJl%2FAYliJwWS6IZx1rqwd9Zc8UYtzXUZDLM&nvMid=25583428493&catId=50002543',\n",
       "  '',\n",
       "  '148,800',\n",
       "  '2,500'],\n",
       " ['샤오미 샤오미 공기청정기 미에어 3H 국내정발',\n",
       "  'https://cr.shopping.naver.com/adcr.nhn?x=vLhFP3kFy0EtHJbLzA471v%2F%2F%2Fw%3D%3Dsm0jTMrP6PGKdSZnt5nYDYCirKrV8IJcumgFqc1Zm8nhXYMr64ruRQX0glQL3LbW4clODbbGAZXg4M9JQ%2BYeYigBfUx0KiOInoNzRTnZfyAobCTbyDiv1fX%2F%2BqdUsYo0xtxZCjsz9PJOJx%2FydlDEcsnzd86rYgB0CTXD%2BO1ma76q9SPMalG%2F4NgoO75m6H9AzSgDFBeoncWzCxO7JAs1UeA6d7wek6dztp9bXSRHNnfAX76N6B21SxKSBVHurGUC0M8OkYitpuK2na6nToNpF%2BLngnxQ7ssMZd09T0OjyjIz6602Btdnd2xektzxiEg1cEmfp4nFeWC6%2B%2F0mo4KhmFfC9KJQneYM14DDdexEPvXRdHNFrqgOmPmDE5jzryp9zANIAO53vq7DmovV5uwCUq4h7jOs0slPEH3GyfFBl%2FoEPIf6QdEBuOTLvgWImOCbP6jja8m3EwZ9lpRKfwhLWyAv2YVzbcrbAzswMP27SUfPlzLU8tc3m1tIVYJ184GdB0Bzi32bzv0Oa%2FspQOojAx8jqD0S376iCr0ecru3AdjmTfnM%2FGxDyGM%2FcYDZ%2BXbS%2Fqh4JK1CoQk8xcQxCKZ5BgnINzXeYN%2FDZHnQssY88vjif8msIlx3X6IrdTpGZ2GunHd6p7s%2Fa5SlBAzDXqcXvwmIpZcMwAoTezG0WNgQtgrk%3D&nvMid=25718377024&catId=50002543',\n",
       "  'G9',\n",
       "  '149,000',\n",
       "  '0'],\n",
       " ['샤오미 샤오미 공기청정기 미에어 3H 국내정발',\n",
       "  'https://cr.shopping.naver.com/adcr.nhn?x=HOsafZba3tKHL3GJeVVtiv%2F%2F%2Fw%3D%3Dsjf7VdrjfsHm7IrvbdrB2XOH8brwYo4TDlhWNaMMWI411TrE2QaAt84x67RbYd1c9PLa%2BK8%2FUQVC8fbjGyKNrPF7iWpnn7D92GgyPyr%2Bwv0N171k1tEXDda1ncsJZ3oLWpsVLc8QFIytf0EU8brXxecJfE2kiXjS7Uj8ZgSEAw9a96iYnMWGek4I2TZFsABy95KTp9tGrijpAdhBc8w2qZpq1lxpwDJUI7a3tUybLIYPOWh3n03ia5ybFLZMfIRV3Nk7Z%2Bn0eNJtLIFUgvqwfrZB1QqPgPyOvEfpZJLrh4ikt58ObFbWc7gJUsDHF3EpvzSp9GwPNK4yeJ64ehe0DJ8v%2BjB2erv%2BZ%2Brrs5VHOiTSIVEUyEX15tdzXO38Pd9Q6VuW4%2BCLNclVgkyLO%2B9TRK5yFTy8TzvPenupRLakyggkXvIkDMtwHdDyq2R4PkGsUQozfAHBMfdeli3fG%2BzwX%2FRwZiTSB6%2BHvBZycEnVBj%2BcZpuz7ZKrfU7gxmZq4TMOqKCu4iwQ2UU9cQP2%2FMmqCG%2BYaBBYJUDjeOHVxhvL8L0D%2BLwWzLEq69sVWzI%2FJXebsFeTmH6N6bLOD2wzbXk01GCQYKhBv9ejUxX%2Bl4JZMmrfSowwLO9eHz9LHmgHQXi49gQpKsv%2BcFFojqmXUsr%2FN3F2WBXTAV0a1Krf0VCqh7VrZSKRXPW6YLo8X8veU7hoPeBBT0Mq8dwZJZ9pP3f6XONOWHn3SuXr49rpUM7PJak0%3D&nvMid=25718318316&catId=50002543',\n",
       "  'G마켓',\n",
       "  '149,000',\n",
       "  '0'],\n",
       " ['샤오미 샤오미 미에어 3H 공기청정기 국내정발 한글판 국내AS 2년',\n",
       "  'https://cr.shopping.naver.com/adcr.nhn?x=Qjj4rl3cd4t9ZhlEecg4jv%2F%2F%2Fw%3D%3DsL4%2BAAJlibc22lj51yF91UgwqLa8aIWz2Qovote5vkJtXYMr64ruRQX0glQL3LbW4oIWYcbVBNpEMx6RaqM4rcptxt%2BetYKyuWGyqAcx%2F%2F7MbCTbyDiv1fX%2F%2BqdUsYo0xtxZCjsz9PJOJx%2FydlDEcsvPdXvbZ%2BiMk6inX5vmF9OLiqQtcyEWSFbNWraNLvLtJizQZ26I7qAQbGqfKtL7x9OdJUmfBz%2BMuKQ6lpuQDXCiZgFoRZtDEfW3B1pn%2B4CPuouP69Jc9aEpPQFvKsxbFL6Tq%2FbD2MGowZHhNOyBhpCdP9GukyRRc35bcYyIud8JNHaM2xkHpCVvLLy4kkQg4QeTIi00%2BvgoxFJkJcWDb7MMP3UXrRnMeMoQzwOc%2Bl6f4uflreyjs9iaKG0zbImdWwDMe0nEoJsvKHXwqb5AF6XPW4JMkFDVJLWcNKuarXQqaZV855tlLXugB3ERvPr%2Bas%2FcTUR5Efw31%2FuiWZCyEqIP%2F61o1GJsKOxPJcxpMnRVOCBK1q%2FDsAhWsyeTTuIrRj%2F2DPYHHM%2B43HwCBdL%2FR0dMRn9U6a6K60ibchDfB0pa9iw1F%2FBihopGH6yuCXH0N5QSIGyk4%2FyDUS7obMhFSKViUb9joj36I8c5Y3W96%2BIF%2FuO4m8wb8a6aVvsfCvM6IWdYcvgyO2pNxpaTkCkoRXKAoa7NyoCzX4qCiZRVOZiBH&nvMid=25834931734&catId=50002543',\n",
       "  '옥션',\n",
       "  '149,390',\n",
       "  '3,500'],\n",
       " ['샤오미 샤오미 미에어 3H 수입 정품',\n",
       "  'https://cr.shopping.naver.com/adcr.nhn?x=f1ZhpBOB9HLCyktOXeriTP%2F%2F%2Fw%3D%3DsAUqqR1npikNtDAFVtyKkI7881zzYxAP8VIxotSOAXM91TrE2QaAt84x67RbYd1c9REVpk6YDhiKSsCqLCSQ8WZCy%2Bi8SBOHqRkXwfrxs7dx171k1tEXDda1ncsJZ3oLWpsVLc8QFIytf0EU8brXxeRm3z3i34o6pRDfy%2FRQ7m9B4NQc7ozsjN2nsq5Te5vDygTSEsZa%2FsqNzf0g%2BAU2K29gaa23PB3%2BZvCbficJ2WAvDC0vpkWL4qSmsevPuYZU0M8OkYitpuK2na6nToNpF%2BLngnxQ7ssMZd09T0OjyjIz6602Btdnd2xektzxiEg1cEmfp4nFeWC6%2B%2F0mo4KhmFSf80RkGBORPsVIEhtS1gP0bRJBgaSKAuMPZGCEwwa6Ug%2FkVVn81xQsnTMxKAFRluNJLrf2feNqVwPhblB%2FA2eiTIXjVfujWmfJI0irGgMjY53lTQlNiCKE3Joh5LOVLu8LADzt%2BLT9%2BAmTwuw4Eg6m79pO3SvDcGKtCgDdvTOcmMXMbmKDPTRzguxs1oFYVgkShO5pi0ZQY30nbcIvTCVIG8cWLk8BFDSYb8TRl0BVk1rhDzVaLcEQc5hjXSnOw7VgFlTKFPe21DLnCBqCm7M9jhtWGwUc1Vb6EguzsCeOM7vQOqyYZ0lP25LvqyfOQ5g%3D%3D&nvMid=24977205026&catId=50002543',\n",
       "  '옥션',\n",
       "  '149,880',\n",
       "  '2,500'],\n",
       " ['국내 정발 샤오미 미에어 3H 여우미 정품 가성비 공기청정기 한글판',\n",
       "  'https://cr.shopping.naver.com/adcr.nhn?x=h6E2eLfCENiO3tVQqa064P%2F%2F%2Fw%3D%3DszqJXxeGJLVAn4sDm%2F5xFp0DkSn65RO%2BJnFLqDYiL14lXYMr64ruRQX0glQL3LbW4mIm7Fx6qM1WmiKgRK9H4Fk6USXHyvgb8WxLCD1sCAR4bCTbyDiv1fX%2F%2BqdUsYo0xtxZCjsz9PJOJx%2FydlDEcssHMoSM8kYJrzaZDXyMimbuEAp3qsmC62YyFmFD%2FJlKgaBaJwBSHOyzid5IO8TigkCASpBAQzmjvU3q63pysH1eILa49u4UZNjzUqdXiTG84f3GyxAOODG636mvxqmJDyLcJXmU08oAy9yqaufJqpUD8yLnF0gZzj%2FhCxe6HQHY6hmeWtJmvw8M90EK%2Bzy5a1yVdN3LpKf%2FbKuiZi7z1XJQcY8WRFLqBigsEwSMKdGtOtFyUH707Og9JHm2STSMHql6%2F3qTwCMy0PJgG%2FXy4LWKA604IFuTLUhHwGUpX8Cgm3evzfGyX7rPMJICYHc1GFghUZG7ALTcO%2B%2Fpt29GlTyMd5CMwyy%2Fwsc4PMqpT%2FNhx4aK7ouI8izKD2xsyQ9CfI9TbBOVBqt0ybatRlFjE%2FHdWyFc7RyVezIJREkFp00g3xFpG0A5q%2BwtfGf3jOkNU7JnBWkLrR3TPvilcMb2%2BRK2B8dg0Mo%2Bbt1P%2BFq%2Bo%2BMDIQlUhY6iLoDW40LQ8DjbUrgVXkQH7GM%2BieMlK5OCBav4CyizmvcNKW9r6Z4V8884i1rhDzVaLcEQc5hjXSnOw7VgFlTKFPe21DLnCBqCm7M89ZU6L9W7Ethza37G0TzY%2B7vQOqyYZ0lP25LvqyfOQ5g%3D%3D&nvMid=25697143406&catId=50002543',\n",
       "  '위메프',\n",
       "  '150,000',\n",
       "  '0'],\n",
       " ['샤오미 미에어 3H 여우미 정품 가성비 공기청정기 (G9단독특가 코로나 극복 프로모션) (설날 선물)',\n",
       "  'https://cr.shopping.naver.com/adcr.nhn?x=QCg3avJi6JI8UUvbywoBe%2F%2F%2F%2Fw%3D%3DsJyP2WFMIXoTI3%2Fc6lOY162MAiFq5Z6WlJ4K87RjxVDZXYMr64ruRQX0glQL3LbW43Vyvjk%2Fby%2BAYg1xEKC8wceFM9HZ4Y%2BwZibA9WvnjKZEbCTbyDiv1fX%2F%2BqdUsYo0xtxZCjsz9PJOJx%2FydlDEcsnzd86rYgB0CTXD%2BO1ma76q9SPMalG%2F4NgoO75m6H9AznVvt%2BINNUGYVVRmqHFYoXw6d7wek6dztp9bXSRHNnfAX76N6B21SxKSBVHurGUC0M8OkYitpuK2na6nToNpF%2BLngnxQ7ssMZd09T0OjyjIz6602Btdnd2xektzxiEg1cEmfp4nFeWC6%2B%2F0mo4KhmFZxUpUMdh%2FZVXK%2FS7knX5sZdHNFrqgOmPmDE5jzryp9zANIAO53vq7DmovV5uwCUq%2B13fT5iNoRJkdkLvbxU%2FaUPIf6QdEBuOTLvgWImOCbP5%2FZfUB9UMEtLx3naffcj4%2BiiQqdcn9BTufabBhcveLTOaPbm7oK3CdnlsbSMggXfaMEC590TJ7tjs8v%2FFpO2p%2Fp0Uov0H09OzPmI1%2BNwx6A%2BerUP6lb8VFVNwTRCna3AQWi7ElLOikwzLCrIUjKwddwgT2HGYi2caMxumwTyn14Rn9U6a6K60ibchDfB0pa9MGftGTl4S%2Bx7gt1Mg8Eb3Quw45pj0%2FL5GMqG1UPOhpaUb9joj36I8c5Y3W96%2BIF%2FuO4m8wb8a6aVvsfCvM6IWSw3SbCAwWzkrRuyIPYoSngoa7NyoCzX4qCiZRVOZiBH&nvMid=25703375900&catId=50002543',\n",
       "  'G9',\n",
       "  '150,000',\n",
       "  '0']]"
      ]
     },
     "execution_count": 17,
     "metadata": {},
     "output_type": "execute_result"
    }
   ],
   "source": [
    "# 2 페이지\n",
    "## 페이지 이동은 수동으로 진행\n",
    "sale_list_2 = get_items_page(browser)\n",
    "sale_list_2"
   ]
  },
  {
   "cell_type": "code",
   "execution_count": 18,
   "metadata": {},
   "outputs": [
    {
     "data": {
      "text/plain": [
       "40"
      ]
     },
     "execution_count": 18,
     "metadata": {},
     "output_type": "execute_result"
    }
   ],
   "source": [
    "# # 합치기 시도1 : + 합치기\n",
    "len(sale_list_1 + sale_list_2)"
   ]
  },
  {
   "cell_type": "code",
   "execution_count": 19,
   "metadata": {},
   "outputs": [
    {
     "data": {
      "text/plain": [
       "[['샤오미 미에어 3H 한글판 여우미 수입',\n",
       "  'https://cr.shopping.naver.com/adcr.nhn?x=R9ApPka%2BBw0IPIs8y2NgG%2F%2F%2F%2Fw%3D%3Ds5toeMuQdtkJ7%2BU1gE2Ojr1KDdjlDSHjkl71DhAD1pCBXYMr64ruRQX0glQL3LbW4ouAZpunR04MMjFnwK5%2F57uF81HrGHdN%2F99h2nxeF%2BcwbCTbyDiv1fX%2F%2BqdUsYo0xtxZCjsz9PJOJx%2FydlDEcskhAoeh2t0RTTO6WWA9nPaYoPcrSIM90Mk1DjipKXZ%2FbnTIMco7g3yeJNvwQjN6PmP721SO8nUpkuFgLQWTKn%2B%2Ffe%2BbfS0MyM0MKhK5PYtiOfW5pAK5O3zhs72V7Fj3a4atMb8%2BbU5vYrF79c7hSHpfffisv5tHfoGFh7RH%2BtSaODg1f9vTf3Iez1Rjn58zRmkg5T5Bon9aiC0OQqtSl5Q3Vc8cxLq40C1mQeHAFz%2BS%2FsCvAlcFT0kuNQSfoqqEY4QTDww6JWZC31SbUAvZE2poUnnnFTV7pKhz12AknqEX5jB5%2BwQwTWqlzZqCmwHkzL2VfOebZS17oAdxEbz6%2FmrPAWg9XdFyX1KK3o4%2BAzxzyY3UoMEPLZOSQcNDaytkIPU1FofMUFrckok2x3VXK7oSMCyW5wcMFQKNvlempngXEl9Yu1l%2BdwnMYbT3iRI%2F47m6ZFHUUkacmLfApOTrh8LWINN9RwalG9jaYNyWn%2FJby9FxkLbIeb1LLiVlgJxIhDZYHDZH84leiybJBFwL7vPk%3D&nvMid=26188781496&catId=50002543',\n",
       "  '11번가',\n",
       "  '127,080',\n",
       "  '2,500'],\n",
       " ['[쿠팡 직수입] 샤오미 미에어 공기청정기 3H AC-M10-SC 45㎡',\n",
       "  'https://cr.shopping.naver.com/adcr.nhn?x=3tNLfyTfO1LPoz65ILtHBf%2F%2F%2Fw%3D%3DsYjAgtsXT%2Fq9eWWBmOEkOinmVyujiOmivsazBoZq4AJR1TrE2QaAt84x67RbYd1c9PLa%2BK8%2FUQVC8fbjGyKNrPNKyZT0ny4RBlzkKk%2BZyxUZ171k1tEXDda1ncsJZ3oLWpsVLc8QFIytf0EU8brXxeaeBReS2eAnHF0WQDCquf3her%2FNlNQMie7Zc%2BFoNI%2FbShrj5p43KyGLkNGHpAKAf8XxU7m2NJZw3v%2BxF8Nk%2Fr6svacWUePtfB1UY%2B8nYALKuc45l2qEOFROlkvsuhcz6%2Br%2F%2Fsan6IuNi9jw9EI6fXPSKA8Ymr59MDWVce5FIrxBarvHBOq87qcM4aJZS51m9Usi30QtKP1mA7BYZPpxeJLcDieBYvAPV46rSxR8KTlq%2FtDdE4%2BSdZnrPRXHIfA1ENuJgktDSrfMdneHclipVnfrLqGZ%2B8HaRdx1Eefvgvy9kgOtOCBbky1IR8BlKV%2FAoJsShTMAoQz5H4kuJy2GBxAUKLvMWms5WxlLd8BZFjO%2Fx1Kp7d8fn71OEoJ36bQKWBvw%2FRqPXDtyTNckj7jCOMzQBsFkOvTWPBqVlQhtMoef%2BvnkkhocEjrszBpoyB6NYBiLzmwZzCtk2s3XxD6FCWz%2BB8dg0Mo%2Bbt1P%2BFq%2Bo%2BMDIGvvHbJCTgSHdEnbOwO48EENdXI%2FP8tfYCgtaIAehcvO8RmMbA01lYdKtnvNm%2F9s46pvezUj5%2B5YSUE5Gw9M9TJtwveLCnoOlXjQ%2FO8DI1oKEqtOVqWOwODOcCrivqF2F&nvMid=21232246729&catId=50002543',\n",
       "  '쿠팡',\n",
       "  '127,130',\n",
       "  '0'],\n",
       " ['샤오미 샤오미 미에어 3H 여우미 정품 가성비 공기청정기',\n",
       "  'https://cr.shopping.naver.com/adcr.nhn?x=aADu2e0FOl8piyvl56Rfhf%2F%2F%2Fw%3D%3DsQAqA3FgtDKhq7ElbnkNjJf%2BJ3JgC2hF0Wg4ZocofTypXYMr64ruRQX0glQL3LbW4cqJ13jWn1oMLMvLSgDavcz05k3k%2BPql1RvG3u4B5ybYbCTbyDiv1fX%2F%2BqdUsYo0xtxZCjsz9PJOJx%2FydlDEcsvPdXvbZ%2BiMk6inX5vmF9OLiqQtcyEWSFbNWraNLvLtJizQZ26I7qAQbGqfKtL7x9PGtddLCtmb3pFapofuSmT6ZgFoRZtDEfW3B1pn%2B4CPuouP69Jc9aEpPQFvKsxbFL6Tq%2FbD2MGowZHhNOyBhpCdP9GukyRRc35bcYyIud8JNWxldAFVI4wFGFYUqmhEUnTC%2Fe0UPOA9RYqHaWnRoKLMP3UXrRnMeMoQzwOc%2Bl6f4aNn9zRI2O8ilVDrYA5Vs6WmUQsig7egGLyUp1NsBjDbW4JMkFDVJLWcNKuarXQqaZV855tlLXugB3ERvPr%2Bas%2FdeBllbO6HVY6y%2BUcosUHAfaSqWydAaLwEZL13SWdGD6nq8dzGCH8U4910CvSqCHb4U4UmgKprgG3PG0s1eag7MTrArQZRj4J8Vi%2BCWxSwCqFT53S2X9PZWQyqLLE%2FlmW6ZFHUUkacmLfApOTrh8LWINN9RwalG9jaYNyWn%2FJby9FxkLbIeb1LLiVlgJxIhDTbsJhKBoHmUMDiaaZ2oq38%3D&nvMid=25693458256&catId=50002543',\n",
       "  '옥션',\n",
       "  '127,130',\n",
       "  '0'],\n",
       " ['공기청정기 미에어3H 국내정식 AS2년 재고보유 [03/09 출고]',\n",
       "  'https://cr.shopping.naver.com/adcr.nhn?x=%2Bdcim%2BsQpeK0YMTSD87JMv%2F%2F%2Fw%3D%3Dsq3URf7wuq8CYAhgxtVSx988y0beW4si7MPCofXZRgd9XYMr64ruRQX0glQL3LbW4sFA94ixik2FjfPjpq%2FK29hPBXlFNd7WwNlgdkZB73i0bCTbyDiv1fX%2F%2BqdUsYo0xtxZCjsz9PJOJx%2FydlDEcssu1rI7y%2Bnxga7qkc20jAaEHS16Mm4swTlRWNG5xgFwbvy04Ug0FJyRWtbPt%2BY6vbm6LibDB9GWVAH8ioOSYITHy2m%2FaceCFm97hR2thlFxRw6ZjbtkbN7RD61dGUzg7G441ZK8P3rauGK1tOXUp%2FMx%2BcSbhR3FXzyPzw%2FesNSW%2BcUImk7xusJ4pok6s%2BYNKsnACkvGPlCL5LJQHF%2FdaN2OabXuAr9IyKnKJZBvBTDYtcNz8%2BcOMUdm2VcKS9BKcTHXnlwqGkeawNAc4iUHqQWZLehMx3t98nI%2FefhS2w6jtpFf3PGOfJDjYFaTX0nehA16Kv1CC841xxwNvJdQc1WA4z6nmuzKN69j9KEL2pCFqB8caTx01TghFRsPM%2BFqPMiQYKhBv9ejUxX%2Bl4JZMmrflMxMQKL%2BL9MB7k2ZiCmpNRHbIuExrpeO4s9MZ9X1xv4rsAvz4nyILmhTX%2Bwyfw%2FaINN9RwalG9jaYNyWn%2FJby9FxkLbIeb1LLiVlgJxIhDejyPkYZSWcw2ClIQabF7P8%3D&nvMid=82370880874&catId=50002543',\n",
       "  '',\n",
       "  '127,900',\n",
       "  '0'],\n",
       " ['[샤오미] 공기청정기 미에어3H 국내정식발매',\n",
       "  'https://cr.shopping.naver.com/adcr.nhn?x=6LfkA6EfwwWKqNPAMVvP%2BP%2F%2F%2Fw%3D%3DsWj3MgKgGQFdniG8oncV%2FyI6xEkAdQefR3ST9kKakKUpXYMr64ruRQX0glQL3LbW4HNfbCIJwo7MYZxNXCg7S3SmH%2Fq%2BExGVLxO75AcFGl8MbCTbyDiv1fX%2F%2BqdUsYo0xtxZCjsz9PJOJx%2FydlDEcslF2zq3xAH8xYx1co0ZfY8h57m6QRy%2FLo%2F5V3cXssw8Qh6K4EtuAbHyAzSJe6Xk1d0E901dtDmFNg%2FDjRgxWQ4%2BOwFNWopCFAWSt4IlAiD4NkNDrqgFKecncmuTbeU2Kja7xwTqvO6nDOGiWUudZvVLIt9ELSj9ZgOwWGT6cXiS3A4ngWLwD1eOq0sUfCk5av7Q3ROPknWZ6z0VxyHwNRDbCJ15CWhSp3YcxSNJAk%2F5UdMsK2eW%2Bed%2BfkWdTQLABc8mOK1Nfh8aAZML4oGR%2FNYKLe3v%2Bi6NRVUrQ6X9GHh%2BSBlSY0DiDEtN5td2AJ8xQ0GckW7iU9ukqUhqheJBDK5NLehMx3t98nI%2FefhS2w6jtpFf3PGOfJDjYFaTX0nehA%2BcoSZ4Rkn%2BVBhZ%2F%2F%2Bw1FaqB8dg0Mo%2Bbt1P%2BFq%2Bo%2BMDIogGSXHItKsDTMMX7GeMxolIIZkMu7q%2FR2eMtz4pZpdFyDc13mDfw2R50LLGPPL44n%2FJrCJcd1%2BiK3U6Rmdhrp2xdUUtFsTmRv0ndnDG%2Frsbu9A6rJhnSU%2Fbku%2BrJ85Dm&nvMid=26245768146&catId=50002543',\n",
       "  '',\n",
       "  '127,900',\n",
       "  '0'],\n",
       " ['샤오미 미에어 3H 여우미 정품 국내정발 가성비 청정기',\n",
       "  'https://cr.shopping.naver.com/adcr.nhn?x=i3pP3aJjihs49RvleD5m1f%2F%2F%2Fw%3D%3DspQJWV8zPkFwqBOm6lNo0UnWQzzg0UqsQAE9oLayWJep1TrE2QaAt84x67RbYd1c9PLa%2BK8%2FUQVC8fbjGyKNrPMrw6JE24H550D8E6w516oV171k1tEXDda1ncsJZ3oLWpsVLc8QFIytf0EU8brXxecJfE2kiXjS7Uj8ZgSEAw9a96iYnMWGek4I2TZFsABy95KTp9tGrijpAdhBc8w2qZpq1lxpwDJUI7a3tUybLIYNqskVLKtkJT4ECYBY0d6zUvpFhJN8r1cgbgA2qf9hblZB1QqPgPyOvEfpZJLrh4ikt58ObFbWc7gJUsDHF3EpvzSp9GwPNK4yeJ64ehe0DJ8v%2BjB2erv%2BZ%2Brrs5VHOiTSIVEUyEX15tdzXO38Pd9Q6VuW4%2BCLNclVgkyLO%2B9TRK9NFqzCog1iRxP3RRu6fVDsXvIkDMtwHdDyq2R4PkGsUQozfAHBMfdeli3fG%2BzwX%2FR94W8VKnZyjeMCG%2FGZ5ECwZpuz7ZKrfU7gxmZq4TMOqXztg4vSblG7G04uYknLi8NwGXIM8KxlHGtgz%2FO3tW7Ighg5xwSw1gv10LFM4Ibuo6662GFsm1D0WlrUXGetj63wqOmesGuCeX2L9U19csKAq9%2BAaqEx%2FebvLzkljMKuFbVX84Zs%2F6pqcmQs8pjhsB9zwLi7GRd6kPrEZBn0mQAvOvQtRMXkC0o5j108LHj7OlTDDO3XIQ54%2FaIUF0h18HNYX%2FxixXIPpquOZa4hyOOWTyTPk2845%2F98obwU%2BknLk&nvMid=25697669873&catId=50002543',\n",
       "  'G마켓',\n",
       "  '128,100',\n",
       "  '0'],\n",
       " ['MI 공기청정기 3H Mi Air 3H AC-M10-SC 45㎡',\n",
       "  'https://cr.shopping.naver.com/adcr.nhn?x=ajuH8wG8loQv8ClcsDhH8%2F%2F%2F%2Fw%3D%3DsE7eQGXFbHrNONT%2FRJmXqw6m3jP2WZJhYh1CLsWhGl6R1TrE2QaAt84x67RbYd1c9PLa%2BK8%2FUQVC8fbjGyKNrPMY23Ro9EIRiSsixJXwKSe5171k1tEXDda1ncsJZ3oLWpsVLc8QFIytf0EU8brXxeTSMN514QMMut11lB%2BbrHuZLhv4nBWN6vYRnY66Pfp8UUcrLTjH4NoToPMx5WnGZmSa96HbR9%2F%2F2qnEBBOMYZPZSn6vKRwOlVhxnccVyYOarQ%2BD%2Fo9glb0ukJK6bM8miKNbqpI6t1N2zkZ6St7s5MnLsu%2FEV%2BW9r1kQjfzSB5yxaIxCN9W7NnTT8HZySIdIL3b9a33%2FMq8QUMniNj1RjDPnJjitTX4fGgGTC%2BKBkfzWC41urvWSsedJjFMqQ2Yy2QXornTeMFMWI76yU7BvGjg6O5pWJWdgH6EGTzIsDrhgsrgzW72XHpAo9zC0kRgre9H1S72je%2BLz3pRXtX2otWlYPOvAcM1N%2FxGrqUSn%2BbBbK%2BJI2EGlA2dOL4rDlT7Ni%2BJvW0fdKAD2GC89XvIIsA6tgQQHdI5zpXi49dCjE6FsDcvESoow62zlheIN5oE9sFdlIpFc9bpgujxfy95TuGg%2BVUqpLm8TscQwo7P7bbJ9TYillwzAChN7MbRY2BC2CuQ%3D%3D&nvMid=82971176787&catId=50002543',\n",
       "  '',\n",
       "  '132,000',\n",
       "  '2,500'],\n",
       " ['샤오미 미에어 3H 공기청정기 국내정발 한글판 국내AS - [샤오미] 미에어 3H 3C 공기청정기 국내정발 한글판 국내AS가능',\n",
       "  'https://cr.shopping.naver.com/adcr.nhn?x=2QinPxtjt86SHIFHIO2TYv%2F%2F%2Fw%3D%3DsXBP6bGSP7olJwCW%2BMPLu4MxLB4V%2F%2F2EtsRCTd7xbA3qrouWAHSLjOQPxoMB5AaqmfN587ueZMGXPZOFNBfFQ0GJIxBbVrBpvJADsPFfglZyCAhuARNGKtI7woFGdAT%2FkWo1UIkV%2FNJejNcuqP32Hhe64mta3fu0EXFEO0wASKiBLITRP1jdo8ajNdAVZ%2Fvr%2BodRZpP6%2FH1ZV2jLdWq2uTWOiudsC%2FTqEm8qcDtldQIjXwJDXGLuOazOE2G9yZLxjgLxgYhje8tIHE16RKgDnlx%2FJ%2BLYr%2FT2Ld7WlUY66kmRWEXeXwSaubPu0qUaxQfPPa%2BpHa6ewb0%2FDpcGez9%2B2MuGB5Nypcd9iDasXeLrOhquzAHDdzrFIHbY72YLOeyyXI59ssGZXd%2B28mWcRS5X601f3QTkjHaeXkze654TrornqDfeYoRJig%2F8RyRLXK3t420kYCS3NvySITWcPYQsXlsdtoE1J51cKDdvi%2FWCKxU92JPgzuTetdDgAvl1y3aSYMbVYK6l4Wq9iRAVySHiyB%2FSpsS9IIZ%2B5FNDlH%2Byzs0rpd%2B1umWIYatR%2FoGzh4XpsRunxNf8RzbHrUASXgXTmf4XXmlcWpC3oojGqITlvp6ftIsUauPG2O8FxEFv03WiU7s4otNE92mvyCicn5mytWCQYKhBv9ejUxX%2Bl4JZMmrdKrQcO4hW8h%2F049HXXV56ffYSfczXyYm8qrJq75GdudV2WBXTAV0a1Krf0VCqh7VrZSKRXPW6YLo8X8veU7hoP6NppY%2Bqm1U40S8zLHttCo2IpZcMwAoTezG0WNgQtgrk%3D&nvMid=26048534125&catId=50002543',\n",
       "  '티몬',\n",
       "  '133,920',\n",
       "  '2,500'],\n",
       " ['국내 정발 샤오미 미에어 3H',\n",
       "  'https://cr.shopping.naver.com/adcr.nhn?x=n4fTD1pTugJHTytQzfCrff%2F%2F%2Fw%3D%3DsOVr167VwJBnAAw0x34Nkqkd%2Fxv9dUxnzKToLkXlU5J11TrE2QaAt84x67RbYd1c9PLa%2BK8%2FUQVC8fbjGyKNrPG8pbH3%2FWFDlI4cmunuKlPF171k1tEXDda1ncsJZ3oLWpsVLc8QFIytf0EU8brXxeQYRUH0NNpLzapMuhcYZrLNVpaWNhHSuXddm%2FFUZ0ICmQE0%2BIAW0%2BKpuP6oqsPy4lqLTK12YpMn5f75RboqVKN9Y3Ovbs9utHj9HOqUUqAym5HDKSiG2h55ISNJOtBJ5t0gAn8lD2%2BxrgblrBqYwPdWKx7G3krbJiQXzryuwwOqJbASSMlYjJ4M6PsLr64s%2BoeAbcqUd%2F4fH3PqtLcTQSV6J258Fp5Q30Juv3xRPfDzqBMPDDolZkLfVJtQC9kTamoJtG0ejc%2B2%2BCNgTDVwKgRSMHn7BDBNaqXNmoKbAeTMvKrzZWlDaGCMzQOsRqhooh0IKBy0DroLD5VjLajSnfIWhoQyNzFKmYCSIdmvgI8SiKvfgGqhMf3m7y85JYzCrhWQi9n0SmTP%2BVSrWC7mdvGbc8C4uxkXepD6xGQZ9JkALzr0LUTF5AtKOY9dPCx4%2BzpUwwzt1yEOeP2iFBdIdfBztU5NPQk1q15pZT4hMZ%2FWJk8kz5NvOOf%2FfKG8FPpJy5A%3D%3D&nvMid=25692500963&catId=50002543',\n",
       "  '인터파크',\n",
       "  '136,500',\n",
       "  '0'],\n",
       " ['미에어 공기청정기 3H 국내 정발 한글판 국내AS 2년',\n",
       "  'https://cr.shopping.naver.com/adcr.nhn?x=AIlvU%2FyQaN3O4HTGMkix5f%2F%2F%2Fw%3D%3Dsezzl9ikr0enRehciQdYyepdWz740BMM5jSIE7IKdOkurouWAHSLjOQPxoMB5AaqmvGvhqAerYatnGRgn%2Bfel6uBpAuUL2cS%2BlbxlQHPPmF2CAhuARNGKtI7woFGdAT%2FkWo1UIkV%2FNJejNcuqP32HhXTo%2BGak5X%2BpjtKuQjGougUgCHoCKICfnrZFklzKhALd8s3QEc%2BIKjD8CNDAWL6oDpl3qD%2BpK2LJfVT4BdbAWFIkHt2%2FxFQ8eblJ%2B%2BYzntzvAqB2reOjdQ11Lsq9iERT3vLYhyK6h2NIq2%2BuxNU1feX9V3z7LDzyMnyUizO26aO9M8OkYitpuK2na6nToNpF%2BLngnxQ7ssMZd09T0OjyjIz6602Btdnd2xektzxiEg1cEmfp4nFeWC6%2B%2F0mo4KhmFdz5LmkiPjx%2F0iFGrGMf3QUP3UXrRnMeMoQzwOc%2Bl6f4zOWy8ZPSHaNE0ZzyWHefxSASEiX94a%2BtS0qedh3acwY%2BRZ3NE%2BfrxRAjHZaxSUp45hoEFglQON44dXGG8vwvQI0JXGH2dp3kzdKHeyfgtY2xP8%2F5mrdfEafYR5y%2F2W6lMLgNxyBj61EffhbuF%2BiWg8jqD0S376iCr0ecru3AdjniZk8GZ9IBUejX7LyZg6tSTRmG7s3eOtg5%2FQMTLEwMrHINzXeYN%2FDZHnQssY88vjif8msIlx3X6IrdTpGZ2GunTPwx1Ov0VRPhur%2F9vcS8OGIpZcMwAoTezG0WNgQtgrk%3D&nvMid=25493229034&catId=50002543',\n",
       "  'G마켓',\n",
       "  '136,750',\n",
       "  '3,000'],\n",
       " ['샤오미 공기청정기 미에어3H 국내정발',\n",
       "  'https://cr.shopping.naver.com/adcr.nhn?x=Ah3PhWqutFSjapKr2BIi3%2F%2F%2F%2Fw%3D%3Dsy1WbPiMsXG07hWFlEkajXWZ33EFJCEbQbj2AGXyB099XYMr64ruRQX0glQL3LbW4zWdsboysvy3McYUn%2F1iz8R7qc19wlKcGiqRbHKPpEwQbCTbyDiv1fX%2F%2BqdUsYo0xtxZCjsz9PJOJx%2FydlDEcskhAoeh2t0RTTO6WWA9nPaYoPcrSIM90Mk1DjipKXZ%2FbnTIMco7g3yeJNvwQjN6PmIzqdHQHuxntXb85k0OrzXK8ZmUEiV1feRokfpnbJtcofW5pAK5O3zhs72V7Fj3a4atMb8%2BbU5vYrF79c7hSHpfffisv5tHfoGFh7RH%2BtSaODg1f9vTf3Iez1Rjn58zRmkg5T5Bon9aiC0OQqtSl5Q1eiSqEGOqrIRuyqhWbsqgtsCvAlcFT0kuNQSfoqqEY4QTDww6JWZC31SbUAvZE2ppviu9oyyRFV3gPbhXw66GbjB5%2BwQwTWqlzZqCmwHkzL9Xzt%2BotsHXLLhoM%2FYiwJ3ASpE8AE9vrY2SL1FO%2BwASSVTtJTdabJ6el%2Bz2%2FGzD1u2O5vNvMoaBgEjFYpczNAkXK%2BzhOS7MONWBHQq54mNs9NDf54TtFbynC%2FfcsJgyerDi4teEnlx0Xu%2FTH5k6A2ITOvQtRMXkC0o5j108LHj7OzXa5A8gI4l4%2FxUUUDW9C3ykNKuBxBIpg6bxqYIzEPmJWkbDrUFJ2hBG8QaB8WVzn&nvMid=25426869823&catId=50002543',\n",
       "  '11번가',\n",
       "  '143,040',\n",
       "  '0'],\n",
       " ['국내 정발 샤오미 미에어 3H 여우미 정품 가성비 공기청정기',\n",
       "  'https://cr.shopping.naver.com/adcr.nhn?x=HNYIUUAfiFG77rK%2B95QMXv%2F%2F%2Fw%3D%3Ds24eCFwHFd5wMijcuWfhIJaa%2BIlaP3I3M%2Brw2DnZBs1FXYMr64ruRQX0glQL3LbW4c4YgTlpAopngY1eJYu3Rzf9D7XHzwmdzXKwCD6glMqAbCTbyDiv1fX%2F%2BqdUsYo0xtxZCjsz9PJOJx%2FydlDEcssu1rI7y%2Bnxga7qkc20jAaEHS16Mm4swTlRWNG5xgFwbZRipJmqVnoC7zoIMe%2FcqGA8QGwAqCtYvv6TI6ggETr3y2m%2FaceCFm97hR2thlFxRw6ZjbtkbN7RD61dGUzg7G441ZK8P3rauGK1tOXUp%2FMx%2BcSbhR3FXzyPzw%2FesNSW%2BdNqLMejHzbFyW2%2Bptm4xOYdCanMe61deRvn7hd3L4olXmrkFBPz96X5llskLwUjdltxEDrL71VYInk3D%2BS%2Fffun5aAsa9mJmQeaA5%2BfDoOjLQpEY0B1hXpAV7bY3P%2BIVm9uaSNQwKcDF6eIQ5S3yuYGmhCP4hFOiaW8j%2FofA0VkvQqvkUeiIgfaRTGblruGjOPv8QwSr43qMVLu%2FRvQoS4gvsNSKh9wz5jhJYnVfgSHlPKyZlN0QGJdUfxO%2FGPclmSCuz3k0AdAO0b64Qno%2B2VHGlJwXynI3CKTLNuLMaJ53a3K0uh%2BkWHWx1T7LryfQNmLgAlRU6aKkD4%2FqMtLyHqh7N4FgysXtyYMuGVb3QmHS%2BR2SHh3oXJ83PxBo0kVu&nvMid=82893823630&catId=50002543',\n",
       "  '',\n",
       "  '145,000',\n",
       "  '0'],\n",
       " ['샤오미 미에어 3H 수입 정품',\n",
       "  'https://cr.shopping.naver.com/adcr.nhn?x=YZzTCWBQTwO2HYUWWU4wnP%2F%2F%2Fw%3D%3DsMPOSWze7thibxaU9PrZRObjXOgW0dtKyN0oHzJma61tXYMr64ruRQX0glQL3LbW4U08PD%2BOAqqVXOALmvCFuQRfhl%2BdsDX7A3jD7GeXRt5obCTbyDiv1fX%2F%2BqdUsYo0xtxZCjsz9PJOJx%2FydlDEcshnNy3hGPxSOto6WobxR5ZfDWoHEpd4h%2FzhIU8KLSc8X8Y3QArCAccVWMj2I0ryyFkM7VnCuK5gYNsUw3pHamaUhERbRF6x%2F4SuvvnBWdSQXg5eY1uRGMaZXm1imG9yLD%2Blhbm4DqYn%2B7BFXFMxt5MdMI%2B9e%2F3rKcqGpqSWd9x22d0C2q5kiys4YFanYzIHyJFVd6Z%2BmZ5fvTALbBBPmfKKpJnalZl8YBNTVY%2F%2FSODJ0yukqg7tILamVdXnBieliBsXtNFOg%2B8uj5fhQ%2BqvFtOMbRJBgaSKAuMPZGCEwwa6Ug%2FkVVn81xQsnTMxKAFRluC01bZi9hRJ1Hyntk7bC8GCTIXjVfujWmfJI0irGgMjYRNkq1l%2Fyj0GGhD6ooMSd%2FOh00%2BXWXczVSE2dvw6uOS8h%2BmJ6A8dn%2F4SEVqEM5Ubimwy72h4eD%2BbyzCBnRs5iwHgxAzM%2B2WOWtKWm933mEEq8RmMbA01lYdKtnvNm%2F9s46pvezUj5%2B5YSUE5Gw9M9TJtwveLCnoOlXjQ%2FO8DI1oI0L6QlFQuufLn4OFOF1P8Q&nvMid=24978079204&catId=50002543',\n",
       "  'G마켓',\n",
       "  '148,580',\n",
       "  '2,500'],\n",
       " ['샤오미 미에어 3H 공기청정기 국내발송',\n",
       "  'https://cr.shopping.naver.com/adcr.nhn?x=X4RaW5dM2bF5TT8n8pSLkP%2F%2F%2Fw%3D%3Dsao5Pa0ZLl1n6koB6Z%2BYRNikVOVn1HNzH7Ft%2BFSV03a1XYMr64ruRQX0glQL3LbW4vLCSrh6pJ2FvpP3RIS1Qe%2FcsOhXTeo06Ymi4evOqvHYbCTbyDiv1fX%2F%2BqdUsYo0xtxZCjsz9PJOJx%2FydlDEcsm%2Fhh6KoxOSBCTNj1MFF5lbfIHfCe%2FtayGjNsVkPQZZRif%2F%2FuaH%2F8QB5HObcWOAI%2FVWyhaOaZKUHVM1AuDjM76Yzw6RiK2m4radrqdOg2kX4ueCfFDuywxl3T1PQ6PKMjPrrTYG12d3bF6S3PGISDVwSZ%2BnicV5YLr7%2FSajgqGYVD9DyyLpKkAwWUVbVXbXQEScarQuoE59gd0KhRCCd%2B0sA0gA7ne%2BrsOai9Xm7AJSr%2By8IfKYvwx3cFQ6pjXiMlg8h%2FpB0QG45Mu%2BBYiY4Js%2Fn9l9QH1QwS0vHedp99yPjfbBc1%2B6Py5JMExWESTGiEToN4gyKCa2FDZ3UYhFDBHSIL7DUiofcM%2BY4SWJ1X4EhgMNGEWcTEwev%2FK5pxvU0M40fU%2Bga0lYXLaYsK27rQmLLLBWepWcLWFHqxR7D%2B6yd6nFktP%2F%2BN%2FAKELIHztmrCJt9zkMcrVJl%2FAYliJwWS6IZx1rqwd9Zc8UYtzXUZDLM&nvMid=25583428493&catId=50002543',\n",
       "  '',\n",
       "  '148,800',\n",
       "  '2,500'],\n",
       " ['샤오미 샤오미 공기청정기 미에어 3H 국내정발',\n",
       "  'https://cr.shopping.naver.com/adcr.nhn?x=vLhFP3kFy0EtHJbLzA471v%2F%2F%2Fw%3D%3Dsm0jTMrP6PGKdSZnt5nYDYCirKrV8IJcumgFqc1Zm8nhXYMr64ruRQX0glQL3LbW4clODbbGAZXg4M9JQ%2BYeYigBfUx0KiOInoNzRTnZfyAobCTbyDiv1fX%2F%2BqdUsYo0xtxZCjsz9PJOJx%2FydlDEcsnzd86rYgB0CTXD%2BO1ma76q9SPMalG%2F4NgoO75m6H9AzSgDFBeoncWzCxO7JAs1UeA6d7wek6dztp9bXSRHNnfAX76N6B21SxKSBVHurGUC0M8OkYitpuK2na6nToNpF%2BLngnxQ7ssMZd09T0OjyjIz6602Btdnd2xektzxiEg1cEmfp4nFeWC6%2B%2F0mo4KhmFfC9KJQneYM14DDdexEPvXRdHNFrqgOmPmDE5jzryp9zANIAO53vq7DmovV5uwCUq4h7jOs0slPEH3GyfFBl%2FoEPIf6QdEBuOTLvgWImOCbP6jja8m3EwZ9lpRKfwhLWyAv2YVzbcrbAzswMP27SUfPlzLU8tc3m1tIVYJ184GdB0Bzi32bzv0Oa%2FspQOojAx8jqD0S376iCr0ecru3AdjmTfnM%2FGxDyGM%2FcYDZ%2BXbS%2Fqh4JK1CoQk8xcQxCKZ5BgnINzXeYN%2FDZHnQssY88vjif8msIlx3X6IrdTpGZ2GunHd6p7s%2Fa5SlBAzDXqcXvwmIpZcMwAoTezG0WNgQtgrk%3D&nvMid=25718377024&catId=50002543',\n",
       "  'G9',\n",
       "  '149,000',\n",
       "  '0'],\n",
       " ['샤오미 샤오미 공기청정기 미에어 3H 국내정발',\n",
       "  'https://cr.shopping.naver.com/adcr.nhn?x=HOsafZba3tKHL3GJeVVtiv%2F%2F%2Fw%3D%3Dsjf7VdrjfsHm7IrvbdrB2XOH8brwYo4TDlhWNaMMWI411TrE2QaAt84x67RbYd1c9PLa%2BK8%2FUQVC8fbjGyKNrPF7iWpnn7D92GgyPyr%2Bwv0N171k1tEXDda1ncsJZ3oLWpsVLc8QFIytf0EU8brXxecJfE2kiXjS7Uj8ZgSEAw9a96iYnMWGek4I2TZFsABy95KTp9tGrijpAdhBc8w2qZpq1lxpwDJUI7a3tUybLIYPOWh3n03ia5ybFLZMfIRV3Nk7Z%2Bn0eNJtLIFUgvqwfrZB1QqPgPyOvEfpZJLrh4ikt58ObFbWc7gJUsDHF3EpvzSp9GwPNK4yeJ64ehe0DJ8v%2BjB2erv%2BZ%2Brrs5VHOiTSIVEUyEX15tdzXO38Pd9Q6VuW4%2BCLNclVgkyLO%2B9TRK5yFTy8TzvPenupRLakyggkXvIkDMtwHdDyq2R4PkGsUQozfAHBMfdeli3fG%2BzwX%2FRwZiTSB6%2BHvBZycEnVBj%2BcZpuz7ZKrfU7gxmZq4TMOqKCu4iwQ2UU9cQP2%2FMmqCG%2BYaBBYJUDjeOHVxhvL8L0D%2BLwWzLEq69sVWzI%2FJXebsFeTmH6N6bLOD2wzbXk01GCQYKhBv9ejUxX%2Bl4JZMmrfSowwLO9eHz9LHmgHQXi49gQpKsv%2BcFFojqmXUsr%2FN3F2WBXTAV0a1Krf0VCqh7VrZSKRXPW6YLo8X8veU7hoPeBBT0Mq8dwZJZ9pP3f6XONOWHn3SuXr49rpUM7PJak0%3D&nvMid=25718318316&catId=50002543',\n",
       "  'G마켓',\n",
       "  '149,000',\n",
       "  '0'],\n",
       " ['샤오미 샤오미 미에어 3H 공기청정기 국내정발 한글판 국내AS 2년',\n",
       "  'https://cr.shopping.naver.com/adcr.nhn?x=Qjj4rl3cd4t9ZhlEecg4jv%2F%2F%2Fw%3D%3DsL4%2BAAJlibc22lj51yF91UgwqLa8aIWz2Qovote5vkJtXYMr64ruRQX0glQL3LbW4oIWYcbVBNpEMx6RaqM4rcptxt%2BetYKyuWGyqAcx%2F%2F7MbCTbyDiv1fX%2F%2BqdUsYo0xtxZCjsz9PJOJx%2FydlDEcsvPdXvbZ%2BiMk6inX5vmF9OLiqQtcyEWSFbNWraNLvLtJizQZ26I7qAQbGqfKtL7x9OdJUmfBz%2BMuKQ6lpuQDXCiZgFoRZtDEfW3B1pn%2B4CPuouP69Jc9aEpPQFvKsxbFL6Tq%2FbD2MGowZHhNOyBhpCdP9GukyRRc35bcYyIud8JNHaM2xkHpCVvLLy4kkQg4QeTIi00%2BvgoxFJkJcWDb7MMP3UXrRnMeMoQzwOc%2Bl6f4uflreyjs9iaKG0zbImdWwDMe0nEoJsvKHXwqb5AF6XPW4JMkFDVJLWcNKuarXQqaZV855tlLXugB3ERvPr%2Bas%2FcTUR5Efw31%2FuiWZCyEqIP%2F61o1GJsKOxPJcxpMnRVOCBK1q%2FDsAhWsyeTTuIrRj%2F2DPYHHM%2B43HwCBdL%2FR0dMRn9U6a6K60ibchDfB0pa9iw1F%2FBihopGH6yuCXH0N5QSIGyk4%2FyDUS7obMhFSKViUb9joj36I8c5Y3W96%2BIF%2FuO4m8wb8a6aVvsfCvM6IWdYcvgyO2pNxpaTkCkoRXKAoa7NyoCzX4qCiZRVOZiBH&nvMid=25834931734&catId=50002543',\n",
       "  '옥션',\n",
       "  '149,390',\n",
       "  '3,500'],\n",
       " ['샤오미 샤오미 미에어 3H 수입 정품',\n",
       "  'https://cr.shopping.naver.com/adcr.nhn?x=f1ZhpBOB9HLCyktOXeriTP%2F%2F%2Fw%3D%3DsAUqqR1npikNtDAFVtyKkI7881zzYxAP8VIxotSOAXM91TrE2QaAt84x67RbYd1c9REVpk6YDhiKSsCqLCSQ8WZCy%2Bi8SBOHqRkXwfrxs7dx171k1tEXDda1ncsJZ3oLWpsVLc8QFIytf0EU8brXxeRm3z3i34o6pRDfy%2FRQ7m9B4NQc7ozsjN2nsq5Te5vDygTSEsZa%2FsqNzf0g%2BAU2K29gaa23PB3%2BZvCbficJ2WAvDC0vpkWL4qSmsevPuYZU0M8OkYitpuK2na6nToNpF%2BLngnxQ7ssMZd09T0OjyjIz6602Btdnd2xektzxiEg1cEmfp4nFeWC6%2B%2F0mo4KhmFSf80RkGBORPsVIEhtS1gP0bRJBgaSKAuMPZGCEwwa6Ug%2FkVVn81xQsnTMxKAFRluNJLrf2feNqVwPhblB%2FA2eiTIXjVfujWmfJI0irGgMjY53lTQlNiCKE3Joh5LOVLu8LADzt%2BLT9%2BAmTwuw4Eg6m79pO3SvDcGKtCgDdvTOcmMXMbmKDPTRzguxs1oFYVgkShO5pi0ZQY30nbcIvTCVIG8cWLk8BFDSYb8TRl0BVk1rhDzVaLcEQc5hjXSnOw7VgFlTKFPe21DLnCBqCm7M9jhtWGwUc1Vb6EguzsCeOM7vQOqyYZ0lP25LvqyfOQ5g%3D%3D&nvMid=24977205026&catId=50002543',\n",
       "  '옥션',\n",
       "  '149,880',\n",
       "  '2,500'],\n",
       " ['국내 정발 샤오미 미에어 3H 여우미 정품 가성비 공기청정기 한글판',\n",
       "  'https://cr.shopping.naver.com/adcr.nhn?x=h6E2eLfCENiO3tVQqa064P%2F%2F%2Fw%3D%3DszqJXxeGJLVAn4sDm%2F5xFp0DkSn65RO%2BJnFLqDYiL14lXYMr64ruRQX0glQL3LbW4mIm7Fx6qM1WmiKgRK9H4Fk6USXHyvgb8WxLCD1sCAR4bCTbyDiv1fX%2F%2BqdUsYo0xtxZCjsz9PJOJx%2FydlDEcssHMoSM8kYJrzaZDXyMimbuEAp3qsmC62YyFmFD%2FJlKgaBaJwBSHOyzid5IO8TigkCASpBAQzmjvU3q63pysH1eILa49u4UZNjzUqdXiTG84f3GyxAOODG636mvxqmJDyLcJXmU08oAy9yqaufJqpUD8yLnF0gZzj%2FhCxe6HQHY6hmeWtJmvw8M90EK%2Bzy5a1yVdN3LpKf%2FbKuiZi7z1XJQcY8WRFLqBigsEwSMKdGtOtFyUH707Og9JHm2STSMHql6%2F3qTwCMy0PJgG%2FXy4LWKA604IFuTLUhHwGUpX8Cgm3evzfGyX7rPMJICYHc1GFghUZG7ALTcO%2B%2Fpt29GlTyMd5CMwyy%2Fwsc4PMqpT%2FNhx4aK7ouI8izKD2xsyQ9CfI9TbBOVBqt0ybatRlFjE%2FHdWyFc7RyVezIJREkFp00g3xFpG0A5q%2BwtfGf3jOkNU7JnBWkLrR3TPvilcMb2%2BRK2B8dg0Mo%2Bbt1P%2BFq%2Bo%2BMDIQlUhY6iLoDW40LQ8DjbUrgVXkQH7GM%2BieMlK5OCBav4CyizmvcNKW9r6Z4V8884i1rhDzVaLcEQc5hjXSnOw7VgFlTKFPe21DLnCBqCm7M89ZU6L9W7Ethza37G0TzY%2B7vQOqyYZ0lP25LvqyfOQ5g%3D%3D&nvMid=25697143406&catId=50002543',\n",
       "  '위메프',\n",
       "  '150,000',\n",
       "  '0'],\n",
       " ['샤오미 미에어 3H 여우미 정품 가성비 공기청정기 (G9단독특가 코로나 극복 프로모션) (설날 선물)',\n",
       "  'https://cr.shopping.naver.com/adcr.nhn?x=QCg3avJi6JI8UUvbywoBe%2F%2F%2F%2Fw%3D%3DsJyP2WFMIXoTI3%2Fc6lOY162MAiFq5Z6WlJ4K87RjxVDZXYMr64ruRQX0glQL3LbW43Vyvjk%2Fby%2BAYg1xEKC8wceFM9HZ4Y%2BwZibA9WvnjKZEbCTbyDiv1fX%2F%2BqdUsYo0xtxZCjsz9PJOJx%2FydlDEcsnzd86rYgB0CTXD%2BO1ma76q9SPMalG%2F4NgoO75m6H9AznVvt%2BINNUGYVVRmqHFYoXw6d7wek6dztp9bXSRHNnfAX76N6B21SxKSBVHurGUC0M8OkYitpuK2na6nToNpF%2BLngnxQ7ssMZd09T0OjyjIz6602Btdnd2xektzxiEg1cEmfp4nFeWC6%2B%2F0mo4KhmFZxUpUMdh%2FZVXK%2FS7knX5sZdHNFrqgOmPmDE5jzryp9zANIAO53vq7DmovV5uwCUq%2B13fT5iNoRJkdkLvbxU%2FaUPIf6QdEBuOTLvgWImOCbP5%2FZfUB9UMEtLx3naffcj4%2BiiQqdcn9BTufabBhcveLTOaPbm7oK3CdnlsbSMggXfaMEC590TJ7tjs8v%2FFpO2p%2Fp0Uov0H09OzPmI1%2BNwx6A%2BerUP6lb8VFVNwTRCna3AQWi7ElLOikwzLCrIUjKwddwgT2HGYi2caMxumwTyn14Rn9U6a6K60ibchDfB0pa9MGftGTl4S%2Bx7gt1Mg8Eb3Quw45pj0%2FL5GMqG1UPOhpaUb9joj36I8c5Y3W96%2BIF%2FuO4m8wb8a6aVvsfCvM6IWSw3SbCAwWzkrRuyIPYoSngoa7NyoCzX4qCiZRVOZiBH&nvMid=25703375900&catId=50002543',\n",
       "  'G9',\n",
       "  '150,000',\n",
       "  '0']]"
      ]
     },
     "execution_count": 19,
     "metadata": {},
     "output_type": "execute_result"
    }
   ],
   "source": [
    "# 3페이지\n",
    "## 페이지 이동은 수동으로 진행\n",
    "sale_list_3 = get_items_page(browser)\n",
    "sale_list_3"
   ]
  },
  {
   "cell_type": "code",
   "execution_count": 20,
   "metadata": {},
   "outputs": [],
   "source": [
    "# 페이지간 내용 합치기\n",
    "results = sale_list_1 + sale_list_2 + sale_list_3"
   ]
  },
  {
   "cell_type": "code",
   "execution_count": 21,
   "metadata": {},
   "outputs": [
    {
     "data": {
      "text/plain": [
       "60"
      ]
     },
     "execution_count": 21,
     "metadata": {},
     "output_type": "execute_result"
    }
   ],
   "source": [
    "# 전체 상품 개수 확인하기\n",
    "len(results)"
   ]
  },
  {
   "cell_type": "markdown",
   "metadata": {},
   "source": [
    "- 엑셀에 저장하기"
   ]
  },
  {
   "cell_type": "code",
   "execution_count": 31,
   "metadata": {},
   "outputs": [],
   "source": [
    "# 저장하기\n",
    "import pandas as pd"
   ]
  },
  {
   "cell_type": "code",
   "execution_count": 32,
   "metadata": {},
   "outputs": [],
   "source": [
    "data = pd.DataFrame(results)"
   ]
  },
  {
   "cell_type": "code",
   "execution_count": 33,
   "metadata": {},
   "outputs": [
    {
     "data": {
      "text/html": [
       "<div>\n",
       "<style scoped>\n",
       "    .dataframe tbody tr th:only-of-type {\n",
       "        vertical-align: middle;\n",
       "    }\n",
       "\n",
       "    .dataframe tbody tr th {\n",
       "        vertical-align: top;\n",
       "    }\n",
       "\n",
       "    .dataframe thead th {\n",
       "        text-align: right;\n",
       "    }\n",
       "</style>\n",
       "<table border=\"1\" class=\"dataframe\">\n",
       "  <thead>\n",
       "    <tr style=\"text-align: right;\">\n",
       "      <th></th>\n",
       "      <th>0</th>\n",
       "      <th>1</th>\n",
       "      <th>2</th>\n",
       "      <th>3</th>\n",
       "      <th>4</th>\n",
       "    </tr>\n",
       "  </thead>\n",
       "  <tbody>\n",
       "    <tr>\n",
       "      <th>0</th>\n",
       "      <td>국내 정발 샤오미 미에어 3H</td>\n",
       "      <td>https://cr.shopping.naver.com/adcr.nhn?x=ZTjg6...</td>\n",
       "      <td>인터파크</td>\n",
       "      <td>132,390</td>\n",
       "      <td>2,500</td>\n",
       "    </tr>\n",
       "    <tr>\n",
       "      <th>1</th>\n",
       "      <td>샤오미 샤오미 미에어 3H 여우미 정품 가성비 공기청정기</td>\n",
       "      <td>https://cr.shopping.naver.com/adcr.nhn?x=mkKZr...</td>\n",
       "      <td>옥션</td>\n",
       "      <td>132,390</td>\n",
       "      <td>2,500</td>\n",
       "    </tr>\n",
       "    <tr>\n",
       "      <th>2</th>\n",
       "      <td>샤오미 미에어 3H 여우미 정품 국내정발 가성비 청정기</td>\n",
       "      <td>https://cr.shopping.naver.com/adcr.nhn?x=7y312...</td>\n",
       "      <td>G마켓</td>\n",
       "      <td>132,400</td>\n",
       "      <td>2,500</td>\n",
       "    </tr>\n",
       "    <tr>\n",
       "      <th>3</th>\n",
       "      <td>[쿠팡 직수입] 샤오미 미에어 공기청정기 3H AC-M10-SC 45㎡</td>\n",
       "      <td>https://cr.shopping.naver.com/adcr.nhn?x=%2FOO...</td>\n",
       "      <td>쿠팡</td>\n",
       "      <td>134,900</td>\n",
       "      <td>0</td>\n",
       "    </tr>\n",
       "    <tr>\n",
       "      <th>4</th>\n",
       "      <td>샤오미 미에어 3H 공기청정기 국내정발 한글판 국내AS - [샤오미] 미에어 3H ...</td>\n",
       "      <td>https://cr.shopping.naver.com/adcr.nhn?x=T8mOn...</td>\n",
       "      <td>티몬</td>\n",
       "      <td>136,800</td>\n",
       "      <td>2,500</td>\n",
       "    </tr>\n",
       "    <tr>\n",
       "      <th>5</th>\n",
       "      <td>샤오미 미에어 3H 여우미 정품 가성비 공기청정기 (G9단독특가 코로나 극복 프로모...</td>\n",
       "      <td>https://cr.shopping.naver.com/adcr.nhn?x=dRfxK...</td>\n",
       "      <td>G9</td>\n",
       "      <td>138,750</td>\n",
       "      <td>0</td>\n",
       "    </tr>\n",
       "    <tr>\n",
       "      <th>6</th>\n",
       "      <td>미에어 공기청정기 3H 국내 정발 한글판 국내AS 2년</td>\n",
       "      <td>https://cr.shopping.naver.com/adcr.nhn?x=WQY0e...</td>\n",
       "      <td>G마켓</td>\n",
       "      <td>141,050</td>\n",
       "      <td>3,000</td>\n",
       "    </tr>\n",
       "    <tr>\n",
       "      <th>7</th>\n",
       "      <td>[신세계몰]샤오미 미에어 3H 공기청정기 국내정발 한글판 국내AS 2년</td>\n",
       "      <td>https://cr.shopping.naver.com/adcr.nhn?x=G2BIH...</td>\n",
       "      <td>11번가</td>\n",
       "      <td>144,670</td>\n",
       "      <td>3,500</td>\n",
       "    </tr>\n",
       "    <tr>\n",
       "      <th>8</th>\n",
       "      <td>국내 정발 샤오미 미에어 3H 여우미 정품 가성비 공기청정기</td>\n",
       "      <td>https://cr.shopping.naver.com/adcr.nhn?x=1oE63...</td>\n",
       "      <td></td>\n",
       "      <td>145,000</td>\n",
       "      <td>0</td>\n",
       "    </tr>\n",
       "    <tr>\n",
       "      <th>9</th>\n",
       "      <td>샤오미 샤오미 미에어 3H 공기청정기 국내정발 한글판 국내AS 2년</td>\n",
       "      <td>https://cr.shopping.naver.com/adcr.nhn?x=hps10...</td>\n",
       "      <td>옥션</td>\n",
       "      <td>146,550</td>\n",
       "      <td>3,500</td>\n",
       "    </tr>\n",
       "  </tbody>\n",
       "</table>\n",
       "</div>"
      ],
      "text/plain": [
       "                                                   0  \\\n",
       "0                                   국내 정발 샤오미 미에어 3H   \n",
       "1                    샤오미 샤오미 미에어 3H 여우미 정품 가성비 공기청정기   \n",
       "2                     샤오미 미에어 3H 여우미 정품 국내정발 가성비 청정기   \n",
       "3            [쿠팡 직수입] 샤오미 미에어 공기청정기 3H AC-M10-SC 45㎡   \n",
       "4  샤오미 미에어 3H 공기청정기 국내정발 한글판 국내AS - [샤오미] 미에어 3H ...   \n",
       "5  샤오미 미에어 3H 여우미 정품 가성비 공기청정기 (G9단독특가 코로나 극복 프로모...   \n",
       "6                     미에어 공기청정기 3H 국내 정발 한글판 국내AS 2년   \n",
       "7            [신세계몰]샤오미 미에어 3H 공기청정기 국내정발 한글판 국내AS 2년   \n",
       "8                  국내 정발 샤오미 미에어 3H 여우미 정품 가성비 공기청정기   \n",
       "9              샤오미 샤오미 미에어 3H 공기청정기 국내정발 한글판 국내AS 2년   \n",
       "\n",
       "                                                   1     2        3      4  \n",
       "0  https://cr.shopping.naver.com/adcr.nhn?x=ZTjg6...  인터파크  132,390  2,500  \n",
       "1  https://cr.shopping.naver.com/adcr.nhn?x=mkKZr...    옥션  132,390  2,500  \n",
       "2  https://cr.shopping.naver.com/adcr.nhn?x=7y312...   G마켓  132,400  2,500  \n",
       "3  https://cr.shopping.naver.com/adcr.nhn?x=%2FOO...    쿠팡  134,900      0  \n",
       "4  https://cr.shopping.naver.com/adcr.nhn?x=T8mOn...    티몬  136,800  2,500  \n",
       "5  https://cr.shopping.naver.com/adcr.nhn?x=dRfxK...    G9  138,750      0  \n",
       "6  https://cr.shopping.naver.com/adcr.nhn?x=WQY0e...   G마켓  141,050  3,000  \n",
       "7  https://cr.shopping.naver.com/adcr.nhn?x=G2BIH...  11번가  144,670  3,500  \n",
       "8  https://cr.shopping.naver.com/adcr.nhn?x=1oE63...        145,000      0  \n",
       "9  https://cr.shopping.naver.com/adcr.nhn?x=hps10...    옥션  146,550  3,500  "
      ]
     },
     "execution_count": 33,
     "metadata": {},
     "output_type": "execute_result"
    }
   ],
   "source": [
    "data.head(10)"
   ]
  },
  {
   "cell_type": "code",
   "execution_count": 34,
   "metadata": {},
   "outputs": [
    {
     "data": {
      "text/html": [
       "<div>\n",
       "<style scoped>\n",
       "    .dataframe tbody tr th:only-of-type {\n",
       "        vertical-align: middle;\n",
       "    }\n",
       "\n",
       "    .dataframe tbody tr th {\n",
       "        vertical-align: top;\n",
       "    }\n",
       "\n",
       "    .dataframe thead th {\n",
       "        text-align: right;\n",
       "    }\n",
       "</style>\n",
       "<table border=\"1\" class=\"dataframe\">\n",
       "  <thead>\n",
       "    <tr style=\"text-align: right;\">\n",
       "      <th></th>\n",
       "      <th>0</th>\n",
       "      <th>1</th>\n",
       "      <th>2</th>\n",
       "      <th>3</th>\n",
       "      <th>4</th>\n",
       "    </tr>\n",
       "  </thead>\n",
       "  <tbody>\n",
       "    <tr>\n",
       "      <th>52</th>\n",
       "      <td>샤오미 공기청정기 미에어3H 웰빙 건강 정화 먼지</td>\n",
       "      <td>https://cr.shopping.naver.com/adcr.nhn?x=S3b%2...</td>\n",
       "      <td></td>\n",
       "      <td>277,800</td>\n",
       "      <td>0</td>\n",
       "    </tr>\n",
       "    <tr>\n",
       "      <th>53</th>\n",
       "      <td>샤오미 공기 청정기 미에어 3H</td>\n",
       "      <td>https://cr.shopping.naver.com/adcr.nhn?x=IVazO...</td>\n",
       "      <td>G마켓</td>\n",
       "      <td>279,420</td>\n",
       "      <td>0</td>\n",
       "    </tr>\n",
       "    <tr>\n",
       "      <th>54</th>\n",
       "      <td>샤오미 공기 청정기 미에어 3H</td>\n",
       "      <td>https://cr.shopping.naver.com/adcr.nhn?x=08KQ0...</td>\n",
       "      <td>옥션</td>\n",
       "      <td>281,690</td>\n",
       "      <td>0</td>\n",
       "    </tr>\n",
       "    <tr>\n",
       "      <th>55</th>\n",
       "      <td>샤오미 공기 청정기 미에어 3H</td>\n",
       "      <td>https://cr.shopping.naver.com/adcr.nhn?x=vRA7r...</td>\n",
       "      <td></td>\n",
       "      <td>325,210</td>\n",
       "      <td>0</td>\n",
       "    </tr>\n",
       "    <tr>\n",
       "      <th>56</th>\n",
       "      <td>샤오미 공기 청정기 미에어 3H</td>\n",
       "      <td>https://cr.shopping.naver.com/adcr.nhn?x=%2F%2...</td>\n",
       "      <td>쿠팡</td>\n",
       "      <td>328,500</td>\n",
       "      <td>2,500</td>\n",
       "    </tr>\n",
       "  </tbody>\n",
       "</table>\n",
       "</div>"
      ],
      "text/plain": [
       "                              0  \\\n",
       "52  샤오미 공기청정기 미에어3H 웰빙 건강 정화 먼지   \n",
       "53            샤오미 공기 청정기 미에어 3H   \n",
       "54            샤오미 공기 청정기 미에어 3H   \n",
       "55            샤오미 공기 청정기 미에어 3H   \n",
       "56            샤오미 공기 청정기 미에어 3H   \n",
       "\n",
       "                                                    1    2        3      4  \n",
       "52  https://cr.shopping.naver.com/adcr.nhn?x=S3b%2...       277,800      0  \n",
       "53  https://cr.shopping.naver.com/adcr.nhn?x=IVazO...  G마켓  279,420      0  \n",
       "54  https://cr.shopping.naver.com/adcr.nhn?x=08KQ0...   옥션  281,690      0  \n",
       "55  https://cr.shopping.naver.com/adcr.nhn?x=vRA7r...       325,210      0  \n",
       "56  https://cr.shopping.naver.com/adcr.nhn?x=%2F%2...   쿠팡  328,500  2,500  "
      ]
     },
     "execution_count": 34,
     "metadata": {},
     "output_type": "execute_result"
    }
   ],
   "source": [
    "data.tail()"
   ]
  },
  {
   "cell_type": "code",
   "execution_count": 35,
   "metadata": {},
   "outputs": [],
   "source": [
    "data.columns = ['title', 'link', 'mall', 'price', 'delivery' ]"
   ]
  },
  {
   "cell_type": "code",
   "execution_count": 36,
   "metadata": {},
   "outputs": [
    {
     "data": {
      "text/html": [
       "<div>\n",
       "<style scoped>\n",
       "    .dataframe tbody tr th:only-of-type {\n",
       "        vertical-align: middle;\n",
       "    }\n",
       "\n",
       "    .dataframe tbody tr th {\n",
       "        vertical-align: top;\n",
       "    }\n",
       "\n",
       "    .dataframe thead th {\n",
       "        text-align: right;\n",
       "    }\n",
       "</style>\n",
       "<table border=\"1\" class=\"dataframe\">\n",
       "  <thead>\n",
       "    <tr style=\"text-align: right;\">\n",
       "      <th></th>\n",
       "      <th>title</th>\n",
       "      <th>link</th>\n",
       "      <th>mall</th>\n",
       "      <th>price</th>\n",
       "      <th>delivery</th>\n",
       "    </tr>\n",
       "  </thead>\n",
       "  <tbody>\n",
       "    <tr>\n",
       "      <th>0</th>\n",
       "      <td>국내 정발 샤오미 미에어 3H</td>\n",
       "      <td>https://cr.shopping.naver.com/adcr.nhn?x=ZTjg6...</td>\n",
       "      <td>인터파크</td>\n",
       "      <td>132,390</td>\n",
       "      <td>2,500</td>\n",
       "    </tr>\n",
       "    <tr>\n",
       "      <th>1</th>\n",
       "      <td>샤오미 샤오미 미에어 3H 여우미 정품 가성비 공기청정기</td>\n",
       "      <td>https://cr.shopping.naver.com/adcr.nhn?x=mkKZr...</td>\n",
       "      <td>옥션</td>\n",
       "      <td>132,390</td>\n",
       "      <td>2,500</td>\n",
       "    </tr>\n",
       "    <tr>\n",
       "      <th>2</th>\n",
       "      <td>샤오미 미에어 3H 여우미 정품 국내정발 가성비 청정기</td>\n",
       "      <td>https://cr.shopping.naver.com/adcr.nhn?x=7y312...</td>\n",
       "      <td>G마켓</td>\n",
       "      <td>132,400</td>\n",
       "      <td>2,500</td>\n",
       "    </tr>\n",
       "    <tr>\n",
       "      <th>3</th>\n",
       "      <td>[쿠팡 직수입] 샤오미 미에어 공기청정기 3H AC-M10-SC 45㎡</td>\n",
       "      <td>https://cr.shopping.naver.com/adcr.nhn?x=%2FOO...</td>\n",
       "      <td>쿠팡</td>\n",
       "      <td>134,900</td>\n",
       "      <td>0</td>\n",
       "    </tr>\n",
       "    <tr>\n",
       "      <th>4</th>\n",
       "      <td>샤오미 미에어 3H 공기청정기 국내정발 한글판 국내AS - [샤오미] 미에어 3H ...</td>\n",
       "      <td>https://cr.shopping.naver.com/adcr.nhn?x=T8mOn...</td>\n",
       "      <td>티몬</td>\n",
       "      <td>136,800</td>\n",
       "      <td>2,500</td>\n",
       "    </tr>\n",
       "  </tbody>\n",
       "</table>\n",
       "</div>"
      ],
      "text/plain": [
       "                                               title  \\\n",
       "0                                   국내 정발 샤오미 미에어 3H   \n",
       "1                    샤오미 샤오미 미에어 3H 여우미 정품 가성비 공기청정기   \n",
       "2                     샤오미 미에어 3H 여우미 정품 국내정발 가성비 청정기   \n",
       "3            [쿠팡 직수입] 샤오미 미에어 공기청정기 3H AC-M10-SC 45㎡   \n",
       "4  샤오미 미에어 3H 공기청정기 국내정발 한글판 국내AS - [샤오미] 미에어 3H ...   \n",
       "\n",
       "                                                link  mall    price delivery  \n",
       "0  https://cr.shopping.naver.com/adcr.nhn?x=ZTjg6...  인터파크  132,390    2,500  \n",
       "1  https://cr.shopping.naver.com/adcr.nhn?x=mkKZr...    옥션  132,390    2,500  \n",
       "2  https://cr.shopping.naver.com/adcr.nhn?x=7y312...   G마켓  132,400    2,500  \n",
       "3  https://cr.shopping.naver.com/adcr.nhn?x=%2FOO...    쿠팡  134,900        0  \n",
       "4  https://cr.shopping.naver.com/adcr.nhn?x=T8mOn...    티몬  136,800    2,500  "
      ]
     },
     "execution_count": 36,
     "metadata": {},
     "output_type": "execute_result"
    }
   ],
   "source": [
    "data.head()"
   ]
  },
  {
   "cell_type": "code",
   "execution_count": 37,
   "metadata": {},
   "outputs": [],
   "source": [
    "# 저장하기  ---> 경고창\n",
    "data.to_excel('샤오미미에어3h.xlsx', index = False)"
   ]
  },
  {
   "cell_type": "code",
   "execution_count": null,
   "metadata": {},
   "outputs": [],
   "source": [
    "# # 엑셀에 저장할 경우 URL이 너무 길어서 오류가 발생할 수 있음.  --> 판다스 예전 버전일 경우...\n",
    "# 현재는 URL 길어도 저장 가능!!\n",
    "\n",
    "\n",
    "# # ExcelWriter 옵션 추가\n",
    "\n",
    "# writer = pd.ExcelWriter('샤오미미에어2s_url.xlsx',options={'strings_to_urls': False})\n",
    "# data.to_excel(writer, index = False)\n",
    "# writer.save()"
   ]
  }
 ],
 "metadata": {
  "kernelspec": {
   "display_name": "Python 3",
   "language": "python",
   "name": "python3"
  },
  "language_info": {
   "codemirror_mode": {
    "name": "ipython",
    "version": 3
   },
   "file_extension": ".py",
   "mimetype": "text/x-python",
   "name": "python",
   "nbconvert_exporter": "python",
   "pygments_lexer": "ipython3",
   "version": "3.8.8"
  },
  "toc": {
   "base_numbering": 1,
   "nav_menu": {},
   "number_sections": true,
   "sideBar": true,
   "skip_h1_title": false,
   "title_cell": "Table of Contents",
   "title_sidebar": "Contents",
   "toc_cell": false,
   "toc_position": {},
   "toc_section_display": true,
   "toc_window_display": false
  },
  "varInspector": {
   "cols": {
    "lenName": 16,
    "lenType": 16,
    "lenVar": 40
   },
   "kernels_config": {
    "python": {
     "delete_cmd_postfix": "",
     "delete_cmd_prefix": "del ",
     "library": "var_list.py",
     "varRefreshCmd": "print(var_dic_list())"
    },
    "r": {
     "delete_cmd_postfix": ") ",
     "delete_cmd_prefix": "rm(",
     "library": "var_list.r",
     "varRefreshCmd": "cat(var_dic_list()) "
    }
   },
   "types_to_exclude": [
    "module",
    "function",
    "builtin_function_or_method",
    "instance",
    "_Feature"
   ],
   "window_display": false
  }
 },
 "nbformat": 4,
 "nbformat_minor": 2
}
