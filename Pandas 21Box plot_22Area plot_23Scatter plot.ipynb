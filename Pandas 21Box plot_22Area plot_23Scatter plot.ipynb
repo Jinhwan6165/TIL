{
 "cells": [
  {
   "cell_type": "markdown",
   "metadata": {},
   "source": [
    "* 박조은 강사님 inflearn강의  \n",
    "단 두장의 문서로 데이터 분석과 시각화 뽀개기 \n",
    "출처: https://www.inflearn.com/course/%ED%8C%90%EB%8B%A4%EC%8A%A4-pandas/lecture/20846?tab=note"
   ]
  },
  {
   "cell_type": "markdown",
   "metadata": {},
   "source": [
    "## 파이썬 시각화 상자 수염 그림(box plot)그리기 \n",
    "-  https://pandas.pydata.org/pandas-docs/stable/user_guide/visualization.html#box-plots"
   ]
  },
  {
   "cell_type": "markdown",
   "metadata": {},
   "source": [
    "https://pandas.pydata.org/pandas-docs/stable/user_guide/visualization.html\n",
    "box-and-whisker plot, box-and-whisker diagram\n",
    "\n",
    "* 상자 수염 그림 - 위키백과, 우리 모두의 백과사전\n",
    "\n",
    "* 가공하지 않은 자료 그대로를 이용하여 그린 것이 아니라, 자료로부터 얻어낸 통계량인 5가지 요약 수치로 그린다.\n",
    "* 5가지 요약 수치란 기술통계학에서 자료의 정보를 알려주는 아래의 다섯 가지 수치를 의미한다.\n",
    "\n",
    "1. 최솟값\n",
    "2. 제 1사분위수\n",
    "3. 제 2사분위수( ), 즉 중앙값\n",
    "4. 제 3 사분위 수( )\n",
    "5. 최댓값\n",
    "\n",
    "- 더 읽어보기 : 박스 플롯에 대하여 :: -[|]- Box and Whisker"
   ]
  },
  {
   "cell_type": "code",
   "execution_count": 1,
   "metadata": {},
   "outputs": [],
   "source": [
    "import pandas as pd\n",
    "import numpy as np\n",
    "\n",
    "import matplotlib as mpl\n",
    "import matplotlib.pyplot as plt\n",
    "%matplotlib inline\n",
    "\n",
    "#한글폰트 사용시 그래프에서 마이너스 폰트 깨지는 문제에 대한 대처\n",
    "mpl.rcParams['axes.unicode_minus'] = False"
   ]
  },
  {
   "cell_type": "code",
   "execution_count": 2,
   "metadata": {},
   "outputs": [],
   "source": [
    "df = pd.DataFrame(np.random.rand(10, 5), columns=['A', 'B', 'C', 'D', 'E'])"
   ]
  },
  {
   "cell_type": "code",
   "execution_count": 3,
   "metadata": {},
   "outputs": [
    {
     "data": {
      "text/html": [
       "<div>\n",
       "<style scoped>\n",
       "    .dataframe tbody tr th:only-of-type {\n",
       "        vertical-align: middle;\n",
       "    }\n",
       "\n",
       "    .dataframe tbody tr th {\n",
       "        vertical-align: top;\n",
       "    }\n",
       "\n",
       "    .dataframe thead th {\n",
       "        text-align: right;\n",
       "    }\n",
       "</style>\n",
       "<table border=\"1\" class=\"dataframe\">\n",
       "  <thead>\n",
       "    <tr style=\"text-align: right;\">\n",
       "      <th></th>\n",
       "      <th>A</th>\n",
       "      <th>B</th>\n",
       "      <th>C</th>\n",
       "      <th>D</th>\n",
       "      <th>E</th>\n",
       "    </tr>\n",
       "  </thead>\n",
       "  <tbody>\n",
       "    <tr>\n",
       "      <th>count</th>\n",
       "      <td>10.000000</td>\n",
       "      <td>10.000000</td>\n",
       "      <td>10.000000</td>\n",
       "      <td>10.000000</td>\n",
       "      <td>10.000000</td>\n",
       "    </tr>\n",
       "    <tr>\n",
       "      <th>mean</th>\n",
       "      <td>0.444522</td>\n",
       "      <td>0.485148</td>\n",
       "      <td>0.562600</td>\n",
       "      <td>0.618036</td>\n",
       "      <td>0.708286</td>\n",
       "    </tr>\n",
       "    <tr>\n",
       "      <th>std</th>\n",
       "      <td>0.322259</td>\n",
       "      <td>0.328486</td>\n",
       "      <td>0.232093</td>\n",
       "      <td>0.300408</td>\n",
       "      <td>0.333440</td>\n",
       "    </tr>\n",
       "    <tr>\n",
       "      <th>min</th>\n",
       "      <td>0.067937</td>\n",
       "      <td>0.084299</td>\n",
       "      <td>0.116219</td>\n",
       "      <td>0.147090</td>\n",
       "      <td>0.190680</td>\n",
       "    </tr>\n",
       "    <tr>\n",
       "      <th>25%</th>\n",
       "      <td>0.129216</td>\n",
       "      <td>0.217550</td>\n",
       "      <td>0.428492</td>\n",
       "      <td>0.368843</td>\n",
       "      <td>0.426958</td>\n",
       "    </tr>\n",
       "    <tr>\n",
       "      <th>50%</th>\n",
       "      <td>0.438268</td>\n",
       "      <td>0.447876</td>\n",
       "      <td>0.569325</td>\n",
       "      <td>0.712424</td>\n",
       "      <td>0.881218</td>\n",
       "    </tr>\n",
       "    <tr>\n",
       "      <th>75%</th>\n",
       "      <td>0.655236</td>\n",
       "      <td>0.723413</td>\n",
       "      <td>0.700227</td>\n",
       "      <td>0.841206</td>\n",
       "      <td>0.955457</td>\n",
       "    </tr>\n",
       "    <tr>\n",
       "      <th>max</th>\n",
       "      <td>0.941387</td>\n",
       "      <td>0.955741</td>\n",
       "      <td>0.871400</td>\n",
       "      <td>0.934994</td>\n",
       "      <td>0.975700</td>\n",
       "    </tr>\n",
       "  </tbody>\n",
       "</table>\n",
       "</div>"
      ],
      "text/plain": [
       "               A          B          C          D          E\n",
       "count  10.000000  10.000000  10.000000  10.000000  10.000000\n",
       "mean    0.444522   0.485148   0.562600   0.618036   0.708286\n",
       "std     0.322259   0.328486   0.232093   0.300408   0.333440\n",
       "min     0.067937   0.084299   0.116219   0.147090   0.190680\n",
       "25%     0.129216   0.217550   0.428492   0.368843   0.426958\n",
       "50%     0.438268   0.447876   0.569325   0.712424   0.881218\n",
       "75%     0.655236   0.723413   0.700227   0.841206   0.955457\n",
       "max     0.941387   0.955741   0.871400   0.934994   0.975700"
      ]
     },
     "execution_count": 3,
     "metadata": {},
     "output_type": "execute_result"
    }
   ],
   "source": [
    "df.describe()  \n",
    "#데이터의 요약된 수치 보기\n",
    "# box plot을 그릴때 이를 바탕으로 그린다."
   ]
  },
  {
   "cell_type": "code",
   "execution_count": 4,
   "metadata": {},
   "outputs": [
    {
     "data": {
      "text/plain": [
       "<AxesSubplot:>"
      ]
     },
     "execution_count": 4,
     "metadata": {},
     "output_type": "execute_result"
    },
    {
     "data": {
      "image/png": "[encoded data removed]",
      "text/plain": [
       "<Figure size 432x288 with 1 Axes>"
      ]
     },
     "metadata": {
      "needs_background": "light"
     },
     "output_type": "display_data"
    }
   ],
   "source": [
    "df.plot.box()"
   ]
  },
  {
   "cell_type": "code",
   "execution_count": 5,
   "metadata": {},
   "outputs": [],
   "source": [
    "color = {'boxes': 'DarkGreen', 'whiskers': 'DarkOrange',\n",
    "        'medians': 'DarkBlue', 'caps': 'Gray'}"
   ]
  },
  {
   "cell_type": "code",
   "execution_count": 6,
   "metadata": {},
   "outputs": [
    {
     "data": {
      "text/plain": [
       "<AxesSubplot:>"
      ]
     },
     "execution_count": 6,
     "metadata": {},
     "output_type": "execute_result"
    },
    {
     "data": {
      "image/png": "[encoded data removed]",
      "text/plain": [
       "<Figure size 432x288 with 1 Axes>"
      ]
     },
     "metadata": {
      "needs_background": "light"
     },
     "output_type": "display_data"
    }
   ],
   "source": [
    "df.plot.box(color=color, sym='r+')"
   ]
  },
  {
   "cell_type": "code",
   "execution_count": 7,
   "metadata": {},
   "outputs": [
    {
     "data": {
      "text/plain": [
       "<AxesSubplot:>"
      ]
     },
     "execution_count": 7,
     "metadata": {},
     "output_type": "execute_result"
    },
    {
     "data": {
      "image/png": "[encoded data removed]",
      "text/plain": [
       "<Figure size 432x288 with 1 Axes>"
      ]
     },
     "metadata": {
      "needs_background": "light"
     },
     "output_type": "display_data"
    }
   ],
   "source": [
    "df.plot.box(vert=False, positions=[1,4,5,6,8])"
   ]
  },
  {
   "cell_type": "code",
   "execution_count": 8,
   "metadata": {},
   "outputs": [
    {
     "data": {
      "text/html": [
       "<div>\n",
       "<style scoped>\n",
       "    .dataframe tbody tr th:only-of-type {\n",
       "        vertical-align: middle;\n",
       "    }\n",
       "\n",
       "    .dataframe tbody tr th {\n",
       "        vertical-align: top;\n",
       "    }\n",
       "\n",
       "    .dataframe thead th {\n",
       "        text-align: right;\n",
       "    }\n",
       "</style>\n",
       "<table border=\"1\" class=\"dataframe\">\n",
       "  <thead>\n",
       "    <tr style=\"text-align: right;\">\n",
       "      <th></th>\n",
       "      <th>0</th>\n",
       "      <th>1</th>\n",
       "      <th>2</th>\n",
       "      <th>3</th>\n",
       "      <th>4</th>\n",
       "    </tr>\n",
       "  </thead>\n",
       "  <tbody>\n",
       "    <tr>\n",
       "      <th>0</th>\n",
       "      <td>0.367383</td>\n",
       "      <td>0.698487</td>\n",
       "      <td>0.304375</td>\n",
       "      <td>0.671109</td>\n",
       "      <td>0.295336</td>\n",
       "    </tr>\n",
       "    <tr>\n",
       "      <th>1</th>\n",
       "      <td>0.266689</td>\n",
       "      <td>0.343077</td>\n",
       "      <td>0.219748</td>\n",
       "      <td>0.708761</td>\n",
       "      <td>0.653242</td>\n",
       "    </tr>\n",
       "    <tr>\n",
       "      <th>2</th>\n",
       "      <td>0.316363</td>\n",
       "      <td>0.056498</td>\n",
       "      <td>0.221672</td>\n",
       "      <td>0.777216</td>\n",
       "      <td>0.569569</td>\n",
       "    </tr>\n",
       "    <tr>\n",
       "      <th>3</th>\n",
       "      <td>0.950971</td>\n",
       "      <td>0.745571</td>\n",
       "      <td>0.085347</td>\n",
       "      <td>0.252161</td>\n",
       "      <td>0.202598</td>\n",
       "    </tr>\n",
       "    <tr>\n",
       "      <th>4</th>\n",
       "      <td>0.343892</td>\n",
       "      <td>0.763970</td>\n",
       "      <td>0.265138</td>\n",
       "      <td>0.870567</td>\n",
       "      <td>0.232365</td>\n",
       "    </tr>\n",
       "  </tbody>\n",
       "</table>\n",
       "</div>"
      ],
      "text/plain": [
       "          0         1         2         3         4\n",
       "0  0.367383  0.698487  0.304375  0.671109  0.295336\n",
       "1  0.266689  0.343077  0.219748  0.708761  0.653242\n",
       "2  0.316363  0.056498  0.221672  0.777216  0.569569\n",
       "3  0.950971  0.745571  0.085347  0.252161  0.202598\n",
       "4  0.343892  0.763970  0.265138  0.870567  0.232365"
      ]
     },
     "execution_count": 8,
     "metadata": {},
     "output_type": "execute_result"
    }
   ],
   "source": [
    "df = pd.DataFrame(np.random.rand(10,5))\n",
    "df.head()"
   ]
  },
  {
   "cell_type": "code",
   "execution_count": 9,
   "metadata": {},
   "outputs": [
    {
     "data": {
      "image/png": "[encoded data removed]",
      "text/plain": [
       "<Figure size 432x288 with 1 Axes>"
      ]
     },
     "metadata": {
      "needs_background": "light"
     },
     "output_type": "display_data"
    }
   ],
   "source": [
    "bp=df.boxplot()  # 그리드가 생김"
   ]
  },
  {
   "cell_type": "code",
   "execution_count": 10,
   "metadata": {},
   "outputs": [
    {
     "data": {
      "text/html": [
       "<div>\n",
       "<style scoped>\n",
       "    .dataframe tbody tr th:only-of-type {\n",
       "        vertical-align: middle;\n",
       "    }\n",
       "\n",
       "    .dataframe tbody tr th {\n",
       "        vertical-align: top;\n",
       "    }\n",
       "\n",
       "    .dataframe thead th {\n",
       "        text-align: right;\n",
       "    }\n",
       "</style>\n",
       "<table border=\"1\" class=\"dataframe\">\n",
       "  <thead>\n",
       "    <tr style=\"text-align: right;\">\n",
       "      <th></th>\n",
       "      <th>Col1</th>\n",
       "      <th>Col2</th>\n",
       "    </tr>\n",
       "  </thead>\n",
       "  <tbody>\n",
       "    <tr>\n",
       "      <th>0</th>\n",
       "      <td>0.593734</td>\n",
       "      <td>0.556628</td>\n",
       "    </tr>\n",
       "    <tr>\n",
       "      <th>1</th>\n",
       "      <td>0.834905</td>\n",
       "      <td>0.851986</td>\n",
       "    </tr>\n",
       "  </tbody>\n",
       "</table>\n",
       "</div>"
      ],
      "text/plain": [
       "       Col1      Col2\n",
       "0  0.593734  0.556628\n",
       "1  0.834905  0.851986"
      ]
     },
     "execution_count": 10,
     "metadata": {},
     "output_type": "execute_result"
    }
   ],
   "source": [
    "df = pd.DataFrame(np.random.rand(10,2),columns=['Col1','Col2'])\n",
    "df.head(2)"
   ]
  },
  {
   "cell_type": "code",
   "execution_count": 11,
   "metadata": {},
   "outputs": [
    {
     "data": {
      "text/html": [
       "<div>\n",
       "<style scoped>\n",
       "    .dataframe tbody tr th:only-of-type {\n",
       "        vertical-align: middle;\n",
       "    }\n",
       "\n",
       "    .dataframe tbody tr th {\n",
       "        vertical-align: top;\n",
       "    }\n",
       "\n",
       "    .dataframe thead th {\n",
       "        text-align: right;\n",
       "    }\n",
       "</style>\n",
       "<table border=\"1\" class=\"dataframe\">\n",
       "  <thead>\n",
       "    <tr style=\"text-align: right;\">\n",
       "      <th></th>\n",
       "      <th>Col1</th>\n",
       "      <th>Col2</th>\n",
       "      <th>X</th>\n",
       "    </tr>\n",
       "  </thead>\n",
       "  <tbody>\n",
       "    <tr>\n",
       "      <th>0</th>\n",
       "      <td>0.593734</td>\n",
       "      <td>0.556628</td>\n",
       "      <td>A</td>\n",
       "    </tr>\n",
       "    <tr>\n",
       "      <th>1</th>\n",
       "      <td>0.834905</td>\n",
       "      <td>0.851986</td>\n",
       "      <td>A</td>\n",
       "    </tr>\n",
       "  </tbody>\n",
       "</table>\n",
       "</div>"
      ],
      "text/plain": [
       "       Col1      Col2  X\n",
       "0  0.593734  0.556628  A\n",
       "1  0.834905  0.851986  A"
      ]
     },
     "execution_count": 11,
     "metadata": {},
     "output_type": "execute_result"
    }
   ],
   "source": [
    "df['X'] = pd.Series(['A','A','A','A','A','B','B','B','B','B'])\n",
    "df.head(2)"
   ]
  },
  {
   "cell_type": "code",
   "execution_count": 12,
   "metadata": {},
   "outputs": [
    {
     "data": {
      "image/png": "[encoded data removed]",
      "text/plain": [
       "<Figure size 432x288 with 2 Axes>"
      ]
     },
     "metadata": {
      "needs_background": "light"
     },
     "output_type": "display_data"
    }
   ],
   "source": [
    "bp=df.boxplot(by='X')    #값에 따라 subplot을 그릴 수 있다."
   ]
  },
  {
   "cell_type": "code",
   "execution_count": 13,
   "metadata": {},
   "outputs": [
    {
     "data": {
      "image/png": "[encoded data removed]",
      "text/plain": [
       "<Figure size 432x288 with 2 Axes>"
      ]
     },
     "metadata": {
      "needs_background": "light"
     },
     "output_type": "display_data"
    }
   ],
   "source": [
    "np.random.seed(1234)\n",
    "df_box=pd.DataFrame(np.random.randn(50,2))\n",
    "df_box['g'] = np.random.choice(['A','B'],size=50)\n",
    "df_box.loc[df_box['g']=='B',1]+=3\n",
    "bp=df_box.boxplot(by='g')"
   ]
  },
  {
   "cell_type": "code",
   "execution_count": 14,
   "metadata": {},
   "outputs": [
    {
     "data": {
      "image/png": "[encoded data removed]",
      "text/plain": [
       "<Figure size 432x288 with 2 Axes>"
      ]
     },
     "metadata": {
      "needs_background": "light"
     },
     "output_type": "display_data"
    }
   ],
   "source": [
    "bp=df_box.groupby('g').boxplot()  #다른 변수에 담아 그리며 grid 생김"
   ]
  },
  {
   "cell_type": "markdown",
   "metadata": {},
   "source": [
    "## Area plot\n",
    "* 파이썬 데이터 시각화 Area plot, Gird 옵션으로 그래프 격자 만들기\n",
    "* Area plot은 값을 누적해주는 기본 옵션이다.\n",
    "* dataframe.dropna() or dataframe.fillna()로 변경할 수 있지만, NaN값이 있으면 0으로 채우는 것이 기본값이다.  \n",
    "* https://pandas.pydata.org/pandas-docs/stable/user_guide/visualization.html#area-plot"
   ]
  },
  {
   "cell_type": "code",
   "execution_count": 15,
   "metadata": {
    "scrolled": true
   },
   "outputs": [
    {
     "data": {
      "text/html": [
       "<div>\n",
       "<style scoped>\n",
       "    .dataframe tbody tr th:only-of-type {\n",
       "        vertical-align: middle;\n",
       "    }\n",
       "\n",
       "    .dataframe tbody tr th {\n",
       "        vertical-align: top;\n",
       "    }\n",
       "\n",
       "    .dataframe thead th {\n",
       "        text-align: right;\n",
       "    }\n",
       "</style>\n",
       "<table border=\"1\" class=\"dataframe\">\n",
       "  <thead>\n",
       "    <tr style=\"text-align: right;\">\n",
       "      <th></th>\n",
       "      <th>a</th>\n",
       "      <th>b</th>\n",
       "      <th>c</th>\n",
       "      <th>d</th>\n",
       "    </tr>\n",
       "  </thead>\n",
       "  <tbody>\n",
       "    <tr>\n",
       "      <th>0</th>\n",
       "      <td>0.556895</td>\n",
       "      <td>0.084774</td>\n",
       "      <td>0.333002</td>\n",
       "      <td>0.728429</td>\n",
       "    </tr>\n",
       "    <tr>\n",
       "      <th>1</th>\n",
       "      <td>0.142435</td>\n",
       "      <td>0.552469</td>\n",
       "      <td>0.273043</td>\n",
       "      <td>0.974495</td>\n",
       "    </tr>\n",
       "    <tr>\n",
       "      <th>2</th>\n",
       "      <td>0.667787</td>\n",
       "      <td>0.255653</td>\n",
       "      <td>0.108311</td>\n",
       "      <td>0.776181</td>\n",
       "    </tr>\n",
       "    <tr>\n",
       "      <th>3</th>\n",
       "      <td>0.782478</td>\n",
       "      <td>0.761604</td>\n",
       "      <td>0.914403</td>\n",
       "      <td>0.658623</td>\n",
       "    </tr>\n",
       "    <tr>\n",
       "      <th>4</th>\n",
       "      <td>0.568368</td>\n",
       "      <td>0.201756</td>\n",
       "      <td>0.698296</td>\n",
       "      <td>0.952195</td>\n",
       "    </tr>\n",
       "  </tbody>\n",
       "</table>\n",
       "</div>"
      ],
      "text/plain": [
       "          a         b         c         d\n",
       "0  0.556895  0.084774  0.333002  0.728429\n",
       "1  0.142435  0.552469  0.273043  0.974495\n",
       "2  0.667787  0.255653  0.108311  0.776181\n",
       "3  0.782478  0.761604  0.914403  0.658623\n",
       "4  0.568368  0.201756  0.698296  0.952195"
      ]
     },
     "execution_count": 15,
     "metadata": {},
     "output_type": "execute_result"
    }
   ],
   "source": [
    "df = pd.DataFrame(np.random.rand(10,4), columns=['a','b','c','d'])\n",
    "df.head()"
   ]
  },
  {
   "cell_type": "code",
   "execution_count": 20,
   "metadata": {
    "scrolled": true
   },
   "outputs": [
    {
     "data": {
      "text/plain": [
       "<AxesSubplot:>"
      ]
     },
     "execution_count": 20,
     "metadata": {},
     "output_type": "execute_result"
    },
    {
     "data": {
      "image/png": "[encoded data removed]",
      "text/plain": [
       "<Figure size 432x288 with 1 Axes>"
      ]
     },
     "metadata": {
      "needs_background": "light"
     },
     "output_type": "display_data"
    }
   ],
   "source": [
    "df.plot(grid=True)"
   ]
  },
  {
   "cell_type": "code",
   "execution_count": 19,
   "metadata": {},
   "outputs": [
    {
     "data": {
      "text/plain": [
       "<AxesSubplot:>"
      ]
     },
     "execution_count": 19,
     "metadata": {},
     "output_type": "execute_result"
    },
    {
     "data": {
      "image/png": "[encoded data removed]",
      "text/plain": [
       "<Figure size 432x288 with 1 Axes>"
      ]
     },
     "metadata": {
      "needs_background": "light"
     },
     "output_type": "display_data"
    }
   ],
   "source": [
    "df.plot.area()"
   ]
  },
  {
   "cell_type": "code",
   "execution_count": 21,
   "metadata": {},
   "outputs": [
    {
     "data": {
      "text/plain": [
       "<AxesSubplot:>"
      ]
     },
     "execution_count": 21,
     "metadata": {},
     "output_type": "execute_result"
    },
    {
     "data": {
      "image/png": "[encoded data removed]",
      "text/plain": [
       "<Figure size 432x288 with 1 Axes>"
      ]
     },
     "metadata": {
      "needs_background": "light"
     },
     "output_type": "display_data"
    }
   ],
   "source": [
    "df.plot.area(stacked=False,grid=True) # 기본값 해제"
   ]
  },
  {
   "cell_type": "markdown",
   "metadata": {},
   "source": [
    "## Scatter plot\n",
    "\n",
    "*https://pandas.pydata.org/pandas-docs/stable/user_guide/visualization.html#scatter-plot"
   ]
  },
  {
   "cell_type": "code",
   "execution_count": 23,
   "metadata": {
    "scrolled": true
   },
   "outputs": [
    {
     "data": {
      "text/html": [
       "<div>\n",
       "<style scoped>\n",
       "    .dataframe tbody tr th:only-of-type {\n",
       "        vertical-align: middle;\n",
       "    }\n",
       "\n",
       "    .dataframe tbody tr th {\n",
       "        vertical-align: top;\n",
       "    }\n",
       "\n",
       "    .dataframe thead th {\n",
       "        text-align: right;\n",
       "    }\n",
       "</style>\n",
       "<table border=\"1\" class=\"dataframe\">\n",
       "  <thead>\n",
       "    <tr style=\"text-align: right;\">\n",
       "      <th></th>\n",
       "      <th>a</th>\n",
       "      <th>b</th>\n",
       "      <th>c</th>\n",
       "      <th>d</th>\n",
       "    </tr>\n",
       "  </thead>\n",
       "  <tbody>\n",
       "    <tr>\n",
       "      <th>0</th>\n",
       "      <td>0.753544</td>\n",
       "      <td>0.270584</td>\n",
       "      <td>0.522303</td>\n",
       "      <td>0.098329</td>\n",
       "    </tr>\n",
       "    <tr>\n",
       "      <th>1</th>\n",
       "      <td>0.713637</td>\n",
       "      <td>0.884041</td>\n",
       "      <td>0.567054</td>\n",
       "      <td>0.994482</td>\n",
       "    </tr>\n",
       "    <tr>\n",
       "      <th>2</th>\n",
       "      <td>0.178740</td>\n",
       "      <td>0.012200</td>\n",
       "      <td>0.456998</td>\n",
       "      <td>0.931752</td>\n",
       "    </tr>\n",
       "    <tr>\n",
       "      <th>3</th>\n",
       "      <td>0.846025</td>\n",
       "      <td>0.473330</td>\n",
       "      <td>0.902555</td>\n",
       "      <td>0.225996</td>\n",
       "    </tr>\n",
       "    <tr>\n",
       "      <th>4</th>\n",
       "      <td>0.304154</td>\n",
       "      <td>0.714994</td>\n",
       "      <td>0.724091</td>\n",
       "      <td>0.018676</td>\n",
       "    </tr>\n",
       "    <tr>\n",
       "      <th>5</th>\n",
       "      <td>0.285813</td>\n",
       "      <td>0.580486</td>\n",
       "      <td>0.930787</td>\n",
       "      <td>0.338997</td>\n",
       "    </tr>\n",
       "    <tr>\n",
       "      <th>6</th>\n",
       "      <td>0.120083</td>\n",
       "      <td>0.516273</td>\n",
       "      <td>0.699207</td>\n",
       "      <td>0.298641</td>\n",
       "    </tr>\n",
       "    <tr>\n",
       "      <th>7</th>\n",
       "      <td>0.861610</td>\n",
       "      <td>0.905807</td>\n",
       "      <td>0.768583</td>\n",
       "      <td>0.261232</td>\n",
       "    </tr>\n",
       "    <tr>\n",
       "      <th>8</th>\n",
       "      <td>0.938456</td>\n",
       "      <td>0.938642</td>\n",
       "      <td>0.745045</td>\n",
       "      <td>0.910735</td>\n",
       "    </tr>\n",
       "    <tr>\n",
       "      <th>9</th>\n",
       "      <td>0.237225</td>\n",
       "      <td>0.494967</td>\n",
       "      <td>0.809878</td>\n",
       "      <td>0.954566</td>\n",
       "    </tr>\n",
       "    <tr>\n",
       "      <th>10</th>\n",
       "      <td>0.637483</td>\n",
       "      <td>0.910850</td>\n",
       "      <td>0.692137</td>\n",
       "      <td>0.042943</td>\n",
       "    </tr>\n",
       "    <tr>\n",
       "      <th>11</th>\n",
       "      <td>0.833587</td>\n",
       "      <td>0.369949</td>\n",
       "      <td>0.936557</td>\n",
       "      <td>0.483053</td>\n",
       "    </tr>\n",
       "    <tr>\n",
       "      <th>12</th>\n",
       "      <td>0.125332</td>\n",
       "      <td>0.964454</td>\n",
       "      <td>0.017026</td>\n",
       "      <td>0.676571</td>\n",
       "    </tr>\n",
       "    <tr>\n",
       "      <th>13</th>\n",
       "      <td>0.140440</td>\n",
       "      <td>0.155313</td>\n",
       "      <td>0.649558</td>\n",
       "      <td>0.981654</td>\n",
       "    </tr>\n",
       "    <tr>\n",
       "      <th>14</th>\n",
       "      <td>0.694807</td>\n",
       "      <td>0.761974</td>\n",
       "      <td>0.425209</td>\n",
       "      <td>0.138893</td>\n",
       "    </tr>\n",
       "    <tr>\n",
       "      <th>15</th>\n",
       "      <td>0.216186</td>\n",
       "      <td>0.764700</td>\n",
       "      <td>0.054606</td>\n",
       "      <td>0.490123</td>\n",
       "    </tr>\n",
       "    <tr>\n",
       "      <th>16</th>\n",
       "      <td>0.180690</td>\n",
       "      <td>0.630925</td>\n",
       "      <td>0.551242</td>\n",
       "      <td>0.567081</td>\n",
       "    </tr>\n",
       "    <tr>\n",
       "      <th>17</th>\n",
       "      <td>0.818345</td>\n",
       "      <td>0.938987</td>\n",
       "      <td>0.192901</td>\n",
       "      <td>0.712844</td>\n",
       "    </tr>\n",
       "    <tr>\n",
       "      <th>18</th>\n",
       "      <td>0.697940</td>\n",
       "      <td>0.258296</td>\n",
       "      <td>0.915808</td>\n",
       "      <td>0.532358</td>\n",
       "    </tr>\n",
       "    <tr>\n",
       "      <th>19</th>\n",
       "      <td>0.557964</td>\n",
       "      <td>0.322772</td>\n",
       "      <td>0.338631</td>\n",
       "      <td>0.332302</td>\n",
       "    </tr>\n",
       "    <tr>\n",
       "      <th>20</th>\n",
       "      <td>0.978818</td>\n",
       "      <td>0.203215</td>\n",
       "      <td>0.667026</td>\n",
       "      <td>0.574784</td>\n",
       "    </tr>\n",
       "    <tr>\n",
       "      <th>21</th>\n",
       "      <td>0.051975</td>\n",
       "      <td>0.542838</td>\n",
       "      <td>0.207949</td>\n",
       "      <td>0.091090</td>\n",
       "    </tr>\n",
       "    <tr>\n",
       "      <th>22</th>\n",
       "      <td>0.869856</td>\n",
       "      <td>0.027370</td>\n",
       "      <td>0.968625</td>\n",
       "      <td>0.327500</td>\n",
       "    </tr>\n",
       "    <tr>\n",
       "      <th>23</th>\n",
       "      <td>0.410278</td>\n",
       "      <td>0.135544</td>\n",
       "      <td>0.127066</td>\n",
       "      <td>0.413984</td>\n",
       "    </tr>\n",
       "    <tr>\n",
       "      <th>24</th>\n",
       "      <td>0.617444</td>\n",
       "      <td>0.132267</td>\n",
       "      <td>0.974481</td>\n",
       "      <td>0.180635</td>\n",
       "    </tr>\n",
       "    <tr>\n",
       "      <th>25</th>\n",
       "      <td>0.760350</td>\n",
       "      <td>0.482162</td>\n",
       "      <td>0.768079</td>\n",
       "      <td>0.302898</td>\n",
       "    </tr>\n",
       "    <tr>\n",
       "      <th>26</th>\n",
       "      <td>0.015175</td>\n",
       "      <td>0.463369</td>\n",
       "      <td>0.703337</td>\n",
       "      <td>0.066041</td>\n",
       "    </tr>\n",
       "    <tr>\n",
       "      <th>27</th>\n",
       "      <td>0.669011</td>\n",
       "      <td>0.345479</td>\n",
       "      <td>0.591721</td>\n",
       "      <td>0.229053</td>\n",
       "    </tr>\n",
       "    <tr>\n",
       "      <th>28</th>\n",
       "      <td>0.267568</td>\n",
       "      <td>0.932827</td>\n",
       "      <td>0.826145</td>\n",
       "      <td>0.145443</td>\n",
       "    </tr>\n",
       "    <tr>\n",
       "      <th>29</th>\n",
       "      <td>0.647004</td>\n",
       "      <td>0.883951</td>\n",
       "      <td>0.741361</td>\n",
       "      <td>0.515711</td>\n",
       "    </tr>\n",
       "    <tr>\n",
       "      <th>30</th>\n",
       "      <td>0.135252</td>\n",
       "      <td>0.039884</td>\n",
       "      <td>0.834322</td>\n",
       "      <td>0.117058</td>\n",
       "    </tr>\n",
       "    <tr>\n",
       "      <th>31</th>\n",
       "      <td>0.523102</td>\n",
       "      <td>0.873058</td>\n",
       "      <td>0.038708</td>\n",
       "      <td>0.692391</td>\n",
       "    </tr>\n",
       "    <tr>\n",
       "      <th>32</th>\n",
       "      <td>0.476268</td>\n",
       "      <td>0.169264</td>\n",
       "      <td>0.063172</td>\n",
       "      <td>0.032224</td>\n",
       "    </tr>\n",
       "    <tr>\n",
       "      <th>33</th>\n",
       "      <td>0.242431</td>\n",
       "      <td>0.112707</td>\n",
       "      <td>0.404990</td>\n",
       "      <td>0.042073</td>\n",
       "    </tr>\n",
       "    <tr>\n",
       "      <th>34</th>\n",
       "      <td>0.926565</td>\n",
       "      <td>0.935263</td>\n",
       "      <td>0.810427</td>\n",
       "      <td>0.188343</td>\n",
       "    </tr>\n",
       "    <tr>\n",
       "      <th>35</th>\n",
       "      <td>0.587318</td>\n",
       "      <td>0.903511</td>\n",
       "      <td>0.967342</td>\n",
       "      <td>0.067539</td>\n",
       "    </tr>\n",
       "    <tr>\n",
       "      <th>36</th>\n",
       "      <td>0.317586</td>\n",
       "      <td>0.696863</td>\n",
       "      <td>0.640265</td>\n",
       "      <td>0.632623</td>\n",
       "    </tr>\n",
       "    <tr>\n",
       "      <th>37</th>\n",
       "      <td>0.828751</td>\n",
       "      <td>0.713110</td>\n",
       "      <td>0.335480</td>\n",
       "      <td>0.167695</td>\n",
       "    </tr>\n",
       "    <tr>\n",
       "      <th>38</th>\n",
       "      <td>0.764690</td>\n",
       "      <td>0.359315</td>\n",
       "      <td>0.088005</td>\n",
       "      <td>0.729568</td>\n",
       "    </tr>\n",
       "    <tr>\n",
       "      <th>39</th>\n",
       "      <td>0.881050</td>\n",
       "      <td>0.041264</td>\n",
       "      <td>0.174868</td>\n",
       "      <td>0.420097</td>\n",
       "    </tr>\n",
       "    <tr>\n",
       "      <th>40</th>\n",
       "      <td>0.340607</td>\n",
       "      <td>0.044769</td>\n",
       "      <td>0.112891</td>\n",
       "      <td>0.438041</td>\n",
       "    </tr>\n",
       "    <tr>\n",
       "      <th>41</th>\n",
       "      <td>0.071073</td>\n",
       "      <td>0.816245</td>\n",
       "      <td>0.866116</td>\n",
       "      <td>0.131120</td>\n",
       "    </tr>\n",
       "    <tr>\n",
       "      <th>42</th>\n",
       "      <td>0.193219</td>\n",
       "      <td>0.437493</td>\n",
       "      <td>0.970925</td>\n",
       "      <td>0.773861</td>\n",
       "    </tr>\n",
       "    <tr>\n",
       "      <th>43</th>\n",
       "      <td>0.131776</td>\n",
       "      <td>0.927180</td>\n",
       "      <td>0.827797</td>\n",
       "      <td>0.392732</td>\n",
       "    </tr>\n",
       "    <tr>\n",
       "      <th>44</th>\n",
       "      <td>0.140571</td>\n",
       "      <td>0.052136</td>\n",
       "      <td>0.092729</td>\n",
       "      <td>0.886990</td>\n",
       "    </tr>\n",
       "    <tr>\n",
       "      <th>45</th>\n",
       "      <td>0.168151</td>\n",
       "      <td>0.362887</td>\n",
       "      <td>0.654282</td>\n",
       "      <td>0.604822</td>\n",
       "    </tr>\n",
       "    <tr>\n",
       "      <th>46</th>\n",
       "      <td>0.394993</td>\n",
       "      <td>0.374605</td>\n",
       "      <td>0.063073</td>\n",
       "      <td>0.428959</td>\n",
       "    </tr>\n",
       "    <tr>\n",
       "      <th>47</th>\n",
       "      <td>0.719721</td>\n",
       "      <td>0.768031</td>\n",
       "      <td>0.194368</td>\n",
       "      <td>0.862871</td>\n",
       "    </tr>\n",
       "    <tr>\n",
       "      <th>48</th>\n",
       "      <td>0.028722</td>\n",
       "      <td>0.902129</td>\n",
       "      <td>0.236546</td>\n",
       "      <td>0.128584</td>\n",
       "    </tr>\n",
       "    <tr>\n",
       "      <th>49</th>\n",
       "      <td>0.317876</td>\n",
       "      <td>0.848761</td>\n",
       "      <td>0.832298</td>\n",
       "      <td>0.345651</td>\n",
       "    </tr>\n",
       "  </tbody>\n",
       "</table>\n",
       "</div>"
      ],
      "text/plain": [
       "           a         b         c         d\n",
       "0   0.753544  0.270584  0.522303  0.098329\n",
       "1   0.713637  0.884041  0.567054  0.994482\n",
       "2   0.178740  0.012200  0.456998  0.931752\n",
       "3   0.846025  0.473330  0.902555  0.225996\n",
       "4   0.304154  0.714994  0.724091  0.018676\n",
       "5   0.285813  0.580486  0.930787  0.338997\n",
       "6   0.120083  0.516273  0.699207  0.298641\n",
       "7   0.861610  0.905807  0.768583  0.261232\n",
       "8   0.938456  0.938642  0.745045  0.910735\n",
       "9   0.237225  0.494967  0.809878  0.954566\n",
       "10  0.637483  0.910850  0.692137  0.042943\n",
       "11  0.833587  0.369949  0.936557  0.483053\n",
       "12  0.125332  0.964454  0.017026  0.676571\n",
       "13  0.140440  0.155313  0.649558  0.981654\n",
       "14  0.694807  0.761974  0.425209  0.138893\n",
       "15  0.216186  0.764700  0.054606  0.490123\n",
       "16  0.180690  0.630925  0.551242  0.567081\n",
       "17  0.818345  0.938987  0.192901  0.712844\n",
       "18  0.697940  0.258296  0.915808  0.532358\n",
       "19  0.557964  0.322772  0.338631  0.332302\n",
       "20  0.978818  0.203215  0.667026  0.574784\n",
       "21  0.051975  0.542838  0.207949  0.091090\n",
       "22  0.869856  0.027370  0.968625  0.327500\n",
       "23  0.410278  0.135544  0.127066  0.413984\n",
       "24  0.617444  0.132267  0.974481  0.180635\n",
       "25  0.760350  0.482162  0.768079  0.302898\n",
       "26  0.015175  0.463369  0.703337  0.066041\n",
       "27  0.669011  0.345479  0.591721  0.229053\n",
       "28  0.267568  0.932827  0.826145  0.145443\n",
       "29  0.647004  0.883951  0.741361  0.515711\n",
       "30  0.135252  0.039884  0.834322  0.117058\n",
       "31  0.523102  0.873058  0.038708  0.692391\n",
       "32  0.476268  0.169264  0.063172  0.032224\n",
       "33  0.242431  0.112707  0.404990  0.042073\n",
       "34  0.926565  0.935263  0.810427  0.188343\n",
       "35  0.587318  0.903511  0.967342  0.067539\n",
       "36  0.317586  0.696863  0.640265  0.632623\n",
       "37  0.828751  0.713110  0.335480  0.167695\n",
       "38  0.764690  0.359315  0.088005  0.729568\n",
       "39  0.881050  0.041264  0.174868  0.420097\n",
       "40  0.340607  0.044769  0.112891  0.438041\n",
       "41  0.071073  0.816245  0.866116  0.131120\n",
       "42  0.193219  0.437493  0.970925  0.773861\n",
       "43  0.131776  0.927180  0.827797  0.392732\n",
       "44  0.140571  0.052136  0.092729  0.886990\n",
       "45  0.168151  0.362887  0.654282  0.604822\n",
       "46  0.394993  0.374605  0.063073  0.428959\n",
       "47  0.719721  0.768031  0.194368  0.862871\n",
       "48  0.028722  0.902129  0.236546  0.128584\n",
       "49  0.317876  0.848761  0.832298  0.345651"
      ]
     },
     "execution_count": 23,
     "metadata": {},
     "output_type": "execute_result"
    }
   ],
   "source": [
    "df2 = pd.DataFrame(np.random.rand(50,4), columns=['a','b','c','d'])\n",
    "df2"
   ]
  },
  {
   "cell_type": "code",
   "execution_count": 28,
   "metadata": {},
   "outputs": [
    {
     "data": {
      "text/plain": [
       "<AxesSubplot:xlabel='a', ylabel='b'>"
      ]
     },
     "execution_count": 28,
     "metadata": {},
     "output_type": "execute_result"
    },
    {
     "data": {
      "image/png": "[encoded data removed]",
      "text/plain": [
       "<Figure size 432x288 with 1 Axes>"
      ]
     },
     "metadata": {
      "needs_background": "light"
     },
     "output_type": "display_data"
    }
   ],
   "source": [
    "df2.plot.scatter(x='a',y='b', s=50, grid=True)\n",
    "# S = 점의 크기"
   ]
  },
  {
   "cell_type": "code",
   "execution_count": 30,
   "metadata": {},
   "outputs": [
    {
     "data": {
      "text/plain": [
       "<AxesSubplot:xlabel='c', ylabel='d'>"
      ]
     },
     "execution_count": 30,
     "metadata": {},
     "output_type": "execute_result"
    },
    {
     "data": {
      "image/png": "[encoded data removed]",
      "text/plain": [
       "<Figure size 432x288 with 1 Axes>"
      ]
     },
     "metadata": {
      "needs_background": "light"
     },
     "output_type": "display_data"
    }
   ],
   "source": [
    "ax = df2.plot.scatter(x='a', y='b', color='DarkRed', label='Group 1')\n",
    "df2.plot.scatter(x='c', y='d', color='DarkGreen', label='Group 2', ax=ax)\n",
    "# scatter plot을 2번 그림 ax를 두번째 코드에 넣음"
   ]
  },
  {
   "cell_type": "code",
   "execution_count": 32,
   "metadata": {},
   "outputs": [
    {
     "data": {
      "text/plain": [
       "<AxesSubplot:xlabel='a', ylabel='b'>"
      ]
     },
     "execution_count": 32,
     "metadata": {},
     "output_type": "execute_result"
    },
    {
     "data": {
      "image/png": "[encoded data removed]",
      "text/plain": [
       "<Figure size 432x288 with 2 Axes>"
      ]
     },
     "metadata": {
      "needs_background": "light"
     },
     "output_type": "display_data"
    }
   ],
   "source": [
    "# 3개의 축에 표현\n",
    "df2.plot.scatter(x='a',y='b',c='c', s=80)"
   ]
  },
  {
   "cell_type": "code",
   "execution_count": 38,
   "metadata": {
    "scrolled": true
   },
   "outputs": [
    {
     "data": {
      "text/plain": [
       "<AxesSubplot:xlabel='a', ylabel='b'>"
      ]
     },
     "execution_count": 38,
     "metadata": {},
     "output_type": "execute_result"
    },
    {
     "data": {
      "image/png": "[encoded data removed]",
      "text/plain": [
       "<Figure size 432x288 with 1 Axes>"
      ]
     },
     "metadata": {
      "needs_background": "light"
     },
     "output_type": "display_data"
    }
   ],
   "source": [
    "#df2.plot.scatter(x='a',y='b', s=df['c']*200)\n",
    "\n",
    "df.plot.scatter(x='a', y='b', s=df['c'] * 200)"
   ]
  },
  {
   "cell_type": "code",
   "execution_count": null,
   "metadata": {},
   "outputs": [],
   "source": []
  }
 ],
 "metadata": {
  "kernelspec": {
   "display_name": "Python 3",
   "language": "python",
   "name": "python3"
  },
  "language_info": {
   "codemirror_mode": {
    "name": "ipython",
    "version": 3
   },
   "file_extension": ".py",
   "mimetype": "text/x-python",
   "name": "python",
   "nbconvert_exporter": "python",
   "pygments_lexer": "ipython3",
   "version": "3.8.5"
  },
  "toc": {
   "base_numbering": 1,
   "nav_menu": {},
   "number_sections": true,
   "sideBar": true,
   "skip_h1_title": false,
   "title_cell": "Table of Contents",
   "title_sidebar": "Contents",
   "toc_cell": false,
   "toc_position": {},
   "toc_section_display": true,
   "toc_window_display": false
  },
  "varInspector": {
   "cols": {
    "lenName": 16,
    "lenType": 16,
    "lenVar": 40
   },
   "kernels_config": {
    "python": {
     "delete_cmd_postfix": "",
     "delete_cmd_prefix": "del ",
     "library": "var_list.py",
     "varRefreshCmd": "print(var_dic_list())"
    },
    "r": {
     "delete_cmd_postfix": ") ",
     "delete_cmd_prefix": "rm(",
     "library": "var_list.r",
     "varRefreshCmd": "cat(var_dic_list()) "
    }
   },
   "types_to_exclude": [
    "module",
    "function",
    "builtin_function_or_method",
    "instance",
    "_Feature"
   ],
   "window_display": false
  }
 },
 "nbformat": 4,
 "nbformat_minor": 4
}
